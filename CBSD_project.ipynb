{
  "nbformat": 4,
  "nbformat_minor": 0,
  "metadata": {
    "colab": {
      "provenance": [],
      "collapsed_sections": [
        "H_F0WpTwupJg",
        "EIE6svxyxj2M",
        "ZSGEZQYNzpvU"
      ],
      "toc_visible": true
    },
    "kernelspec": {
      "name": "python3",
      "display_name": "Python 3"
    },
    "language_info": {
      "name": "python"
    },
    "gpuClass": "standard"
  },
  "cells": [
    {
      "cell_type": "markdown",
      "source": [
        "# Progetto Cognitive"
      ],
      "metadata": {
        "id": "Jgj4eL0BYeeJ"
      }
    },
    {
      "cell_type": "code",
      "execution_count": 1,
      "metadata": {
        "id": "AQPSISUPTVC3"
      },
      "outputs": [],
      "source": [
        "#libraries\n",
        "\n",
        "import numpy as np\n",
        "import pandas as pd\n",
        "from matplotlib import pyplot as plt\n",
        "from google.colab import files\n",
        "import io\n",
        "from sklearn.model_selection import train_test_split\n",
        "from sklearn.ensemble import RandomForestClassifier\n",
        "from sklearn.tree import DecisionTreeClassifier\n",
        "from sklearn.metrics import accuracy_score\n",
        "from tensorflow.keras.utils import to_categorical \n",
        "import seaborn as sns\n",
        "\n",
        "#mount drive\n",
        "\n",
        "#from google.colab import drive\n",
        "#drive.mount(\"/content/gdrive\")"
      ]
    },
    {
      "cell_type": "code",
      "source": [
        "url = \"https://raw.githubusercontent.com/andreamarchini/Cognitive/main/PID5_df.csv\"\n",
        "\n",
        "data = pd.read_csv(url, sep = \";\")\n",
        "\n",
        "honest = data[data['CONDITION'] == 'H']\n",
        "dishonest = data[data['CONDITION'] == 'D']\n"
      ],
      "metadata": {
        "id": "tvxAgELD6281"
      },
      "execution_count": null,
      "outputs": []
    },
    {
      "cell_type": "code",
      "source": [
        "#split X and y\n",
        "X = data.iloc[:,0:data.shape[1]-1]\n",
        "X = X.to_numpy()\n",
        "X_norm = X/5\n",
        "\n",
        "y = data['CONDITION']"
      ],
      "metadata": {
        "id": "5AxKrbl13DwT"
      },
      "execution_count": null,
      "outputs": []
    },
    {
      "cell_type": "code",
      "source": [
        "X"
      ],
      "metadata": {
        "colab": {
          "base_uri": "https://localhost:8080/"
        },
        "id": "X2zOtgBGy6Jz",
        "outputId": "99f81075-43ad-4ee2-a809-7e25311e6b90"
      },
      "execution_count": null,
      "outputs": [
        {
          "output_type": "execute_result",
          "data": {
            "text/plain": [
              "array([[0, 0, 2, ..., 0, 0, 2],\n",
              "       [0, 1, 1, ..., 1, 0, 1],\n",
              "       [1, 0, 0, ..., 2, 1, 2],\n",
              "       ...,\n",
              "       [3, 0, 1, ..., 3, 3, 0],\n",
              "       [3, 3, 2, ..., 3, 3, 3],\n",
              "       [3, 3, 3, ..., 3, 3, 3]])"
            ]
          },
          "metadata": {},
          "execution_count": 20
        }
      ]
    },
    {
      "cell_type": "code",
      "source": [
        "#0 is honest, 1 is disonest\n",
        "y1 = np.zeros(412)\n",
        "y2 = np.ones(412)\n",
        "y = np.concatenate((y1, y2), axis = None)\n"
      ],
      "metadata": {
        "id": "O3lf7kaTAign"
      },
      "execution_count": null,
      "outputs": []
    },
    {
      "cell_type": "code",
      "source": [
        "#train test split\n",
        "X_train_val, X_test, y_train_val, y_test = train_test_split(\n",
        "    X, y, test_size = 0.15, shuffle = True\n",
        ")\n",
        "X_train, X_val, y_train, y_val = train_test_split(\n",
        "    X_train_val, y_train_val, test_size = 0.10, shuffle = True\n",
        ")\n"
      ],
      "metadata": {
        "id": "jgiWotOX9nvx"
      },
      "execution_count": null,
      "outputs": []
    },
    {
      "cell_type": "code",
      "source": [
        "y_test"
      ],
      "metadata": {
        "colab": {
          "base_uri": "https://localhost:8080/"
        },
        "id": "44OjMOkTJBU3",
        "outputId": "49626dd5-bb62-48a6-d9e9-4661f698dc32"
      },
      "execution_count": null,
      "outputs": [
        {
          "output_type": "execute_result",
          "data": {
            "text/plain": [
              "array([0., 1., 0., 1., 1., 1., 1., 0., 0., 0., 1., 0., 1., 1., 1., 0., 1.,\n",
              "       1., 1., 0., 0., 1., 0., 0., 1., 0., 0., 1., 0., 0., 0., 1., 1., 0.,\n",
              "       0., 1., 1., 0., 0., 1., 1., 1., 0., 0., 0., 0., 0., 0., 0., 1., 0.,\n",
              "       0., 0., 1., 0., 0., 1., 1., 1., 0., 0., 1., 0., 0., 1., 1., 0., 0.,\n",
              "       1., 0., 0., 0., 0., 1., 0., 0., 1., 1., 0., 1., 0., 0., 1., 0., 0.,\n",
              "       1., 1., 0., 0., 1., 0., 0., 0., 0., 0., 1., 1., 1., 1., 1., 1., 0.,\n",
              "       1., 0., 1., 1., 1., 0., 1., 1., 1., 0., 1., 0., 0., 1., 1., 1., 1.,\n",
              "       0., 0., 1., 0., 0.])"
            ]
          },
          "metadata": {},
          "execution_count": 23
        }
      ]
    },
    {
      "cell_type": "code",
      "source": [
        "#try Random Forest\n",
        "clf_forest = RandomForestClassifier(max_depth = 10, random_state = 0)\n",
        "\n",
        "clf_forest.fit(X, y)\n",
        "# y_pred_forest = clf_forest.predict(X_test)\n",
        "\n",
        "# acc_forest = accuracy_score(y_test, y_pred_forest)\n",
        "\n",
        "# print(acc_forest)"
      ],
      "metadata": {
        "colab": {
          "base_uri": "https://localhost:8080/"
        },
        "id": "X4Yd0nt14ZG6",
        "outputId": "1ad21f12-b6be-473a-edc2-1aae28af68bf"
      },
      "execution_count": null,
      "outputs": [
        {
          "output_type": "execute_result",
          "data": {
            "text/plain": [
              "RandomForestClassifier(max_depth=10, random_state=0)"
            ]
          },
          "metadata": {},
          "execution_count": 24
        }
      ]
    },
    {
      "cell_type": "code",
      "source": [
        "clf_forest.feature_importances_"
      ],
      "metadata": {
        "colab": {
          "base_uri": "https://localhost:8080/"
        },
        "id": "Z6EdRAbv4kiS",
        "outputId": "43625e80-18c1-471e-92d8-151fb08ac116"
      },
      "execution_count": null,
      "outputs": [
        {
          "output_type": "execute_result",
          "data": {
            "text/plain": [
              "array([0.00428031, 0.07808357, 0.00143411, 0.00669608, 0.00219812,\n",
              "       0.0007707 , 0.00195443, 0.00074702, 0.00204499, 0.0014696 ,\n",
              "       0.00639889, 0.00082183, 0.00054574, 0.00016329, 0.00124058,\n",
              "       0.00303074, 0.00820599, 0.00086328, 0.01061632, 0.00058616,\n",
              "       0.00113099, 0.00679659, 0.0004394 , 0.010814  , 0.00218688,\n",
              "       0.00958865, 0.00055539, 0.00042753, 0.00071652, 0.00060158,\n",
              "       0.00394979, 0.00143503, 0.0009001 , 0.0016707 , 0.00099883,\n",
              "       0.03440742, 0.03498516, 0.00142324, 0.00077237, 0.0004497 ,\n",
              "       0.00252156, 0.00569841, 0.00053651, 0.00295363, 0.00117598,\n",
              "       0.00166423, 0.00033562, 0.00080716, 0.00038823, 0.00133662,\n",
              "       0.00091494, 0.01696791, 0.00805646, 0.01190061, 0.00627098,\n",
              "       0.00501027, 0.00606146, 0.00363947, 0.00162557, 0.00055856,\n",
              "       0.00071178, 0.00123267, 0.00068055, 0.00950141, 0.00100127,\n",
              "       0.00046827, 0.00069499, 0.00040252, 0.00241382, 0.00972602,\n",
              "       0.00826468, 0.01535604, 0.00156436, 0.00100037, 0.00108752,\n",
              "       0.00166936, 0.00196412, 0.00133079, 0.00066327, 0.00047686,\n",
              "       0.00376671, 0.00081199, 0.00201675, 0.0006762 , 0.00116926,\n",
              "       0.00059885, 0.00174899, 0.00017708, 0.00030338, 0.00136858,\n",
              "       0.00053514, 0.00247431, 0.00158339, 0.00043564, 0.000701  ,\n",
              "       0.00190499, 0.00138302, 0.00126654, 0.001472  , 0.00081726,\n",
              "       0.00163019, 0.00104471, 0.00268754, 0.00128688, 0.001166  ,\n",
              "       0.00665225, 0.00055752, 0.00176042, 0.00057794, 0.00062139,\n",
              "       0.00228017, 0.0021981 , 0.00080446, 0.00150264, 0.00048298,\n",
              "       0.00086353, 0.00074223, 0.00050113, 0.00060477, 0.00054697,\n",
              "       0.00050536, 0.00056903, 0.00109315, 0.0005556 , 0.00180943,\n",
              "       0.00342866, 0.00163426, 0.00123803, 0.00057801, 0.00143598,\n",
              "       0.00569073, 0.00079441, 0.04788315, 0.00267979, 0.00048337,\n",
              "       0.008696  , 0.00071248, 0.00214483, 0.02462003, 0.00072718,\n",
              "       0.00063196, 0.00141324, 0.00193391, 0.00092014, 0.00103594,\n",
              "       0.00525065, 0.00186765, 0.00229665, 0.00216035, 0.00186694,\n",
              "       0.00132945, 0.01621507, 0.06450104, 0.03040773, 0.00133709,\n",
              "       0.0029497 , 0.00136343, 0.00162346, 0.00195904, 0.003264  ,\n",
              "       0.00047266, 0.00129931, 0.00230907, 0.00392004, 0.00048537,\n",
              "       0.01370564, 0.00083515, 0.00159592, 0.00686189, 0.00030284,\n",
              "       0.0019045 , 0.01999563, 0.00085563, 0.00158721, 0.00262416,\n",
              "       0.00105994, 0.00195973, 0.0116466 , 0.00144784, 0.00061473,\n",
              "       0.0011866 , 0.00134208, 0.0043755 , 0.00071009, 0.01988921,\n",
              "       0.00068865, 0.00334538, 0.00062413, 0.00123848, 0.03715165,\n",
              "       0.0008328 , 0.02460346, 0.00112071, 0.00055546, 0.00589593,\n",
              "       0.00123521, 0.0018774 , 0.01571334, 0.00053121, 0.00067604,\n",
              "       0.00289345, 0.00102535, 0.00345187, 0.001467  , 0.01432035,\n",
              "       0.00410589, 0.01620173, 0.02422544, 0.005862  , 0.00049745,\n",
              "       0.0010056 , 0.00168376, 0.00566859, 0.00102504, 0.00107101,\n",
              "       0.00115213, 0.01831285, 0.00102674, 0.00451435, 0.00104597])"
            ]
          },
          "metadata": {},
          "execution_count": 25
        }
      ]
    },
    {
      "cell_type": "code",
      "source": [
        "#try Random Forest\n",
        "clf_forest = RandomForestClassifier(max_depth = 4, random_state = 0)\n",
        "\n",
        "clf_forest.fit(X_train_val, y_train_val)\n",
        "y_pred_forest = clf_forest.predict(X_test)\n",
        "\n",
        "acc_forest = accuracy_score(y_test, y_pred_forest)\n",
        "\n",
        "print(acc_forest)"
      ],
      "metadata": {
        "colab": {
          "base_uri": "https://localhost:8080/"
        },
        "id": "LjOLxDFN-r6l",
        "outputId": "b3b7eff2-4a6b-4713-a50a-de83cccf4d9d"
      },
      "execution_count": null,
      "outputs": [
        {
          "output_type": "stream",
          "name": "stdout",
          "text": [
            "0.967741935483871\n"
          ]
        }
      ]
    },
    {
      "cell_type": "code",
      "source": [
        "clf_tree = DecisionTreeClassifier(random_state = 0)\n",
        "clf_tree.fit(X_train_val, y_train_val)\n",
        "y_pred_tree = clf_tree.predict(X_test)\n",
        "\n",
        "acc_tree = accuracy_score(y_test, y_pred_tree)\n",
        "\n",
        "print(acc_tree)"
      ],
      "metadata": {
        "colab": {
          "base_uri": "https://localhost:8080/"
        },
        "id": "-Vk8k1mCGXyg",
        "outputId": "27fa85d7-477f-4c3e-92d6-b766127b2a32"
      },
      "execution_count": null,
      "outputs": [
        {
          "output_type": "stream",
          "name": "stdout",
          "text": [
            "0.8951612903225806\n"
          ]
        }
      ]
    },
    {
      "cell_type": "code",
      "source": [
        "feats = []\n",
        "for i in range(len(clf_forest.feature_importances_)):\n",
        "  feats.append((i,clf_forest.feature_importances_[i]))\n",
        "feats.sort(reverse = True, key = lambda x: x[1])\n",
        "\n",
        "for elem in feats:\n",
        "  print(\"question\",elem[0],\": \",elem[1])"
      ],
      "metadata": {
        "colab": {
          "base_uri": "https://localhost:8080/"
        },
        "id": "oicEgce8Ey1w",
        "outputId": "78b43c11-ab93-423e-81f0-51ed6875588b"
      },
      "execution_count": null,
      "outputs": [
        {
          "output_type": "stream",
          "name": "stdout",
          "text": [
            "question 1 :  0.0799051658363773\n",
            "question 152 :  0.06330881729687729\n",
            "question 189 :  0.059359255268349384\n",
            "question 132 :  0.053322049549863346\n",
            "question 36 :  0.04050119668063004\n",
            "question 171 :  0.03576199243058581\n",
            "question 165 :  0.03513158464608455\n",
            "question 35 :  0.03431633942854537\n",
            "question 191 :  0.03147473565575349\n",
            "question 216 :  0.025662279092125664\n",
            "question 206 :  0.024783244450574168\n",
            "question 151 :  0.024688867459220422\n",
            "question 184 :  0.023845155295299483\n",
            "question 71 :  0.02342225724104082\n",
            "question 18 :  0.021054962543203267\n",
            "question 153 :  0.019212065821059453\n",
            "question 3 :  0.018560008437732242\n",
            "question 51 :  0.017978648826666707\n",
            "question 70 :  0.016191381640897447\n",
            "question 207 :  0.014426942031252745\n",
            "question 197 :  0.014099865734190023\n",
            "question 53 :  0.01357146386887645\n",
            "question 142 :  0.01308425345594795\n",
            "question 135 :  0.012859824321789028\n",
            "question 21 :  0.012093989369811509\n",
            "question 204 :  0.011913958340761609\n",
            "question 182 :  0.011569271324956998\n",
            "question 200 :  0.011284520791556793\n",
            "question 138 :  0.009758881722543059\n",
            "question 43 :  0.00814908299595401\n",
            "question 177 :  0.007889771438345898\n",
            "question 56 :  0.00766105918260525\n",
            "question 208 :  0.007573351458808906\n",
            "question 54 :  0.006846089655404455\n",
            "question 69 :  0.006843627757112694\n",
            "question 63 :  0.006231259616060345\n",
            "question 102 :  0.006145042289358276\n",
            "question 16 :  0.005836364966530728\n",
            "question 25 :  0.0057936902300896945\n",
            "question 194 :  0.005582765434097685\n",
            "question 158 :  0.005459122185042298\n",
            "question 30 :  0.005297262395507147\n",
            "question 80 :  0.005158934296974615\n",
            "question 212 :  0.0049911642798336295\n",
            "question 10 :  0.004767748023879517\n",
            "question 159 :  0.004606120770844967\n",
            "question 145 :  0.0045851669142020915\n",
            "question 15 :  0.004459648388223799\n",
            "question 218 :  0.004337669663479731\n",
            "question 0 :  0.004247190807768441\n",
            "question 186 :  0.0035526245454509547\n",
            "question 148 :  0.0034885167881094203\n",
            "question 168 :  0.0032713593851569924\n",
            "question 133 :  0.0029199864492257355\n",
            "question 125 :  0.002856794096137893\n",
            "question 174 :  0.0024814831528343164\n",
            "question 146 :  0.0022537006809944106\n",
            "question 52 :  0.002224891858178783\n",
            "question 96 :  0.0021634968412845425\n",
            "question 185 :  0.0017923335610687547\n",
            "question 47 :  0.0017603662340311935\n",
            "question 105 :  0.0017524363362246042\n",
            "question 217 :  0.0017495846225263959\n",
            "question 205 :  0.0017423307574342326\n",
            "question 24 :  0.0017266706026660434\n",
            "question 42 :  0.0017041330255086\n",
            "question 137 :  0.0016952499881455884\n",
            "question 162 :  0.001690217611354931\n",
            "question 167 :  0.0015063459760475345\n",
            "question 58 :  0.001461990977593555\n",
            "question 130 :  0.0013752304891087703\n",
            "question 40 :  0.0013614057561608817\n",
            "question 196 :  0.0013023801438164675\n",
            "question 41 :  0.0012372150694943507\n",
            "question 170 :  0.0012271282238284955\n",
            "question 82 :  0.001191953975955412\n",
            "question 149 :  0.0011559825401517953\n",
            "question 181 :  0.0011554618092783216\n",
            "question 160 :  0.0011399273913556217\n",
            "question 76 :  0.0011323315889673155\n",
            "question 111 :  0.0011317241412305981\n",
            "question 115 :  0.0010887736826957373\n",
            "question 175 :  0.0010720743214279562\n",
            "question 163 :  0.0010695156518872714\n",
            "question 199 :  0.0010224623883814956\n",
            "question 57 :  0.0010143841151331974\n",
            "question 113 :  0.0010085740721549497\n",
            "question 33 :  0.0009983804911737277\n",
            "question 188 :  0.0009948313873408604\n",
            "question 157 :  0.0009626425414438769\n",
            "question 72 :  0.0009528451213136098\n",
            "question 55 :  0.0008355407979132157\n",
            "question 202 :  0.0008156979213185733\n",
            "question 141 :  0.0008132899067534286\n",
            "question 211 :  0.0008118758078988338\n",
            "question 100 :  0.0007778884420874152\n",
            "question 179 :  0.0007745868648079319\n",
            "question 166 :  0.0007630455937759612\n",
            "question 124 :  0.0007235592970347747\n",
            "question 79 :  0.0007121525650453321\n",
            "question 193 :  0.0007051973456447417\n",
            "question 64 :  0.0007029768599072956\n",
            "question 59 :  0.0006788382682903811\n",
            "question 190 :  0.0006748499578821518\n",
            "question 155 :  0.0006699087570663013\n",
            "question 187 :  0.0006445360183245602\n",
            "question 178 :  0.0006406773460197469\n",
            "question 118 :  0.000639564301559744\n",
            "question 49 :  0.0006318512665994749\n",
            "question 23 :  0.0006294107059363778\n",
            "question 8 :  0.000629347131617914\n",
            "question 154 :  0.0006006613677911028\n",
            "question 17 :  0.0005615947310795097\n",
            "question 81 :  0.0005405094469769118\n",
            "question 88 :  0.0005354628929974491\n",
            "question 110 :  0.0005177434949187019\n",
            "question 61 :  0.000515850480002893\n",
            "question 147 :  0.0005036507660202777\n",
            "question 107 :  0.0004866832300075551\n",
            "question 123 :  0.0004818789175995364\n",
            "question 116 :  0.0004681037232304815\n",
            "question 65 :  0.0004412205891395833\n",
            "question 37 :  0.0004406015935964577\n",
            "question 173 :  0.0004349326800202434\n",
            "question 126 :  0.00043332774372653745\n",
            "question 98 :  0.00042701266527709095\n",
            "question 213 :  0.0004059000155297107\n",
            "question 131 :  0.0004054545632132466\n",
            "question 9 :  0.00040137494168333404\n",
            "question 108 :  0.00039341564190900743\n",
            "question 156 :  0.0003885456744536153\n",
            "question 86 :  0.00038635948839154847\n",
            "question 14 :  0.00038499811414772627\n",
            "question 78 :  0.0003793010686567156\n",
            "question 77 :  0.00036897078362632023\n",
            "question 62 :  0.0003657425634063268\n",
            "question 28 :  0.00035503195397544764\n",
            "question 11 :  0.00035065381737232974\n",
            "question 75 :  0.00033642891729184784\n",
            "question 143 :  0.00033597455224633715\n",
            "question 121 :  0.00033532641682062944\n",
            "question 68 :  0.0003219240122982049\n",
            "question 198 :  0.00031956894063157355\n",
            "question 95 :  0.00031620840498613404\n",
            "question 26 :  0.000302487180881994\n",
            "question 209 :  0.00028395363378921895\n",
            "question 219 :  0.0002800477199712505\n",
            "question 103 :  0.0002734641924945585\n",
            "question 109 :  0.0002716850119838267\n",
            "question 87 :  0.0002682391435541514\n",
            "question 122 :  0.00024851856001447965\n",
            "question 67 :  0.00024217745148819963\n",
            "question 215 :  0.0002133372699465953\n",
            "question 140 :  0.00020856673647420693\n",
            "question 139 :  0.00020828944347577667\n",
            "question 136 :  0.00019630138155466597\n",
            "question 34 :  0.0001942473239856672\n",
            "question 128 :  0.00019298947543952525\n",
            "question 144 :  0.0001926085086792789\n",
            "question 150 :  0.00018566611244589574\n",
            "question 164 :  0.0001819959942630083\n",
            "question 44 :  0.00017853132112910256\n",
            "question 74 :  0.0001779934365991497\n",
            "question 66 :  0.00016943424037678512\n",
            "question 20 :  0.00016916565769218284\n",
            "question 203 :  0.00016901685794514776\n",
            "question 119 :  0.00016699082218205838\n",
            "question 60 :  0.00016281697412076843\n",
            "question 201 :  0.0001624433115552556\n",
            "question 172 :  0.00015930927675744062\n",
            "question 91 :  0.00015559049781451373\n",
            "question 129 :  0.0001523862223050221\n",
            "question 90 :  0.00014944423732228827\n",
            "question 48 :  0.00014716915790450913\n",
            "question 39 :  0.00014691857566275898\n",
            "question 46 :  0.00014537413201865567\n",
            "question 45 :  0.00013650754899662484\n",
            "question 13 :  0.000133970954149855\n",
            "question 106 :  0.00013325746116726636\n",
            "question 32 :  0.0001309063847953969\n",
            "question 73 :  0.000128983716647023\n",
            "question 161 :  0.00012836712074426035\n",
            "question 6 :  0.00012548946735162924\n",
            "question 214 :  0.00012394312021107084\n",
            "question 97 :  0.0001219743381733041\n",
            "question 99 :  0.00012169295114152726\n",
            "question 38 :  0.00011221669160385373\n",
            "question 5 :  0.00011000970717253834\n",
            "question 134 :  0.00010509623901496994\n",
            "question 195 :  9.625136650030258e-05\n",
            "question 31 :  8.440516992356783e-05\n",
            "question 176 :  8.11602480525574e-05\n",
            "question 22 :  6.976520072789509e-05\n",
            "question 27 :  6.726690627673914e-05\n",
            "question 93 :  6.462501916315197e-05\n",
            "question 101 :  6.039146829725596e-05\n",
            "question 29 :  5.3975719136148496e-05\n",
            "question 180 :  5.354247662090038e-05\n",
            "question 4 :  5.3299551157791585e-05\n",
            "question 183 :  3.501513601830518e-05\n",
            "question 112 :  3.230536267081241e-05\n",
            "question 169 :  2.6002090621422624e-05\n",
            "question 50 :  2.5956124364410077e-05\n",
            "question 84 :  1.6403543991150234e-05\n",
            "question 2 :  0.0\n",
            "question 7 :  0.0\n",
            "question 12 :  0.0\n",
            "question 19 :  0.0\n",
            "question 83 :  0.0\n",
            "question 85 :  0.0\n",
            "question 89 :  0.0\n",
            "question 92 :  0.0\n",
            "question 94 :  0.0\n",
            "question 104 :  0.0\n",
            "question 114 :  0.0\n",
            "question 117 :  0.0\n",
            "question 120 :  0.0\n",
            "question 127 :  0.0\n",
            "question 192 :  0.0\n",
            "question 210 :  0.0\n"
          ]
        }
      ]
    },
    {
      "cell_type": "markdown",
      "source": [
        "## Some models"
      ],
      "metadata": {
        "id": "Mu0kAxHJuHEg"
      }
    },
    {
      "cell_type": "code",
      "source": [
        "import graphviz \n",
        "import sys\n",
        "import pandas as pd\n",
        "from IPython.display import display, HTML\n",
        "from sklearn.model_selection import GridSearchCV\n",
        "from sklearn.metrics import f1_score\n",
        "\n",
        "def model_train_evaluate(model,grid_params,X_train_val,y_train_val):\n",
        "  # train\n",
        "  print(\"Training...\")\n",
        "  model_v1 = GridSearchCV(model, grid_params, n_jobs= -1, cv = 5, return_train_score = True)\n",
        "  model_v1.fit(X_train_val, y_train_val)\n",
        " \n",
        "  # models comparison: prints a nice table with a comparison between different hyperparameters\n",
        "  # configurations. Note: if you can't see the table, open this file with Google Colab\n",
        "  results = pd.DataFrame(model_v1.cv_results_)\n",
        "  results = results.sort_values(by=[\"rank_test_score\"])\n",
        "  results = results[[\"params\", \"rank_test_score\",\"mean_train_score\",\"mean_test_score\"]]\n",
        "  display(HTML(results.to_html()))\n",
        "\n",
        "  # evaluate\n",
        "  print(\"Evaluating...\")  \n",
        "  y_train_val_pred = model_v1.predict(X_train_val)\n",
        "\n",
        "  # print results\n",
        "  model_name = model.__class__.__name__\n",
        "  print(f\"{model_name}\\tTrain_val: {f1_score(y_train_val, y_train_val_pred,average = 'macro'):.4f}\")\n",
        "  print(f\"\\tBest parameters: {model_v1.best_params_}\")\n",
        "\n",
        "  # returns the best model\n",
        "  best_model = {\n",
        "      'model' : model_v1.best_estimator_,\n",
        "      'y_train_val_pred' : y_train_val_pred,\n",
        "  }\n",
        "  return best_model\n"
      ],
      "metadata": {
        "id": "Z-63fg7Lvx8r"
      },
      "execution_count": null,
      "outputs": []
    },
    {
      "cell_type": "code",
      "source": [
        "from sklearn.ensemble import RandomForestClassifier\n",
        "\n",
        "# train the random forest\n",
        "rf_grid_params = {\n",
        "    'n_estimators': (15, 20, 30, 40, 50),\n",
        "    'criterion': ['entropy'],\n",
        "    'max_depth': (None, 5, 10, 20, 30),\n",
        "}\n",
        "rf_clf = RandomForestClassifier(random_state= 123)\n",
        "rf_trained = model_train_evaluate(rf_clf,rf_grid_params,X_train_val,y_train_val)"
      ],
      "metadata": {
        "colab": {
          "base_uri": "https://localhost:8080/",
          "height": 903
        },
        "id": "Ns4mL7CzwxA-",
        "outputId": "7792221d-722c-402e-c39e-c9efe4ce351e"
      },
      "execution_count": null,
      "outputs": [
        {
          "output_type": "stream",
          "name": "stdout",
          "text": [
            "Training...\n"
          ]
        },
        {
          "output_type": "display_data",
          "data": {
            "text/plain": [
              "<IPython.core.display.HTML object>"
            ],
            "text/html": [
              "<table border=\"1\" class=\"dataframe\">\n",
              "  <thead>\n",
              "    <tr style=\"text-align: right;\">\n",
              "      <th></th>\n",
              "      <th>params</th>\n",
              "      <th>rank_test_score</th>\n",
              "      <th>mean_train_score</th>\n",
              "      <th>mean_test_score</th>\n",
              "    </tr>\n",
              "  </thead>\n",
              "  <tbody>\n",
              "    <tr>\n",
              "      <th>24</th>\n",
              "      <td>{'criterion': 'entropy', 'max_depth': 30, 'n_estimators': 50}</td>\n",
              "      <td>1</td>\n",
              "      <td>1.000000</td>\n",
              "      <td>0.954286</td>\n",
              "    </tr>\n",
              "    <tr>\n",
              "      <th>4</th>\n",
              "      <td>{'criterion': 'entropy', 'max_depth': None, 'n_estimators': 50}</td>\n",
              "      <td>1</td>\n",
              "      <td>1.000000</td>\n",
              "      <td>0.954286</td>\n",
              "    </tr>\n",
              "    <tr>\n",
              "      <th>19</th>\n",
              "      <td>{'criterion': 'entropy', 'max_depth': 20, 'n_estimators': 50}</td>\n",
              "      <td>1</td>\n",
              "      <td>1.000000</td>\n",
              "      <td>0.954286</td>\n",
              "    </tr>\n",
              "    <tr>\n",
              "      <th>8</th>\n",
              "      <td>{'criterion': 'entropy', 'max_depth': 5, 'n_estimators': 40}</td>\n",
              "      <td>4</td>\n",
              "      <td>0.966429</td>\n",
              "      <td>0.952857</td>\n",
              "    </tr>\n",
              "    <tr>\n",
              "      <th>13</th>\n",
              "      <td>{'criterion': 'entropy', 'max_depth': 10, 'n_estimators': 40}</td>\n",
              "      <td>4</td>\n",
              "      <td>0.995714</td>\n",
              "      <td>0.952857</td>\n",
              "    </tr>\n",
              "    <tr>\n",
              "      <th>22</th>\n",
              "      <td>{'criterion': 'entropy', 'max_depth': 30, 'n_estimators': 30}</td>\n",
              "      <td>6</td>\n",
              "      <td>0.997500</td>\n",
              "      <td>0.951429</td>\n",
              "    </tr>\n",
              "    <tr>\n",
              "      <th>2</th>\n",
              "      <td>{'criterion': 'entropy', 'max_depth': None, 'n_estimators': 30}</td>\n",
              "      <td>6</td>\n",
              "      <td>0.997500</td>\n",
              "      <td>0.951429</td>\n",
              "    </tr>\n",
              "    <tr>\n",
              "      <th>3</th>\n",
              "      <td>{'criterion': 'entropy', 'max_depth': None, 'n_estimators': 40}</td>\n",
              "      <td>6</td>\n",
              "      <td>1.000000</td>\n",
              "      <td>0.951429</td>\n",
              "    </tr>\n",
              "    <tr>\n",
              "      <th>7</th>\n",
              "      <td>{'criterion': 'entropy', 'max_depth': 5, 'n_estimators': 30}</td>\n",
              "      <td>6</td>\n",
              "      <td>0.966429</td>\n",
              "      <td>0.951429</td>\n",
              "    </tr>\n",
              "    <tr>\n",
              "      <th>18</th>\n",
              "      <td>{'criterion': 'entropy', 'max_depth': 20, 'n_estimators': 40}</td>\n",
              "      <td>6</td>\n",
              "      <td>1.000000</td>\n",
              "      <td>0.951429</td>\n",
              "    </tr>\n",
              "    <tr>\n",
              "      <th>17</th>\n",
              "      <td>{'criterion': 'entropy', 'max_depth': 20, 'n_estimators': 30}</td>\n",
              "      <td>6</td>\n",
              "      <td>0.997500</td>\n",
              "      <td>0.951429</td>\n",
              "    </tr>\n",
              "    <tr>\n",
              "      <th>23</th>\n",
              "      <td>{'criterion': 'entropy', 'max_depth': 30, 'n_estimators': 40}</td>\n",
              "      <td>6</td>\n",
              "      <td>1.000000</td>\n",
              "      <td>0.951429</td>\n",
              "    </tr>\n",
              "    <tr>\n",
              "      <th>14</th>\n",
              "      <td>{'criterion': 'entropy', 'max_depth': 10, 'n_estimators': 50}</td>\n",
              "      <td>6</td>\n",
              "      <td>0.996071</td>\n",
              "      <td>0.951429</td>\n",
              "    </tr>\n",
              "    <tr>\n",
              "      <th>21</th>\n",
              "      <td>{'criterion': 'entropy', 'max_depth': 30, 'n_estimators': 20}</td>\n",
              "      <td>14</td>\n",
              "      <td>0.997857</td>\n",
              "      <td>0.950000</td>\n",
              "    </tr>\n",
              "    <tr>\n",
              "      <th>20</th>\n",
              "      <td>{'criterion': 'entropy', 'max_depth': 30, 'n_estimators': 15}</td>\n",
              "      <td>14</td>\n",
              "      <td>0.997143</td>\n",
              "      <td>0.950000</td>\n",
              "    </tr>\n",
              "    <tr>\n",
              "      <th>16</th>\n",
              "      <td>{'criterion': 'entropy', 'max_depth': 20, 'n_estimators': 20}</td>\n",
              "      <td>14</td>\n",
              "      <td>0.997857</td>\n",
              "      <td>0.950000</td>\n",
              "    </tr>\n",
              "    <tr>\n",
              "      <th>0</th>\n",
              "      <td>{'criterion': 'entropy', 'max_depth': None, 'n_estimators': 15}</td>\n",
              "      <td>14</td>\n",
              "      <td>0.997143</td>\n",
              "      <td>0.950000</td>\n",
              "    </tr>\n",
              "    <tr>\n",
              "      <th>9</th>\n",
              "      <td>{'criterion': 'entropy', 'max_depth': 5, 'n_estimators': 50}</td>\n",
              "      <td>14</td>\n",
              "      <td>0.965357</td>\n",
              "      <td>0.950000</td>\n",
              "    </tr>\n",
              "    <tr>\n",
              "      <th>1</th>\n",
              "      <td>{'criterion': 'entropy', 'max_depth': None, 'n_estimators': 20}</td>\n",
              "      <td>14</td>\n",
              "      <td>0.997857</td>\n",
              "      <td>0.950000</td>\n",
              "    </tr>\n",
              "    <tr>\n",
              "      <th>15</th>\n",
              "      <td>{'criterion': 'entropy', 'max_depth': 20, 'n_estimators': 15}</td>\n",
              "      <td>14</td>\n",
              "      <td>0.997143</td>\n",
              "      <td>0.950000</td>\n",
              "    </tr>\n",
              "    <tr>\n",
              "      <th>12</th>\n",
              "      <td>{'criterion': 'entropy', 'max_depth': 10, 'n_estimators': 30}</td>\n",
              "      <td>14</td>\n",
              "      <td>0.995000</td>\n",
              "      <td>0.950000</td>\n",
              "    </tr>\n",
              "    <tr>\n",
              "      <th>6</th>\n",
              "      <td>{'criterion': 'entropy', 'max_depth': 5, 'n_estimators': 20}</td>\n",
              "      <td>22</td>\n",
              "      <td>0.965714</td>\n",
              "      <td>0.947143</td>\n",
              "    </tr>\n",
              "    <tr>\n",
              "      <th>11</th>\n",
              "      <td>{'criterion': 'entropy', 'max_depth': 10, 'n_estimators': 20}</td>\n",
              "      <td>23</td>\n",
              "      <td>0.994286</td>\n",
              "      <td>0.944286</td>\n",
              "    </tr>\n",
              "    <tr>\n",
              "      <th>10</th>\n",
              "      <td>{'criterion': 'entropy', 'max_depth': 10, 'n_estimators': 15}</td>\n",
              "      <td>23</td>\n",
              "      <td>0.993214</td>\n",
              "      <td>0.944286</td>\n",
              "    </tr>\n",
              "    <tr>\n",
              "      <th>5</th>\n",
              "      <td>{'criterion': 'entropy', 'max_depth': 5, 'n_estimators': 15}</td>\n",
              "      <td>25</td>\n",
              "      <td>0.963214</td>\n",
              "      <td>0.942857</td>\n",
              "    </tr>\n",
              "  </tbody>\n",
              "</table>"
            ]
          },
          "metadata": {}
        },
        {
          "output_type": "stream",
          "name": "stdout",
          "text": [
            "Evaluating...\n",
            "RandomForestClassifier\tTrain_val: 0.9986\n",
            "\tBest parameters: {'criterion': 'entropy', 'max_depth': None, 'n_estimators': 50}\n"
          ]
        }
      ]
    },
    {
      "cell_type": "code",
      "source": [
        "from sklearn.svm import SVC\n",
        "\n",
        "# train the svc\n",
        "svc_grid_params = {\n",
        "    'C': [1,0.1,0.01,0.001],\n",
        "    'kernel': ['rbf','linear'],\n",
        "}\n",
        "\n",
        "svc_clf = SVC(random_state= 123)\n",
        "svc_trained = model_train_evaluate(svc_clf,svc_grid_params,X_train_val,y_train_val)"
      ],
      "metadata": {
        "colab": {
          "base_uri": "https://localhost:8080/",
          "height": 370
        },
        "id": "Ox6Q1L2DxCIG",
        "outputId": "2bf87c83-146f-4cff-f7c9-4982496abfa8"
      },
      "execution_count": null,
      "outputs": [
        {
          "output_type": "stream",
          "name": "stdout",
          "text": [
            "Training...\n"
          ]
        },
        {
          "output_type": "display_data",
          "data": {
            "text/plain": [
              "<IPython.core.display.HTML object>"
            ],
            "text/html": [
              "<table border=\"1\" class=\"dataframe\">\n",
              "  <thead>\n",
              "    <tr style=\"text-align: right;\">\n",
              "      <th></th>\n",
              "      <th>params</th>\n",
              "      <th>rank_test_score</th>\n",
              "      <th>mean_train_score</th>\n",
              "      <th>mean_test_score</th>\n",
              "    </tr>\n",
              "  </thead>\n",
              "  <tbody>\n",
              "    <tr>\n",
              "      <th>0</th>\n",
              "      <td>{'C': 1, 'kernel': 'rbf'}</td>\n",
              "      <td>1</td>\n",
              "      <td>0.973929</td>\n",
              "      <td>0.955714</td>\n",
              "    </tr>\n",
              "    <tr>\n",
              "      <th>7</th>\n",
              "      <td>{'C': 0.001, 'kernel': 'linear'}</td>\n",
              "      <td>2</td>\n",
              "      <td>0.961786</td>\n",
              "      <td>0.952857</td>\n",
              "    </tr>\n",
              "    <tr>\n",
              "      <th>2</th>\n",
              "      <td>{'C': 0.1, 'kernel': 'rbf'}</td>\n",
              "      <td>3</td>\n",
              "      <td>0.953929</td>\n",
              "      <td>0.951429</td>\n",
              "    </tr>\n",
              "    <tr>\n",
              "      <th>5</th>\n",
              "      <td>{'C': 0.01, 'kernel': 'linear'}</td>\n",
              "      <td>4</td>\n",
              "      <td>0.980357</td>\n",
              "      <td>0.950000</td>\n",
              "    </tr>\n",
              "    <tr>\n",
              "      <th>3</th>\n",
              "      <td>{'C': 0.1, 'kernel': 'linear'}</td>\n",
              "      <td>5</td>\n",
              "      <td>0.999286</td>\n",
              "      <td>0.931429</td>\n",
              "    </tr>\n",
              "    <tr>\n",
              "      <th>1</th>\n",
              "      <td>{'C': 1, 'kernel': 'linear'}</td>\n",
              "      <td>6</td>\n",
              "      <td>1.000000</td>\n",
              "      <td>0.927143</td>\n",
              "    </tr>\n",
              "    <tr>\n",
              "      <th>4</th>\n",
              "      <td>{'C': 0.01, 'kernel': 'rbf'}</td>\n",
              "      <td>7</td>\n",
              "      <td>0.909643</td>\n",
              "      <td>0.908571</td>\n",
              "    </tr>\n",
              "    <tr>\n",
              "      <th>6</th>\n",
              "      <td>{'C': 0.001, 'kernel': 'rbf'}</td>\n",
              "      <td>8</td>\n",
              "      <td>0.587857</td>\n",
              "      <td>0.590000</td>\n",
              "    </tr>\n",
              "  </tbody>\n",
              "</table>"
            ]
          },
          "metadata": {}
        },
        {
          "output_type": "stream",
          "name": "stdout",
          "text": [
            "Evaluating...\n",
            "SVC\tTrain_val: 0.9757\n",
            "\tBest parameters: {'C': 1, 'kernel': 'rbf'}\n"
          ]
        }
      ]
    },
    {
      "cell_type": "code",
      "source": [
        "from sklearn.neighbors import KNeighborsClassifier\n",
        "\n",
        "# train the K-NN\n",
        "knn_grid_params = {\n",
        "    'n_neighbors': (2,5,7,10,20,25,30,50)\n",
        "}\n",
        "knn_clf = KNeighborsClassifier()\n",
        "knn_trained = model_train_evaluate(knn_clf,knn_grid_params,X_train_val,y_train_val)"
      ],
      "metadata": {
        "colab": {
          "base_uri": "https://localhost:8080/",
          "height": 370
        },
        "id": "QGvcSeHmxVy6",
        "outputId": "5278eb46-ae76-41b4-9f67-766960f4742e"
      },
      "execution_count": null,
      "outputs": [
        {
          "output_type": "stream",
          "name": "stdout",
          "text": [
            "Training...\n"
          ]
        },
        {
          "output_type": "display_data",
          "data": {
            "text/plain": [
              "<IPython.core.display.HTML object>"
            ],
            "text/html": [
              "<table border=\"1\" class=\"dataframe\">\n",
              "  <thead>\n",
              "    <tr style=\"text-align: right;\">\n",
              "      <th></th>\n",
              "      <th>params</th>\n",
              "      <th>rank_test_score</th>\n",
              "      <th>mean_train_score</th>\n",
              "      <th>mean_test_score</th>\n",
              "    </tr>\n",
              "  </thead>\n",
              "  <tbody>\n",
              "    <tr>\n",
              "      <th>1</th>\n",
              "      <td>{'n_neighbors': 5}</td>\n",
              "      <td>1</td>\n",
              "      <td>0.933571</td>\n",
              "      <td>0.912857</td>\n",
              "    </tr>\n",
              "    <tr>\n",
              "      <th>2</th>\n",
              "      <td>{'n_neighbors': 7}</td>\n",
              "      <td>2</td>\n",
              "      <td>0.928571</td>\n",
              "      <td>0.911429</td>\n",
              "    </tr>\n",
              "    <tr>\n",
              "      <th>5</th>\n",
              "      <td>{'n_neighbors': 25}</td>\n",
              "      <td>3</td>\n",
              "      <td>0.909643</td>\n",
              "      <td>0.907143</td>\n",
              "    </tr>\n",
              "    <tr>\n",
              "      <th>4</th>\n",
              "      <td>{'n_neighbors': 20}</td>\n",
              "      <td>4</td>\n",
              "      <td>0.907857</td>\n",
              "      <td>0.904286</td>\n",
              "    </tr>\n",
              "    <tr>\n",
              "      <th>7</th>\n",
              "      <td>{'n_neighbors': 50}</td>\n",
              "      <td>4</td>\n",
              "      <td>0.906429</td>\n",
              "      <td>0.904286</td>\n",
              "    </tr>\n",
              "    <tr>\n",
              "      <th>6</th>\n",
              "      <td>{'n_neighbors': 30}</td>\n",
              "      <td>6</td>\n",
              "      <td>0.905714</td>\n",
              "      <td>0.902857</td>\n",
              "    </tr>\n",
              "    <tr>\n",
              "      <th>3</th>\n",
              "      <td>{'n_neighbors': 10}</td>\n",
              "      <td>7</td>\n",
              "      <td>0.908929</td>\n",
              "      <td>0.897143</td>\n",
              "    </tr>\n",
              "    <tr>\n",
              "      <th>0</th>\n",
              "      <td>{'n_neighbors': 2}</td>\n",
              "      <td>8</td>\n",
              "      <td>0.920357</td>\n",
              "      <td>0.878571</td>\n",
              "    </tr>\n",
              "  </tbody>\n",
              "</table>"
            ]
          },
          "metadata": {}
        },
        {
          "output_type": "stream",
          "name": "stdout",
          "text": [
            "Evaluating...\n",
            "KNeighborsClassifier\tTrain_val: 0.9297\n",
            "\tBest parameters: {'n_neighbors': 5}\n"
          ]
        }
      ]
    },
    {
      "cell_type": "code",
      "source": [
        "# train the K-NN\n",
        "knn1_grid_params = {\n",
        "    'n_neighbors': (5,6,7,8,9,10)\n",
        "}\n",
        "knn1_clf = KNeighborsClassifier()\n",
        "knn1_trained = model_train_evaluate(knn1_clf,knn1_grid_params,X_train_val,y_train_val)"
      ],
      "metadata": {
        "colab": {
          "base_uri": "https://localhost:8080/",
          "height": 307
        },
        "id": "GisAJL0zxhz5",
        "outputId": "348d40d0-7a4f-4b16-f937-be29c20695e3"
      },
      "execution_count": null,
      "outputs": [
        {
          "output_type": "stream",
          "name": "stdout",
          "text": [
            "Training...\n"
          ]
        },
        {
          "output_type": "display_data",
          "data": {
            "text/plain": [
              "<IPython.core.display.HTML object>"
            ],
            "text/html": [
              "<table border=\"1\" class=\"dataframe\">\n",
              "  <thead>\n",
              "    <tr style=\"text-align: right;\">\n",
              "      <th></th>\n",
              "      <th>params</th>\n",
              "      <th>rank_test_score</th>\n",
              "      <th>mean_train_score</th>\n",
              "      <th>mean_test_score</th>\n",
              "    </tr>\n",
              "  </thead>\n",
              "  <tbody>\n",
              "    <tr>\n",
              "      <th>0</th>\n",
              "      <td>{'n_neighbors': 5}</td>\n",
              "      <td>1</td>\n",
              "      <td>0.933571</td>\n",
              "      <td>0.912857</td>\n",
              "    </tr>\n",
              "    <tr>\n",
              "      <th>2</th>\n",
              "      <td>{'n_neighbors': 7}</td>\n",
              "      <td>2</td>\n",
              "      <td>0.928571</td>\n",
              "      <td>0.911429</td>\n",
              "    </tr>\n",
              "    <tr>\n",
              "      <th>1</th>\n",
              "      <td>{'n_neighbors': 6}</td>\n",
              "      <td>3</td>\n",
              "      <td>0.915714</td>\n",
              "      <td>0.905714</td>\n",
              "    </tr>\n",
              "    <tr>\n",
              "      <th>4</th>\n",
              "      <td>{'n_neighbors': 9}</td>\n",
              "      <td>3</td>\n",
              "      <td>0.922857</td>\n",
              "      <td>0.905714</td>\n",
              "    </tr>\n",
              "    <tr>\n",
              "      <th>3</th>\n",
              "      <td>{'n_neighbors': 8}</td>\n",
              "      <td>5</td>\n",
              "      <td>0.912500</td>\n",
              "      <td>0.902857</td>\n",
              "    </tr>\n",
              "    <tr>\n",
              "      <th>5</th>\n",
              "      <td>{'n_neighbors': 10}</td>\n",
              "      <td>6</td>\n",
              "      <td>0.908929</td>\n",
              "      <td>0.897143</td>\n",
              "    </tr>\n",
              "  </tbody>\n",
              "</table>"
            ]
          },
          "metadata": {}
        },
        {
          "output_type": "stream",
          "name": "stdout",
          "text": [
            "Evaluating...\n",
            "KNeighborsClassifier\tTrain_val: 0.9297\n",
            "\tBest parameters: {'n_neighbors': 5}\n"
          ]
        }
      ]
    },
    {
      "cell_type": "code",
      "source": [
        "from tensorflow.keras.models import Sequential \n",
        "from tensorflow.keras.layers import Input, Dense, Flatten\n",
        "from tensorflow.python.framework.random_seed import set_random_seed\n",
        "from keras.callbacks import EarlyStopping\n",
        "\n",
        "\n",
        "def NN_trainer(X,y,hidden_layers,units_per_layer,n_batch_size=16,n_epochs=1000,augmentation_layer=None):\n",
        "\n",
        "  # get input size\n",
        "  input_size = X.shape[1]\n",
        "  n_classes = y.shape[1]\n",
        "    \n",
        "  # early stopping\n",
        "  es = EarlyStopping(monitor='val_loss',\n",
        "                   mode='min', \n",
        "                   patience = 5, \n",
        "                   verbose=0)\n",
        "\n",
        "  np.random.seed(123)\n",
        "  set_random_seed(2)\n",
        "\n",
        "  # build the model\n",
        "  model = Sequential()\n",
        "\n",
        "  # augmentation layer\n",
        "  if augmentation_layer is not None:\n",
        "    X = X.reshape((X.shape[0],28,28,1))\n",
        "    model.add(augmentation_layer)\n",
        "    model.add(Flatten())\n",
        "  else:\n",
        "    model.add(Dense(input_dim = input_size, units=input_size , activation='relu')) #input layer\n",
        "\n",
        "  # add hidden layers\n",
        "  for i in range(hidden_layers):\n",
        "    model.add(Dense(units = units_per_layer, activation = 'relu'))\n",
        "  model.add(Dense(n_classes, activation='softmax')) #output layer\n",
        "\n",
        "  # Configure the model and start training\n",
        "  model.compile(loss='categorical_crossentropy', #loss metric\n",
        "      optimizer='sgd',  #optimizer\n",
        "      metrics=['accuracy']) #displayed metric\n",
        "\n",
        "  # Fit\n",
        "  history = model.fit(X, y, epochs=n_epochs, batch_size=n_batch_size, verbose=0, validation_split=0.25, callbacks=[es])\n",
        "  \n",
        "  return model, history"
      ],
      "metadata": {
        "id": "y4Nl5SO5xr2U"
      },
      "execution_count": null,
      "outputs": []
    },
    {
      "cell_type": "code",
      "source": [
        "def plot_history(history):\n",
        "  # summarize history for accuracy\n",
        "  plt.plot(history.history['accuracy'])\n",
        "  plt.plot(history.history['val_accuracy'])\n",
        "  plt.title('model accuracy')\n",
        "  plt.ylabel('accuracy')\n",
        "  plt.xlabel('epoch')\n",
        "  plt.legend(['train', 'val'], loc='upper left')\n",
        "  plt.show()\n",
        "\n",
        "  # summarize history for loss\n",
        "  plt.plot(history.history['loss'])\n",
        "  plt.plot(history.history['val_loss'])\n",
        "  plt.title('model loss')\n",
        "  plt.ylabel('loss')\n",
        "  plt.xlabel('epoch')\n",
        "  plt.legend(['train', 'val'], loc='upper left')\n",
        "  plt.show()\n",
        "\n",
        "import operator\n",
        "\n",
        "def grid_search_NN(grid_params,X,y,data_augmentation=None):\n",
        "  accumulator = []\n",
        "  # for every value of hidden layers\n",
        "  for i in grid_params['hidden_layers']:\n",
        "    # for every value of units per layer\n",
        "    for j in grid_params['units_per_layer']:\n",
        "      # for every value of batch size\n",
        "      for k in grid_params['batch_size']:\n",
        "        # train the NN with NN_trainer\n",
        "        model, history = NN_trainer(X,y,hidden_layers=i,units_per_layer=j,n_batch_size=k,augmentation_layer=data_augmentation)\n",
        "        accumulator.append([\n",
        "             model,\n",
        "             i,\n",
        "             j,\n",
        "             k,\n",
        "             history.history['accuracy'][-1],\n",
        "             history.history['val_accuracy'][-1]\n",
        "        ])\n",
        "        print(\"Trained model with\",i,\"hidden layers and\",j,\"neurons per layer\",k,\"batch_size\")\n",
        "  # sort by validation accuracy\n",
        "  accumulator.sort(key=operator.itemgetter(5), reverse=True)\n",
        "  # create a data frame table to print it nicely\n",
        "  results = pd.DataFrame(accumulator)\n",
        "  results = results.drop([0],axis=1)\n",
        "  results.rename(columns={1: 'hidden_layers', 2: 'units_per_layer',3:'batch_size', 4:'train_accuracy', 5:'val_accuracy'}, inplace=True)\n",
        "  display(HTML(results.to_html()))\n",
        "  return accumulator[0][0]"
      ],
      "metadata": {
        "id": "0-rGF1L6xuuW"
      },
      "execution_count": null,
      "outputs": []
    },
    {
      "cell_type": "code",
      "source": [
        "y_train_val_cat = to_categorical(y_train_val, 2)\n",
        "y_test_cat = to_categorical(y_test, 2)"
      ],
      "metadata": {
        "id": "1zMrMvhnxw3w"
      },
      "execution_count": null,
      "outputs": []
    },
    {
      "cell_type": "code",
      "source": [
        "NN_grid_params = {\n",
        "    'hidden_layers': [1,2,3],\n",
        "    'units_per_layer': [50,100,150,200],\n",
        "    'batch_size': [20,200,500]\n",
        "}\n",
        "\n",
        "NN_model = grid_search_NN(NN_grid_params,X_train_val,y_train_val_cat)"
      ],
      "metadata": {
        "colab": {
          "base_uri": "https://localhost:8080/",
          "height": 1000
        },
        "id": "_Jl65HhbyoWw",
        "outputId": "fe248523-2d00-43e7-a91b-5a12564ef267"
      },
      "execution_count": null,
      "outputs": [
        {
          "output_type": "stream",
          "name": "stdout",
          "text": [
            "Trained model with 1 hidden layers and 50 neurons per layer 20 batch_size\n",
            "Trained model with 1 hidden layers and 50 neurons per layer 200 batch_size\n",
            "Trained model with 1 hidden layers and 50 neurons per layer 500 batch_size\n",
            "Trained model with 1 hidden layers and 100 neurons per layer 20 batch_size\n",
            "Trained model with 1 hidden layers and 100 neurons per layer 200 batch_size\n",
            "Trained model with 1 hidden layers and 100 neurons per layer 500 batch_size\n",
            "Trained model with 1 hidden layers and 150 neurons per layer 20 batch_size\n",
            "Trained model with 1 hidden layers and 150 neurons per layer 200 batch_size\n",
            "Trained model with 1 hidden layers and 150 neurons per layer 500 batch_size\n",
            "Trained model with 1 hidden layers and 200 neurons per layer 20 batch_size\n",
            "Trained model with 1 hidden layers and 200 neurons per layer 200 batch_size\n",
            "Trained model with 1 hidden layers and 200 neurons per layer 500 batch_size\n",
            "Trained model with 2 hidden layers and 50 neurons per layer 20 batch_size\n",
            "Trained model with 2 hidden layers and 50 neurons per layer 200 batch_size\n",
            "Trained model with 2 hidden layers and 50 neurons per layer 500 batch_size\n",
            "Trained model with 2 hidden layers and 100 neurons per layer 20 batch_size\n",
            "Trained model with 2 hidden layers and 100 neurons per layer 200 batch_size\n",
            "Trained model with 2 hidden layers and 100 neurons per layer 500 batch_size\n",
            "Trained model with 2 hidden layers and 150 neurons per layer 20 batch_size\n",
            "Trained model with 2 hidden layers and 150 neurons per layer 200 batch_size\n",
            "Trained model with 2 hidden layers and 150 neurons per layer 500 batch_size\n",
            "Trained model with 2 hidden layers and 200 neurons per layer 20 batch_size\n",
            "Trained model with 2 hidden layers and 200 neurons per layer 200 batch_size\n",
            "Trained model with 2 hidden layers and 200 neurons per layer 500 batch_size\n",
            "Trained model with 3 hidden layers and 50 neurons per layer 20 batch_size\n",
            "Trained model with 3 hidden layers and 50 neurons per layer 200 batch_size\n",
            "Trained model with 3 hidden layers and 50 neurons per layer 500 batch_size\n",
            "Trained model with 3 hidden layers and 100 neurons per layer 20 batch_size\n",
            "Trained model with 3 hidden layers and 100 neurons per layer 200 batch_size\n",
            "Trained model with 3 hidden layers and 100 neurons per layer 500 batch_size\n",
            "Trained model with 3 hidden layers and 150 neurons per layer 20 batch_size\n",
            "Trained model with 3 hidden layers and 150 neurons per layer 200 batch_size\n",
            "Trained model with 3 hidden layers and 150 neurons per layer 500 batch_size\n",
            "Trained model with 3 hidden layers and 200 neurons per layer 20 batch_size\n",
            "Trained model with 3 hidden layers and 200 neurons per layer 200 batch_size\n",
            "Trained model with 3 hidden layers and 200 neurons per layer 500 batch_size\n"
          ]
        },
        {
          "output_type": "display_data",
          "data": {
            "text/plain": [
              "<IPython.core.display.HTML object>"
            ],
            "text/html": [
              "<table border=\"1\" class=\"dataframe\">\n",
              "  <thead>\n",
              "    <tr style=\"text-align: right;\">\n",
              "      <th></th>\n",
              "      <th>hidden_layers</th>\n",
              "      <th>units_per_layer</th>\n",
              "      <th>batch_size</th>\n",
              "      <th>train_accuracy</th>\n",
              "      <th>val_accuracy</th>\n",
              "    </tr>\n",
              "  </thead>\n",
              "  <tbody>\n",
              "    <tr>\n",
              "      <th>0</th>\n",
              "      <td>3</td>\n",
              "      <td>200</td>\n",
              "      <td>20</td>\n",
              "      <td>0.992381</td>\n",
              "      <td>0.971429</td>\n",
              "    </tr>\n",
              "    <tr>\n",
              "      <th>1</th>\n",
              "      <td>1</td>\n",
              "      <td>50</td>\n",
              "      <td>200</td>\n",
              "      <td>0.980952</td>\n",
              "      <td>0.965714</td>\n",
              "    </tr>\n",
              "    <tr>\n",
              "      <th>2</th>\n",
              "      <td>1</td>\n",
              "      <td>150</td>\n",
              "      <td>20</td>\n",
              "      <td>0.994286</td>\n",
              "      <td>0.965714</td>\n",
              "    </tr>\n",
              "    <tr>\n",
              "      <th>3</th>\n",
              "      <td>1</td>\n",
              "      <td>150</td>\n",
              "      <td>200</td>\n",
              "      <td>0.980952</td>\n",
              "      <td>0.965714</td>\n",
              "    </tr>\n",
              "    <tr>\n",
              "      <th>4</th>\n",
              "      <td>1</td>\n",
              "      <td>150</td>\n",
              "      <td>500</td>\n",
              "      <td>0.973333</td>\n",
              "      <td>0.965714</td>\n",
              "    </tr>\n",
              "    <tr>\n",
              "      <th>5</th>\n",
              "      <td>2</td>\n",
              "      <td>200</td>\n",
              "      <td>20</td>\n",
              "      <td>1.000000</td>\n",
              "      <td>0.965714</td>\n",
              "    </tr>\n",
              "    <tr>\n",
              "      <th>6</th>\n",
              "      <td>3</td>\n",
              "      <td>200</td>\n",
              "      <td>200</td>\n",
              "      <td>0.984762</td>\n",
              "      <td>0.965714</td>\n",
              "    </tr>\n",
              "    <tr>\n",
              "      <th>7</th>\n",
              "      <td>1</td>\n",
              "      <td>50</td>\n",
              "      <td>20</td>\n",
              "      <td>0.994286</td>\n",
              "      <td>0.960000</td>\n",
              "    </tr>\n",
              "    <tr>\n",
              "      <th>8</th>\n",
              "      <td>1</td>\n",
              "      <td>100</td>\n",
              "      <td>20</td>\n",
              "      <td>0.994286</td>\n",
              "      <td>0.960000</td>\n",
              "    </tr>\n",
              "    <tr>\n",
              "      <th>9</th>\n",
              "      <td>1</td>\n",
              "      <td>200</td>\n",
              "      <td>20</td>\n",
              "      <td>0.994286</td>\n",
              "      <td>0.960000</td>\n",
              "    </tr>\n",
              "    <tr>\n",
              "      <th>10</th>\n",
              "      <td>2</td>\n",
              "      <td>50</td>\n",
              "      <td>20</td>\n",
              "      <td>0.988571</td>\n",
              "      <td>0.960000</td>\n",
              "    </tr>\n",
              "    <tr>\n",
              "      <th>11</th>\n",
              "      <td>2</td>\n",
              "      <td>50</td>\n",
              "      <td>200</td>\n",
              "      <td>0.979048</td>\n",
              "      <td>0.960000</td>\n",
              "    </tr>\n",
              "    <tr>\n",
              "      <th>12</th>\n",
              "      <td>3</td>\n",
              "      <td>50</td>\n",
              "      <td>200</td>\n",
              "      <td>0.980952</td>\n",
              "      <td>0.960000</td>\n",
              "    </tr>\n",
              "    <tr>\n",
              "      <th>13</th>\n",
              "      <td>3</td>\n",
              "      <td>150</td>\n",
              "      <td>200</td>\n",
              "      <td>0.988571</td>\n",
              "      <td>0.960000</td>\n",
              "    </tr>\n",
              "    <tr>\n",
              "      <th>14</th>\n",
              "      <td>2</td>\n",
              "      <td>150</td>\n",
              "      <td>20</td>\n",
              "      <td>0.998095</td>\n",
              "      <td>0.954286</td>\n",
              "    </tr>\n",
              "    <tr>\n",
              "      <th>15</th>\n",
              "      <td>2</td>\n",
              "      <td>200</td>\n",
              "      <td>200</td>\n",
              "      <td>0.980952</td>\n",
              "      <td>0.954286</td>\n",
              "    </tr>\n",
              "    <tr>\n",
              "      <th>16</th>\n",
              "      <td>3</td>\n",
              "      <td>50</td>\n",
              "      <td>20</td>\n",
              "      <td>0.994286</td>\n",
              "      <td>0.954286</td>\n",
              "    </tr>\n",
              "    <tr>\n",
              "      <th>17</th>\n",
              "      <td>3</td>\n",
              "      <td>100</td>\n",
              "      <td>20</td>\n",
              "      <td>0.990476</td>\n",
              "      <td>0.954286</td>\n",
              "    </tr>\n",
              "    <tr>\n",
              "      <th>18</th>\n",
              "      <td>3</td>\n",
              "      <td>100</td>\n",
              "      <td>200</td>\n",
              "      <td>0.980952</td>\n",
              "      <td>0.954286</td>\n",
              "    </tr>\n",
              "    <tr>\n",
              "      <th>19</th>\n",
              "      <td>3</td>\n",
              "      <td>150</td>\n",
              "      <td>20</td>\n",
              "      <td>0.992381</td>\n",
              "      <td>0.954286</td>\n",
              "    </tr>\n",
              "    <tr>\n",
              "      <th>20</th>\n",
              "      <td>1</td>\n",
              "      <td>100</td>\n",
              "      <td>200</td>\n",
              "      <td>0.984762</td>\n",
              "      <td>0.948571</td>\n",
              "    </tr>\n",
              "    <tr>\n",
              "      <th>21</th>\n",
              "      <td>2</td>\n",
              "      <td>50</td>\n",
              "      <td>500</td>\n",
              "      <td>0.967619</td>\n",
              "      <td>0.948571</td>\n",
              "    </tr>\n",
              "    <tr>\n",
              "      <th>22</th>\n",
              "      <td>3</td>\n",
              "      <td>50</td>\n",
              "      <td>500</td>\n",
              "      <td>0.961905</td>\n",
              "      <td>0.948571</td>\n",
              "    </tr>\n",
              "    <tr>\n",
              "      <th>23</th>\n",
              "      <td>3</td>\n",
              "      <td>100</td>\n",
              "      <td>500</td>\n",
              "      <td>0.965714</td>\n",
              "      <td>0.948571</td>\n",
              "    </tr>\n",
              "    <tr>\n",
              "      <th>24</th>\n",
              "      <td>3</td>\n",
              "      <td>150</td>\n",
              "      <td>500</td>\n",
              "      <td>0.969524</td>\n",
              "      <td>0.948571</td>\n",
              "    </tr>\n",
              "    <tr>\n",
              "      <th>25</th>\n",
              "      <td>3</td>\n",
              "      <td>200</td>\n",
              "      <td>500</td>\n",
              "      <td>0.960000</td>\n",
              "      <td>0.948571</td>\n",
              "    </tr>\n",
              "    <tr>\n",
              "      <th>26</th>\n",
              "      <td>1</td>\n",
              "      <td>50</td>\n",
              "      <td>500</td>\n",
              "      <td>0.952381</td>\n",
              "      <td>0.942857</td>\n",
              "    </tr>\n",
              "    <tr>\n",
              "      <th>27</th>\n",
              "      <td>1</td>\n",
              "      <td>200</td>\n",
              "      <td>200</td>\n",
              "      <td>0.982857</td>\n",
              "      <td>0.942857</td>\n",
              "    </tr>\n",
              "    <tr>\n",
              "      <th>28</th>\n",
              "      <td>1</td>\n",
              "      <td>200</td>\n",
              "      <td>500</td>\n",
              "      <td>0.975238</td>\n",
              "      <td>0.942857</td>\n",
              "    </tr>\n",
              "    <tr>\n",
              "      <th>29</th>\n",
              "      <td>2</td>\n",
              "      <td>150</td>\n",
              "      <td>500</td>\n",
              "      <td>0.952381</td>\n",
              "      <td>0.942857</td>\n",
              "    </tr>\n",
              "    <tr>\n",
              "      <th>30</th>\n",
              "      <td>1</td>\n",
              "      <td>100</td>\n",
              "      <td>500</td>\n",
              "      <td>0.963810</td>\n",
              "      <td>0.937143</td>\n",
              "    </tr>\n",
              "    <tr>\n",
              "      <th>31</th>\n",
              "      <td>2</td>\n",
              "      <td>100</td>\n",
              "      <td>200</td>\n",
              "      <td>0.967619</td>\n",
              "      <td>0.931429</td>\n",
              "    </tr>\n",
              "    <tr>\n",
              "      <th>32</th>\n",
              "      <td>2</td>\n",
              "      <td>150</td>\n",
              "      <td>200</td>\n",
              "      <td>0.963810</td>\n",
              "      <td>0.931429</td>\n",
              "    </tr>\n",
              "    <tr>\n",
              "      <th>33</th>\n",
              "      <td>2</td>\n",
              "      <td>200</td>\n",
              "      <td>500</td>\n",
              "      <td>0.956190</td>\n",
              "      <td>0.925714</td>\n",
              "    </tr>\n",
              "    <tr>\n",
              "      <th>34</th>\n",
              "      <td>2</td>\n",
              "      <td>100</td>\n",
              "      <td>500</td>\n",
              "      <td>0.954286</td>\n",
              "      <td>0.914286</td>\n",
              "    </tr>\n",
              "    <tr>\n",
              "      <th>35</th>\n",
              "      <td>2</td>\n",
              "      <td>100</td>\n",
              "      <td>20</td>\n",
              "      <td>0.986667</td>\n",
              "      <td>0.902857</td>\n",
              "    </tr>\n",
              "  </tbody>\n",
              "</table>"
            ]
          },
          "metadata": {}
        }
      ]
    },
    {
      "cell_type": "markdown",
      "source": [
        "## Dimensionality Reduction"
      ],
      "metadata": {
        "id": "H_F0WpTwupJg"
      }
    },
    {
      "cell_type": "code",
      "source": [
        "!pip install umap-learn\n",
        "import umap"
      ],
      "metadata": {
        "colab": {
          "base_uri": "https://localhost:8080/"
        },
        "id": "DQsv8HyBtf5C",
        "outputId": "51e8eac6-0d38-4682-bac6-7f71f32d610e"
      },
      "execution_count": null,
      "outputs": [
        {
          "output_type": "stream",
          "name": "stdout",
          "text": [
            "Looking in indexes: https://pypi.org/simple, https://us-python.pkg.dev/colab-wheels/public/simple/\n",
            "Collecting umap-learn\n",
            "  Downloading umap-learn-0.5.3.tar.gz (88 kB)\n",
            "\u001b[K     |████████████████████████████████| 88 kB 6.7 MB/s \n",
            "\u001b[?25hRequirement already satisfied: numpy>=1.17 in /usr/local/lib/python3.8/dist-packages (from umap-learn) (1.21.6)\n",
            "Requirement already satisfied: scikit-learn>=0.22 in /usr/local/lib/python3.8/dist-packages (from umap-learn) (1.0.2)\n",
            "Requirement already satisfied: scipy>=1.0 in /usr/local/lib/python3.8/dist-packages (from umap-learn) (1.7.3)\n",
            "Requirement already satisfied: numba>=0.49 in /usr/local/lib/python3.8/dist-packages (from umap-learn) (0.56.4)\n",
            "Collecting pynndescent>=0.5\n",
            "  Downloading pynndescent-0.5.8.tar.gz (1.1 MB)\n",
            "\u001b[K     |████████████████████████████████| 1.1 MB 69.6 MB/s \n",
            "\u001b[?25hRequirement already satisfied: tqdm in /usr/local/lib/python3.8/dist-packages (from umap-learn) (4.64.1)\n",
            "Requirement already satisfied: importlib-metadata in /usr/local/lib/python3.8/dist-packages (from numba>=0.49->umap-learn) (4.13.0)\n",
            "Requirement already satisfied: setuptools in /usr/local/lib/python3.8/dist-packages (from numba>=0.49->umap-learn) (57.4.0)\n",
            "Requirement already satisfied: llvmlite<0.40,>=0.39.0dev0 in /usr/local/lib/python3.8/dist-packages (from numba>=0.49->umap-learn) (0.39.1)\n",
            "Requirement already satisfied: joblib>=0.11 in /usr/local/lib/python3.8/dist-packages (from pynndescent>=0.5->umap-learn) (1.2.0)\n",
            "Requirement already satisfied: threadpoolctl>=2.0.0 in /usr/local/lib/python3.8/dist-packages (from scikit-learn>=0.22->umap-learn) (3.1.0)\n",
            "Requirement already satisfied: zipp>=0.5 in /usr/local/lib/python3.8/dist-packages (from importlib-metadata->numba>=0.49->umap-learn) (3.10.0)\n",
            "Building wheels for collected packages: umap-learn, pynndescent\n",
            "  Building wheel for umap-learn (setup.py) ... \u001b[?25l\u001b[?25hdone\n",
            "  Created wheel for umap-learn: filename=umap_learn-0.5.3-py3-none-any.whl size=82829 sha256=7dc3085d5aede06997d01578867056ac3506be3e51c9e42445d13126fb59f4ec\n",
            "  Stored in directory: /root/.cache/pip/wheels/a9/3a/67/06a8950e053725912e6a8c42c4a3a241410f6487b8402542ea\n",
            "  Building wheel for pynndescent (setup.py) ... \u001b[?25l\u001b[?25hdone\n",
            "  Created wheel for pynndescent: filename=pynndescent-0.5.8-py3-none-any.whl size=55513 sha256=4b544b0ddbbbe865ee764ea92aa5b54398419ddc4ef9f545f137bd0fb98c0a2f\n",
            "  Stored in directory: /root/.cache/pip/wheels/1c/63/3a/29954bca1a27ba100ed8c27973a78cb71b43dc67aed62e80c3\n",
            "Successfully built umap-learn pynndescent\n",
            "Installing collected packages: pynndescent, umap-learn\n",
            "Successfully installed pynndescent-0.5.8 umap-learn-0.5.3\n"
          ]
        }
      ]
    },
    {
      "cell_type": "markdown",
      "source": [
        "### UMAP\n",
        "Problem: random position of results on multiple runs"
      ],
      "metadata": {
        "id": "EIE6svxyxj2M"
      }
    },
    {
      "cell_type": "code",
      "source": [
        "reduced_res = umap.UMAP(n_neighbors=50,n_components=2).fit_transform(X_train_val)"
      ],
      "metadata": {
        "id": "wqqy6xbcuO3c"
      },
      "execution_count": null,
      "outputs": []
    },
    {
      "cell_type": "code",
      "source": [
        "sns.set(rc={'figure.figsize':(15,10)})\n",
        "sns.scatterplot(x = reduced_res[:,0], y = reduced_res[:,1], hue = y_train_val, palette = sns.hls_palette(2), legend = 'full')"
      ],
      "metadata": {
        "colab": {
          "base_uri": "https://localhost:8080/",
          "height": 611
        },
        "id": "4sITbcvyuQ4i",
        "outputId": "3f3ae7a1-e3c9-40d5-d272-911e747ad0af"
      },
      "execution_count": null,
      "outputs": [
        {
          "output_type": "execute_result",
          "data": {
            "text/plain": [
              "<matplotlib.axes._subplots.AxesSubplot at 0x7fda0abcee80>"
            ]
          },
          "metadata": {},
          "execution_count": 24
        },
        {
          "output_type": "display_data",
          "data": {
            "text/plain": [
              "<Figure size 1080x720 with 1 Axes>"
            ],
            "image/png": "[encoded data removed]"
          },
          "metadata": {}
        }
      ]
    },
    {
      "cell_type": "markdown",
      "source": [
        "### PCA"
      ],
      "metadata": {
        "id": "ZSGEZQYNzpvU"
      }
    },
    {
      "cell_type": "code",
      "source": [
        "from sklearn.decomposition import PCA\n",
        "\n",
        "def pca_compress(X,n_components):\n",
        "  pca = PCA(n_components=n_components)\n",
        "  X_pca = pca.fit_transform(X)\n",
        "  X_reconstruced = pca.inverse_transform(X_pca)\n",
        "  return X_pca, X_reconstruced\n",
        "\n"
      ],
      "metadata": {
        "id": "eEKJs3FaxHzd"
      },
      "execution_count": null,
      "outputs": []
    },
    {
      "cell_type": "code",
      "source": [
        "X_train_val_pca, _ = pca_compress(X_train_val,2)"
      ],
      "metadata": {
        "id": "vAFdYbLoxRMQ"
      },
      "execution_count": null,
      "outputs": []
    },
    {
      "cell_type": "code",
      "source": [
        "sns.set(rc={'figure.figsize':(10,7)})\n",
        "sns.scatterplot(x = X_train_val_pca[:,0], y = X_train_val_pca[:,1], hue = y_train_val, palette = sns.hls_palette(2), legend = 'full')"
      ],
      "metadata": {
        "colab": {
          "base_uri": "https://localhost:8080/",
          "height": 449
        },
        "id": "W9EZLUz7xWfQ",
        "outputId": "9f7c3314-e0c1-4d0b-e56b-3212ddad2542"
      },
      "execution_count": null,
      "outputs": [
        {
          "output_type": "execute_result",
          "data": {
            "text/plain": [
              "<matplotlib.axes._subplots.AxesSubplot at 0x7f55e3ad67c0>"
            ]
          },
          "metadata": {},
          "execution_count": 33
        },
        {
          "output_type": "display_data",
          "data": {
            "text/plain": [
              "<Figure size 720x504 with 1 Axes>"
            ],
            "image/png": "[encoded data removed]"
          },
          "metadata": {}
        }
      ]
    },
    {
      "cell_type": "markdown",
      "source": [
        "## Another dataset"
      ],
      "metadata": {
        "id": "OpU4XnBcuwrU"
      }
    },
    {
      "cell_type": "code",
      "source": [
        "data1 = pd.read_csv(\"NAQ_R_df.csv\", sep = \";\")\n",
        "\n",
        "honest = data1[data1['CONDITION'] == 'H']\n",
        "dishonest = data1[data1['CONDITION'] == 'D']\n"
      ],
      "metadata": {
        "id": "kyVWwUhJuypH",
        "colab": {
          "base_uri": "https://localhost:8080/",
          "height": 380
        },
        "outputId": "8f710940-cf42-4d85-d9a8-06ca1efe2262"
      },
      "execution_count": null,
      "outputs": [
        {
          "output_type": "error",
          "ename": "FileNotFoundError",
          "evalue": "ignored",
          "traceback": [
            "\u001b[0;31m---------------------------------------------------------------------------\u001b[0m",
            "\u001b[0;31mFileNotFoundError\u001b[0m                         Traceback (most recent call last)",
            "\u001b[0;32m<ipython-input-28-7f88a2a2467e>\u001b[0m in \u001b[0;36m<module>\u001b[0;34m\u001b[0m\n\u001b[0;32m----> 1\u001b[0;31m \u001b[0mdata1\u001b[0m \u001b[0;34m=\u001b[0m \u001b[0mpd\u001b[0m\u001b[0;34m.\u001b[0m\u001b[0mread_csv\u001b[0m\u001b[0;34m(\u001b[0m\u001b[0;34m\"NAQ_R_df.csv\"\u001b[0m\u001b[0;34m,\u001b[0m \u001b[0msep\u001b[0m \u001b[0;34m=\u001b[0m \u001b[0;34m\";\"\u001b[0m\u001b[0;34m)\u001b[0m\u001b[0;34m\u001b[0m\u001b[0;34m\u001b[0m\u001b[0m\n\u001b[0m\u001b[1;32m      2\u001b[0m \u001b[0;34m\u001b[0m\u001b[0m\n\u001b[1;32m      3\u001b[0m \u001b[0mhonest\u001b[0m \u001b[0;34m=\u001b[0m \u001b[0mdata1\u001b[0m\u001b[0;34m[\u001b[0m\u001b[0mdata1\u001b[0m\u001b[0;34m[\u001b[0m\u001b[0;34m'CONDITION'\u001b[0m\u001b[0;34m]\u001b[0m \u001b[0;34m==\u001b[0m \u001b[0;34m'H'\u001b[0m\u001b[0;34m]\u001b[0m\u001b[0;34m\u001b[0m\u001b[0;34m\u001b[0m\u001b[0m\n\u001b[1;32m      4\u001b[0m \u001b[0mdishonest\u001b[0m \u001b[0;34m=\u001b[0m \u001b[0mdata1\u001b[0m\u001b[0;34m[\u001b[0m\u001b[0mdata1\u001b[0m\u001b[0;34m[\u001b[0m\u001b[0;34m'CONDITION'\u001b[0m\u001b[0;34m]\u001b[0m \u001b[0;34m==\u001b[0m \u001b[0;34m'D'\u001b[0m\u001b[0;34m]\u001b[0m\u001b[0;34m\u001b[0m\u001b[0;34m\u001b[0m\u001b[0m\n",
            "\u001b[0;32m/usr/local/lib/python3.8/dist-packages/pandas/util/_decorators.py\u001b[0m in \u001b[0;36mwrapper\u001b[0;34m(*args, **kwargs)\u001b[0m\n\u001b[1;32m    309\u001b[0m                     \u001b[0mstacklevel\u001b[0m\u001b[0;34m=\u001b[0m\u001b[0mstacklevel\u001b[0m\u001b[0;34m,\u001b[0m\u001b[0;34m\u001b[0m\u001b[0;34m\u001b[0m\u001b[0m\n\u001b[1;32m    310\u001b[0m                 )\n\u001b[0;32m--> 311\u001b[0;31m             \u001b[0;32mreturn\u001b[0m \u001b[0mfunc\u001b[0m\u001b[0;34m(\u001b[0m\u001b[0;34m*\u001b[0m\u001b[0margs\u001b[0m\u001b[0;34m,\u001b[0m \u001b[0;34m**\u001b[0m\u001b[0mkwargs\u001b[0m\u001b[0;34m)\u001b[0m\u001b[0;34m\u001b[0m\u001b[0;34m\u001b[0m\u001b[0m\n\u001b[0m\u001b[1;32m    312\u001b[0m \u001b[0;34m\u001b[0m\u001b[0m\n\u001b[1;32m    313\u001b[0m         \u001b[0;32mreturn\u001b[0m \u001b[0mwrapper\u001b[0m\u001b[0;34m\u001b[0m\u001b[0;34m\u001b[0m\u001b[0m\n",
            "\u001b[0;32m/usr/local/lib/python3.8/dist-packages/pandas/io/parsers/readers.py\u001b[0m in \u001b[0;36mread_csv\u001b[0;34m(filepath_or_buffer, sep, delimiter, header, names, index_col, usecols, squeeze, prefix, mangle_dupe_cols, dtype, engine, converters, true_values, false_values, skipinitialspace, skiprows, skipfooter, nrows, na_values, keep_default_na, na_filter, verbose, skip_blank_lines, parse_dates, infer_datetime_format, keep_date_col, date_parser, dayfirst, cache_dates, iterator, chunksize, compression, thousands, decimal, lineterminator, quotechar, quoting, doublequote, escapechar, comment, encoding, encoding_errors, dialect, error_bad_lines, warn_bad_lines, on_bad_lines, delim_whitespace, low_memory, memory_map, float_precision, storage_options)\u001b[0m\n\u001b[1;32m    584\u001b[0m     \u001b[0mkwds\u001b[0m\u001b[0;34m.\u001b[0m\u001b[0mupdate\u001b[0m\u001b[0;34m(\u001b[0m\u001b[0mkwds_defaults\u001b[0m\u001b[0;34m)\u001b[0m\u001b[0;34m\u001b[0m\u001b[0;34m\u001b[0m\u001b[0m\n\u001b[1;32m    585\u001b[0m \u001b[0;34m\u001b[0m\u001b[0m\n\u001b[0;32m--> 586\u001b[0;31m     \u001b[0;32mreturn\u001b[0m \u001b[0m_read\u001b[0m\u001b[0;34m(\u001b[0m\u001b[0mfilepath_or_buffer\u001b[0m\u001b[0;34m,\u001b[0m \u001b[0mkwds\u001b[0m\u001b[0;34m)\u001b[0m\u001b[0;34m\u001b[0m\u001b[0;34m\u001b[0m\u001b[0m\n\u001b[0m\u001b[1;32m    587\u001b[0m \u001b[0;34m\u001b[0m\u001b[0m\n\u001b[1;32m    588\u001b[0m \u001b[0;34m\u001b[0m\u001b[0m\n",
            "\u001b[0;32m/usr/local/lib/python3.8/dist-packages/pandas/io/parsers/readers.py\u001b[0m in \u001b[0;36m_read\u001b[0;34m(filepath_or_buffer, kwds)\u001b[0m\n\u001b[1;32m    480\u001b[0m \u001b[0;34m\u001b[0m\u001b[0m\n\u001b[1;32m    481\u001b[0m     \u001b[0;31m# Create the parser.\u001b[0m\u001b[0;34m\u001b[0m\u001b[0;34m\u001b[0m\u001b[0;34m\u001b[0m\u001b[0m\n\u001b[0;32m--> 482\u001b[0;31m     \u001b[0mparser\u001b[0m \u001b[0;34m=\u001b[0m \u001b[0mTextFileReader\u001b[0m\u001b[0;34m(\u001b[0m\u001b[0mfilepath_or_buffer\u001b[0m\u001b[0;34m,\u001b[0m \u001b[0;34m**\u001b[0m\u001b[0mkwds\u001b[0m\u001b[0;34m)\u001b[0m\u001b[0;34m\u001b[0m\u001b[0;34m\u001b[0m\u001b[0m\n\u001b[0m\u001b[1;32m    483\u001b[0m \u001b[0;34m\u001b[0m\u001b[0m\n\u001b[1;32m    484\u001b[0m     \u001b[0;32mif\u001b[0m \u001b[0mchunksize\u001b[0m \u001b[0;32mor\u001b[0m \u001b[0miterator\u001b[0m\u001b[0;34m:\u001b[0m\u001b[0;34m\u001b[0m\u001b[0;34m\u001b[0m\u001b[0m\n",
            "\u001b[0;32m/usr/local/lib/python3.8/dist-packages/pandas/io/parsers/readers.py\u001b[0m in \u001b[0;36m__init__\u001b[0;34m(self, f, engine, **kwds)\u001b[0m\n\u001b[1;32m    809\u001b[0m             \u001b[0mself\u001b[0m\u001b[0;34m.\u001b[0m\u001b[0moptions\u001b[0m\u001b[0;34m[\u001b[0m\u001b[0;34m\"has_index_names\"\u001b[0m\u001b[0;34m]\u001b[0m \u001b[0;34m=\u001b[0m \u001b[0mkwds\u001b[0m\u001b[0;34m[\u001b[0m\u001b[0;34m\"has_index_names\"\u001b[0m\u001b[0;34m]\u001b[0m\u001b[0;34m\u001b[0m\u001b[0;34m\u001b[0m\u001b[0m\n\u001b[1;32m    810\u001b[0m \u001b[0;34m\u001b[0m\u001b[0m\n\u001b[0;32m--> 811\u001b[0;31m         \u001b[0mself\u001b[0m\u001b[0;34m.\u001b[0m\u001b[0m_engine\u001b[0m \u001b[0;34m=\u001b[0m \u001b[0mself\u001b[0m\u001b[0;34m.\u001b[0m\u001b[0m_make_engine\u001b[0m\u001b[0;34m(\u001b[0m\u001b[0mself\u001b[0m\u001b[0;34m.\u001b[0m\u001b[0mengine\u001b[0m\u001b[0;34m)\u001b[0m\u001b[0;34m\u001b[0m\u001b[0;34m\u001b[0m\u001b[0m\n\u001b[0m\u001b[1;32m    812\u001b[0m \u001b[0;34m\u001b[0m\u001b[0m\n\u001b[1;32m    813\u001b[0m     \u001b[0;32mdef\u001b[0m \u001b[0mclose\u001b[0m\u001b[0;34m(\u001b[0m\u001b[0mself\u001b[0m\u001b[0;34m)\u001b[0m\u001b[0;34m:\u001b[0m\u001b[0;34m\u001b[0m\u001b[0;34m\u001b[0m\u001b[0m\n",
            "\u001b[0;32m/usr/local/lib/python3.8/dist-packages/pandas/io/parsers/readers.py\u001b[0m in \u001b[0;36m_make_engine\u001b[0;34m(self, engine)\u001b[0m\n\u001b[1;32m   1038\u001b[0m             )\n\u001b[1;32m   1039\u001b[0m         \u001b[0;31m# error: Too many arguments for \"ParserBase\"\u001b[0m\u001b[0;34m\u001b[0m\u001b[0;34m\u001b[0m\u001b[0;34m\u001b[0m\u001b[0m\n\u001b[0;32m-> 1040\u001b[0;31m         \u001b[0;32mreturn\u001b[0m \u001b[0mmapping\u001b[0m\u001b[0;34m[\u001b[0m\u001b[0mengine\u001b[0m\u001b[0;34m]\u001b[0m\u001b[0;34m(\u001b[0m\u001b[0mself\u001b[0m\u001b[0;34m.\u001b[0m\u001b[0mf\u001b[0m\u001b[0;34m,\u001b[0m \u001b[0;34m**\u001b[0m\u001b[0mself\u001b[0m\u001b[0;34m.\u001b[0m\u001b[0moptions\u001b[0m\u001b[0;34m)\u001b[0m  \u001b[0;31m# type: ignore[call-arg]\u001b[0m\u001b[0;34m\u001b[0m\u001b[0;34m\u001b[0m\u001b[0m\n\u001b[0m\u001b[1;32m   1041\u001b[0m \u001b[0;34m\u001b[0m\u001b[0m\n\u001b[1;32m   1042\u001b[0m     \u001b[0;32mdef\u001b[0m \u001b[0m_failover_to_python\u001b[0m\u001b[0;34m(\u001b[0m\u001b[0mself\u001b[0m\u001b[0;34m)\u001b[0m\u001b[0;34m:\u001b[0m\u001b[0;34m\u001b[0m\u001b[0;34m\u001b[0m\u001b[0m\n",
            "\u001b[0;32m/usr/local/lib/python3.8/dist-packages/pandas/io/parsers/c_parser_wrapper.py\u001b[0m in \u001b[0;36m__init__\u001b[0;34m(self, src, **kwds)\u001b[0m\n\u001b[1;32m     49\u001b[0m \u001b[0;34m\u001b[0m\u001b[0m\n\u001b[1;32m     50\u001b[0m         \u001b[0;31m# open handles\u001b[0m\u001b[0;34m\u001b[0m\u001b[0;34m\u001b[0m\u001b[0;34m\u001b[0m\u001b[0m\n\u001b[0;32m---> 51\u001b[0;31m         \u001b[0mself\u001b[0m\u001b[0;34m.\u001b[0m\u001b[0m_open_handles\u001b[0m\u001b[0;34m(\u001b[0m\u001b[0msrc\u001b[0m\u001b[0;34m,\u001b[0m \u001b[0mkwds\u001b[0m\u001b[0;34m)\u001b[0m\u001b[0;34m\u001b[0m\u001b[0;34m\u001b[0m\u001b[0m\n\u001b[0m\u001b[1;32m     52\u001b[0m         \u001b[0;32massert\u001b[0m \u001b[0mself\u001b[0m\u001b[0;34m.\u001b[0m\u001b[0mhandles\u001b[0m \u001b[0;32mis\u001b[0m \u001b[0;32mnot\u001b[0m \u001b[0;32mNone\u001b[0m\u001b[0;34m\u001b[0m\u001b[0;34m\u001b[0m\u001b[0m\n\u001b[1;32m     53\u001b[0m \u001b[0;34m\u001b[0m\u001b[0m\n",
            "\u001b[0;32m/usr/local/lib/python3.8/dist-packages/pandas/io/parsers/base_parser.py\u001b[0m in \u001b[0;36m_open_handles\u001b[0;34m(self, src, kwds)\u001b[0m\n\u001b[1;32m    220\u001b[0m         \u001b[0mLet\u001b[0m \u001b[0mthe\u001b[0m \u001b[0mreaders\u001b[0m \u001b[0mopen\u001b[0m \u001b[0mIOHandles\u001b[0m \u001b[0mafter\u001b[0m \u001b[0mthey\u001b[0m \u001b[0mare\u001b[0m \u001b[0mdone\u001b[0m \u001b[0;32mwith\u001b[0m \u001b[0mtheir\u001b[0m \u001b[0mpotential\u001b[0m \u001b[0mraises\u001b[0m\u001b[0;34m.\u001b[0m\u001b[0;34m\u001b[0m\u001b[0;34m\u001b[0m\u001b[0m\n\u001b[1;32m    221\u001b[0m         \"\"\"\n\u001b[0;32m--> 222\u001b[0;31m         self.handles = get_handle(\n\u001b[0m\u001b[1;32m    223\u001b[0m             \u001b[0msrc\u001b[0m\u001b[0;34m,\u001b[0m\u001b[0;34m\u001b[0m\u001b[0;34m\u001b[0m\u001b[0m\n\u001b[1;32m    224\u001b[0m             \u001b[0;34m\"r\"\u001b[0m\u001b[0;34m,\u001b[0m\u001b[0;34m\u001b[0m\u001b[0;34m\u001b[0m\u001b[0m\n",
            "\u001b[0;32m/usr/local/lib/python3.8/dist-packages/pandas/io/common.py\u001b[0m in \u001b[0;36mget_handle\u001b[0;34m(path_or_buf, mode, encoding, compression, memory_map, is_text, errors, storage_options)\u001b[0m\n\u001b[1;32m    700\u001b[0m         \u001b[0;32mif\u001b[0m \u001b[0mioargs\u001b[0m\u001b[0;34m.\u001b[0m\u001b[0mencoding\u001b[0m \u001b[0;32mand\u001b[0m \u001b[0;34m\"b\"\u001b[0m \u001b[0;32mnot\u001b[0m \u001b[0;32min\u001b[0m \u001b[0mioargs\u001b[0m\u001b[0;34m.\u001b[0m\u001b[0mmode\u001b[0m\u001b[0;34m:\u001b[0m\u001b[0;34m\u001b[0m\u001b[0;34m\u001b[0m\u001b[0m\n\u001b[1;32m    701\u001b[0m             \u001b[0;31m# Encoding\u001b[0m\u001b[0;34m\u001b[0m\u001b[0;34m\u001b[0m\u001b[0;34m\u001b[0m\u001b[0m\n\u001b[0;32m--> 702\u001b[0;31m             handle = open(\n\u001b[0m\u001b[1;32m    703\u001b[0m                 \u001b[0mhandle\u001b[0m\u001b[0;34m,\u001b[0m\u001b[0;34m\u001b[0m\u001b[0;34m\u001b[0m\u001b[0m\n\u001b[1;32m    704\u001b[0m                 \u001b[0mioargs\u001b[0m\u001b[0;34m.\u001b[0m\u001b[0mmode\u001b[0m\u001b[0;34m,\u001b[0m\u001b[0;34m\u001b[0m\u001b[0;34m\u001b[0m\u001b[0m\n",
            "\u001b[0;31mFileNotFoundError\u001b[0m: [Errno 2] No such file or directory: 'NAQ_R_df.csv'"
          ]
        }
      ]
    },
    {
      "cell_type": "code",
      "source": [
        "data1"
      ],
      "metadata": {
        "id": "wesjowwUxtrN"
      },
      "execution_count": null,
      "outputs": []
    },
    {
      "cell_type": "code",
      "source": [
        "#split X and y\n",
        "X1 = data1.iloc[:,0:data1.shape[1]-1]\n",
        "X1 = X1.to_numpy()\n",
        "X1_norm = X1/5\n",
        "\n",
        "y1 = data1['CONDITION']"
      ],
      "metadata": {
        "id": "YcYQaERZx5PM"
      },
      "execution_count": null,
      "outputs": []
    },
    {
      "cell_type": "code",
      "source": [
        "X1.shape"
      ],
      "metadata": {
        "id": "n4eMcX4Sy9mj"
      },
      "execution_count": null,
      "outputs": []
    },
    {
      "cell_type": "code",
      "source": [
        "#0 is honest, 1 is disonest\n",
        "y11 = np.zeros(444)\n",
        "y12 = np.ones(444)\n",
        "y1 = np.concatenate((y11, y12), axis = None)\n",
        "y1"
      ],
      "metadata": {
        "id": "grI9bmEmyAdA"
      },
      "execution_count": null,
      "outputs": []
    },
    {
      "cell_type": "code",
      "source": [
        "#train test split\n",
        "X_train_val1, X_test1, y_train_val1, y_test1 = train_test_split(\n",
        "    X1, y1, test_size = 0.15, shuffle = True\n",
        ")\n",
        "X_train1, X_val1, y_train1, y_val1 = train_test_split(\n",
        "    X_train_val1, y_train_val1, test_size = 0.10, shuffle = True\n",
        ")\n"
      ],
      "metadata": {
        "id": "VZenlVS8yF3A"
      },
      "execution_count": null,
      "outputs": []
    },
    {
      "cell_type": "code",
      "source": [
        "from sklearn.ensemble import RandomForestClassifier\n",
        "\n",
        "# train the random forest\n",
        "rf_grid_params = {\n",
        "    'n_estimators': (15, 20, 30, 40, 50),\n",
        "    'criterion': ['entropy'],\n",
        "    'max_depth': (None, 5, 10, 20, 30),\n",
        "}\n",
        "rf_clf = RandomForestClassifier(random_state= 123)\n",
        "rf_trained = model_train_evaluate(rf_clf,rf_grid_params,X_train_val1,y_train_val1)"
      ],
      "metadata": {
        "id": "hkPNq99FyLrL"
      },
      "execution_count": null,
      "outputs": []
    },
    {
      "cell_type": "code",
      "source": [
        "X_train_val_pca1, _ = pca_compress(X_train_val1,2)"
      ],
      "metadata": {
        "id": "mUUEkU9OyVqA"
      },
      "execution_count": null,
      "outputs": []
    },
    {
      "cell_type": "code",
      "source": [
        "sns.set(rc={'figure.figsize':(15,10)})\n",
        "sns.scatterplot(x = X_train_val_pca1[:,0], y = X_train_val_pca1[:,1], hue = y_train_val1, palette = sns.hls_palette(2), legend = 'full')"
      ],
      "metadata": {
        "id": "v7VnaXg5yb7A"
      },
      "execution_count": null,
      "outputs": []
    },
    {
      "cell_type": "markdown",
      "source": [
        "It has a different shape from the other dataset"
      ],
      "metadata": {
        "id": "LIZtiXZX1vBa"
      }
    },
    {
      "cell_type": "code",
      "source": [
        "reduced_res1 = umap.UMAP(n_neighbors=5,n_components=2).fit_transform(X_train_val1)"
      ],
      "metadata": {
        "id": "Xf7GBnsizn73"
      },
      "execution_count": null,
      "outputs": []
    },
    {
      "cell_type": "code",
      "source": [
        "sns.set(rc={'figure.figsize':(15,10)})\n",
        "sns.scatterplot(x = reduced_res1[:,0], y = reduced_res1[:,1], hue = y_train_val1, palette = sns.hls_palette(2), legend = 'full')"
      ],
      "metadata": {
        "id": "gZHu3aGGzza3"
      },
      "execution_count": null,
      "outputs": []
    },
    {
      "cell_type": "markdown",
      "source": [
        "## Crazy idea"
      ],
      "metadata": {
        "id": "XZVuxgtserUg"
      }
    },
    {
      "cell_type": "code",
      "source": [
        "# !pip install -U \"tensorflow==2.9.0\"\n",
        "!pip install -U \"tensorflow-text==2.9.0\"\n",
        "import tensorflow as tf\n",
        "import tensorflow_text as text"
      ],
      "metadata": {
        "colab": {
          "base_uri": "https://localhost:8080/"
        },
        "id": "ixaM7gVVtdKA",
        "outputId": "e2846fbe-bfcc-49cd-cf3a-1c8cc3967533"
      },
      "execution_count": null,
      "outputs": [
        {
          "output_type": "stream",
          "name": "stdout",
          "text": [
            "Looking in indexes: https://pypi.org/simple, https://us-python.pkg.dev/colab-wheels/public/simple/\n",
            "Collecting tensorflow-text==2.9.0\n",
            "  Downloading tensorflow_text-2.9.0-cp38-cp38-manylinux_2_17_x86_64.manylinux2014_x86_64.whl (4.6 MB)\n",
            "\u001b[K     |████████████████████████████████| 4.6 MB 14.7 MB/s \n",
            "\u001b[?25hRequirement already satisfied: tensorflow<2.10,>=2.9.0 in /usr/local/lib/python3.8/dist-packages (from tensorflow-text==2.9.0) (2.9.2)\n",
            "Requirement already satisfied: tensorflow-hub>=0.8.0 in /usr/local/lib/python3.8/dist-packages (from tensorflow-text==2.9.0) (0.12.0)\n",
            "Requirement already satisfied: keras-preprocessing>=1.1.1 in /usr/local/lib/python3.8/dist-packages (from tensorflow<2.10,>=2.9.0->tensorflow-text==2.9.0) (1.1.2)\n",
            "Requirement already satisfied: flatbuffers<2,>=1.12 in /usr/local/lib/python3.8/dist-packages (from tensorflow<2.10,>=2.9.0->tensorflow-text==2.9.0) (1.12)\n",
            "Requirement already satisfied: protobuf<3.20,>=3.9.2 in /usr/local/lib/python3.8/dist-packages (from tensorflow<2.10,>=2.9.0->tensorflow-text==2.9.0) (3.19.6)\n",
            "Requirement already satisfied: grpcio<2.0,>=1.24.3 in /usr/local/lib/python3.8/dist-packages (from tensorflow<2.10,>=2.9.0->tensorflow-text==2.9.0) (1.50.0)\n",
            "Requirement already satisfied: packaging in /usr/local/lib/python3.8/dist-packages (from tensorflow<2.10,>=2.9.0->tensorflow-text==2.9.0) (21.3)\n",
            "Requirement already satisfied: setuptools in /usr/local/lib/python3.8/dist-packages (from tensorflow<2.10,>=2.9.0->tensorflow-text==2.9.0) (57.4.0)\n",
            "Requirement already satisfied: opt-einsum>=2.3.2 in /usr/local/lib/python3.8/dist-packages (from tensorflow<2.10,>=2.9.0->tensorflow-text==2.9.0) (3.3.0)\n",
            "Requirement already satisfied: h5py>=2.9.0 in /usr/local/lib/python3.8/dist-packages (from tensorflow<2.10,>=2.9.0->tensorflow-text==2.9.0) (3.1.0)\n",
            "Requirement already satisfied: tensorflow-io-gcs-filesystem>=0.23.1 in /usr/local/lib/python3.8/dist-packages (from tensorflow<2.10,>=2.9.0->tensorflow-text==2.9.0) (0.28.0)\n",
            "Requirement already satisfied: libclang>=13.0.0 in /usr/local/lib/python3.8/dist-packages (from tensorflow<2.10,>=2.9.0->tensorflow-text==2.9.0) (14.0.6)\n",
            "Requirement already satisfied: six>=1.12.0 in /usr/local/lib/python3.8/dist-packages (from tensorflow<2.10,>=2.9.0->tensorflow-text==2.9.0) (1.15.0)\n",
            "Requirement already satisfied: numpy>=1.20 in /usr/local/lib/python3.8/dist-packages (from tensorflow<2.10,>=2.9.0->tensorflow-text==2.9.0) (1.21.6)\n",
            "Requirement already satisfied: keras<2.10.0,>=2.9.0rc0 in /usr/local/lib/python3.8/dist-packages (from tensorflow<2.10,>=2.9.0->tensorflow-text==2.9.0) (2.9.0)\n",
            "Requirement already satisfied: tensorflow-estimator<2.10.0,>=2.9.0rc0 in /usr/local/lib/python3.8/dist-packages (from tensorflow<2.10,>=2.9.0->tensorflow-text==2.9.0) (2.9.0)\n",
            "Requirement already satisfied: google-pasta>=0.1.1 in /usr/local/lib/python3.8/dist-packages (from tensorflow<2.10,>=2.9.0->tensorflow-text==2.9.0) (0.2.0)\n",
            "Requirement already satisfied: wrapt>=1.11.0 in /usr/local/lib/python3.8/dist-packages (from tensorflow<2.10,>=2.9.0->tensorflow-text==2.9.0) (1.14.1)\n",
            "Requirement already satisfied: absl-py>=1.0.0 in /usr/local/lib/python3.8/dist-packages (from tensorflow<2.10,>=2.9.0->tensorflow-text==2.9.0) (1.3.0)\n",
            "Requirement already satisfied: astunparse>=1.6.0 in /usr/local/lib/python3.8/dist-packages (from tensorflow<2.10,>=2.9.0->tensorflow-text==2.9.0) (1.6.3)\n",
            "Requirement already satisfied: tensorboard<2.10,>=2.9 in /usr/local/lib/python3.8/dist-packages (from tensorflow<2.10,>=2.9.0->tensorflow-text==2.9.0) (2.9.1)\n",
            "Requirement already satisfied: gast<=0.4.0,>=0.2.1 in /usr/local/lib/python3.8/dist-packages (from tensorflow<2.10,>=2.9.0->tensorflow-text==2.9.0) (0.4.0)\n",
            "Requirement already satisfied: termcolor>=1.1.0 in /usr/local/lib/python3.8/dist-packages (from tensorflow<2.10,>=2.9.0->tensorflow-text==2.9.0) (2.1.1)\n",
            "Requirement already satisfied: typing-extensions>=3.6.6 in /usr/local/lib/python3.8/dist-packages (from tensorflow<2.10,>=2.9.0->tensorflow-text==2.9.0) (4.1.1)\n",
            "Requirement already satisfied: wheel<1.0,>=0.23.0 in /usr/local/lib/python3.8/dist-packages (from astunparse>=1.6.0->tensorflow<2.10,>=2.9.0->tensorflow-text==2.9.0) (0.38.4)\n",
            "Requirement already satisfied: tensorboard-plugin-wit>=1.6.0 in /usr/local/lib/python3.8/dist-packages (from tensorboard<2.10,>=2.9->tensorflow<2.10,>=2.9.0->tensorflow-text==2.9.0) (1.8.1)\n",
            "Requirement already satisfied: google-auth-oauthlib<0.5,>=0.4.1 in /usr/local/lib/python3.8/dist-packages (from tensorboard<2.10,>=2.9->tensorflow<2.10,>=2.9.0->tensorflow-text==2.9.0) (0.4.6)\n",
            "Requirement already satisfied: requests<3,>=2.21.0 in /usr/local/lib/python3.8/dist-packages (from tensorboard<2.10,>=2.9->tensorflow<2.10,>=2.9.0->tensorflow-text==2.9.0) (2.23.0)\n",
            "Requirement already satisfied: tensorboard-data-server<0.7.0,>=0.6.0 in /usr/local/lib/python3.8/dist-packages (from tensorboard<2.10,>=2.9->tensorflow<2.10,>=2.9.0->tensorflow-text==2.9.0) (0.6.1)\n",
            "Requirement already satisfied: markdown>=2.6.8 in /usr/local/lib/python3.8/dist-packages (from tensorboard<2.10,>=2.9->tensorflow<2.10,>=2.9.0->tensorflow-text==2.9.0) (3.4.1)\n",
            "Requirement already satisfied: werkzeug>=1.0.1 in /usr/local/lib/python3.8/dist-packages (from tensorboard<2.10,>=2.9->tensorflow<2.10,>=2.9.0->tensorflow-text==2.9.0) (1.0.1)\n",
            "Requirement already satisfied: google-auth<3,>=1.6.3 in /usr/local/lib/python3.8/dist-packages (from tensorboard<2.10,>=2.9->tensorflow<2.10,>=2.9.0->tensorflow-text==2.9.0) (2.14.1)\n",
            "Requirement already satisfied: pyasn1-modules>=0.2.1 in /usr/local/lib/python3.8/dist-packages (from google-auth<3,>=1.6.3->tensorboard<2.10,>=2.9->tensorflow<2.10,>=2.9.0->tensorflow-text==2.9.0) (0.2.8)\n",
            "Requirement already satisfied: rsa<5,>=3.1.4 in /usr/local/lib/python3.8/dist-packages (from google-auth<3,>=1.6.3->tensorboard<2.10,>=2.9->tensorflow<2.10,>=2.9.0->tensorflow-text==2.9.0) (4.9)\n",
            "Requirement already satisfied: cachetools<6.0,>=2.0.0 in /usr/local/lib/python3.8/dist-packages (from google-auth<3,>=1.6.3->tensorboard<2.10,>=2.9->tensorflow<2.10,>=2.9.0->tensorflow-text==2.9.0) (5.2.0)\n",
            "Requirement already satisfied: requests-oauthlib>=0.7.0 in /usr/local/lib/python3.8/dist-packages (from google-auth-oauthlib<0.5,>=0.4.1->tensorboard<2.10,>=2.9->tensorflow<2.10,>=2.9.0->tensorflow-text==2.9.0) (1.3.1)\n",
            "Requirement already satisfied: importlib-metadata>=4.4 in /usr/local/lib/python3.8/dist-packages (from markdown>=2.6.8->tensorboard<2.10,>=2.9->tensorflow<2.10,>=2.9.0->tensorflow-text==2.9.0) (4.13.0)\n",
            "Requirement already satisfied: zipp>=0.5 in /usr/local/lib/python3.8/dist-packages (from importlib-metadata>=4.4->markdown>=2.6.8->tensorboard<2.10,>=2.9->tensorflow<2.10,>=2.9.0->tensorflow-text==2.9.0) (3.10.0)\n",
            "Requirement already satisfied: pyasn1<0.5.0,>=0.4.6 in /usr/local/lib/python3.8/dist-packages (from pyasn1-modules>=0.2.1->google-auth<3,>=1.6.3->tensorboard<2.10,>=2.9->tensorflow<2.10,>=2.9.0->tensorflow-text==2.9.0) (0.4.8)\n",
            "Requirement already satisfied: idna<3,>=2.5 in /usr/local/lib/python3.8/dist-packages (from requests<3,>=2.21.0->tensorboard<2.10,>=2.9->tensorflow<2.10,>=2.9.0->tensorflow-text==2.9.0) (2.10)\n",
            "Requirement already satisfied: urllib3!=1.25.0,!=1.25.1,<1.26,>=1.21.1 in /usr/local/lib/python3.8/dist-packages (from requests<3,>=2.21.0->tensorboard<2.10,>=2.9->tensorflow<2.10,>=2.9.0->tensorflow-text==2.9.0) (1.24.3)\n",
            "Requirement already satisfied: chardet<4,>=3.0.2 in /usr/local/lib/python3.8/dist-packages (from requests<3,>=2.21.0->tensorboard<2.10,>=2.9->tensorflow<2.10,>=2.9.0->tensorflow-text==2.9.0) (3.0.4)\n",
            "Requirement already satisfied: certifi>=2017.4.17 in /usr/local/lib/python3.8/dist-packages (from requests<3,>=2.21.0->tensorboard<2.10,>=2.9->tensorflow<2.10,>=2.9.0->tensorflow-text==2.9.0) (2022.9.24)\n",
            "Requirement already satisfied: oauthlib>=3.0.0 in /usr/local/lib/python3.8/dist-packages (from requests-oauthlib>=0.7.0->google-auth-oauthlib<0.5,>=0.4.1->tensorboard<2.10,>=2.9->tensorflow<2.10,>=2.9.0->tensorflow-text==2.9.0) (3.2.2)\n",
            "Requirement already satisfied: pyparsing!=3.0.5,>=2.0.2 in /usr/local/lib/python3.8/dist-packages (from packaging->tensorflow<2.10,>=2.9.0->tensorflow-text==2.9.0) (3.0.9)\n",
            "Installing collected packages: tensorflow-text\n",
            "Successfully installed tensorflow-text-2.9.0\n"
          ]
        }
      ]
    },
    {
      "cell_type": "code",
      "source": [
        "import tensorflow_hub as hub\n",
        "import tensorflow_datasets as tfds"
      ],
      "metadata": {
        "id": "mkhK4Us-thuV"
      },
      "execution_count": null,
      "outputs": []
    },
    {
      "cell_type": "code",
      "source": [
        "#try Random Forest\n",
        "clf_forest = RandomForestClassifier(max_depth = 10, n_estimators = 40 )\n",
        "\n",
        "clf_forest.fit(X, y)\n",
        "\n",
        "labels = clf_forest.feature_importances_\n",
        "labels\n"
      ],
      "metadata": {
        "colab": {
          "base_uri": "https://localhost:8080/"
        },
        "id": "B3OeVIkILpid",
        "outputId": "d40d27b0-c11f-4ea5-da54-5e280454aa19"
      },
      "execution_count": null,
      "outputs": [
        {
          "output_type": "execute_result",
          "data": {
            "text/plain": [
              "array([2.48048783e-03, 9.28478116e-02, 4.31648393e-04, 3.15942727e-03,\n",
              "       1.87079338e-03, 1.20093544e-03, 7.05034707e-04, 9.23609971e-04,\n",
              "       5.17755604e-04, 8.38014291e-04, 6.49883395e-03, 8.09858565e-04,\n",
              "       2.38246237e-05, 9.43327266e-05, 1.79190990e-03, 1.13501231e-03,\n",
              "       3.46357560e-03, 6.21040297e-04, 3.81593425e-03, 4.83693690e-04,\n",
              "       1.92902017e-04, 1.45858239e-03, 1.99075202e-03, 1.78186996e-03,\n",
              "       1.09918753e-03, 1.43643755e-02, 9.24053069e-04, 4.17720113e-04,\n",
              "       7.60173460e-04, 5.74784690e-04, 1.13108952e-02, 1.13356047e-03,\n",
              "       1.17402207e-03, 1.56602149e-03, 4.67162612e-04, 2.27795396e-02,\n",
              "       3.78460042e-02, 9.75203917e-04, 2.68357966e-03, 6.18078214e-04,\n",
              "       1.12605516e-03, 2.23431654e-02, 1.17772337e-03, 1.41818203e-03,\n",
              "       4.78442044e-04, 5.83020928e-04, 3.24354211e-04, 2.17112271e-03,\n",
              "       1.39155465e-03, 2.37964292e-04, 7.56561628e-04, 2.78224353e-02,\n",
              "       3.84084332e-03, 1.77183339e-02, 5.09776662e-03, 9.07107259e-04,\n",
              "       9.06920385e-03, 7.08468872e-03, 1.63271716e-03, 8.64650947e-04,\n",
              "       5.09352163e-04, 9.53066925e-04, 1.13087272e-03, 7.69199103e-03,\n",
              "       3.30559941e-03, 7.90346508e-04, 2.05298547e-03, 3.14282701e-04,\n",
              "       2.31175841e-03, 4.17665151e-03, 1.77403899e-02, 2.90492453e-02,\n",
              "       4.53671624e-04, 7.78918190e-04, 1.17730748e-03, 1.65209608e-04,\n",
              "       2.05618485e-03, 1.11875551e-03, 1.84428850e-03, 2.85294107e-04,\n",
              "       2.69069116e-03, 1.13348196e-03, 4.50270223e-03, 9.11246373e-05,\n",
              "       1.37477692e-03, 7.91574092e-04, 2.89055044e-03, 4.99602274e-04,\n",
              "       8.42308412e-04, 7.24318816e-04, 5.25430307e-04, 1.53078075e-03,\n",
              "       4.81598550e-04, 1.57884663e-04, 4.26408670e-04, 1.49558908e-03,\n",
              "       1.05920849e-03, 9.86958167e-04, 1.55489828e-03, 1.09965332e-03,\n",
              "       2.06055752e-03, 3.91903845e-04, 6.90734518e-04, 9.54127607e-04,\n",
              "       1.13492764e-03, 1.86618370e-03, 7.99014275e-04, 0.00000000e+00,\n",
              "       4.87707355e-04, 6.27874386e-04, 2.12949434e-03, 3.02570247e-03,\n",
              "       6.56281137e-04, 1.62709123e-03, 3.43160238e-04, 7.46344747e-04,\n",
              "       7.87823196e-03, 4.81691305e-04, 1.75956637e-04, 8.50673475e-04,\n",
              "       5.48040945e-04, 1.59686874e-03, 5.50691459e-04, 1.10505453e-03,\n",
              "       6.10947481e-03, 2.86276047e-03, 1.01159907e-03, 2.11789606e-03,\n",
              "       5.21835426e-04, 6.19096981e-04, 3.54323382e-03, 1.02349413e-03,\n",
              "       1.07568665e-02, 5.40942104e-04, 4.77704152e-04, 7.34810489e-03,\n",
              "       1.39528185e-03, 1.51009344e-03, 1.16069397e-02, 5.24652652e-04,\n",
              "       4.14782719e-04, 8.98095793e-04, 1.42277268e-03, 2.42457282e-04,\n",
              "       6.26861354e-04, 1.01852976e-03, 9.23097517e-04, 3.14418888e-03,\n",
              "       5.13135994e-03, 9.20741901e-05, 4.98942498e-03, 1.93007812e-02,\n",
              "       5.03302922e-02, 7.62342666e-03, 8.38547858e-04, 1.36339149e-02,\n",
              "       2.19625455e-02, 8.37505469e-04, 2.90921802e-03, 1.73384441e-02,\n",
              "       1.93969470e-04, 8.28362835e-04, 3.21511358e-03, 3.76266344e-03,\n",
              "       8.19541183e-04, 9.37318968e-03, 4.51874560e-04, 9.95990837e-04,\n",
              "       1.74772116e-03, 1.28599538e-03, 1.99723100e-03, 1.78130450e-02,\n",
              "       7.59381550e-04, 4.15077131e-04, 1.97739200e-03, 1.24085338e-03,\n",
              "       1.42463677e-03, 6.77269796e-03, 3.49799028e-04, 1.58939562e-03,\n",
              "       1.13109843e-03, 2.25686589e-03, 1.40234124e-02, 8.77705940e-04,\n",
              "       1.93352530e-02, 8.90367355e-04, 7.26349402e-03, 6.45446814e-04,\n",
              "       1.21733632e-03, 3.90877638e-02, 1.06431774e-04, 3.54045758e-02,\n",
              "       9.20497276e-04, 4.01342485e-04, 4.72553391e-03, 8.51293659e-04,\n",
              "       1.53397273e-03, 1.09818690e-02, 5.99711481e-05, 2.51846089e-04,\n",
              "       2.07160010e-03, 1.22713267e-03, 1.47069273e-03, 1.18640415e-03,\n",
              "       6.26114054e-03, 1.26313887e-02, 3.20348227e-02, 1.45805112e-02,\n",
              "       2.69504516e-03, 5.90799077e-04, 4.67563435e-04, 8.22450664e-04,\n",
              "       3.55817350e-03, 1.03168593e-03, 3.37180534e-04, 1.16468892e-03,\n",
              "       3.03735724e-02, 4.66971744e-04, 1.41236897e-02, 9.04256195e-04])"
            ]
          },
          "metadata": {},
          "execution_count": 31
        }
      ]
    },
    {
      "cell_type": "code",
      "source": [
        "qst = pd.read_csv(\"questions.csv\",header=None)\n",
        "qst"
      ],
      "metadata": {
        "id": "BMTHayLD5nE4",
        "colab": {
          "base_uri": "https://localhost:8080/",
          "height": 345
        },
        "outputId": "f2a7b983-9bf4-4d3a-8ea8-6badbc6a81cc"
      },
      "execution_count": null,
      "outputs": [
        {
          "output_type": "error",
          "ename": "FileNotFoundError",
          "evalue": "ignored",
          "traceback": [
            "\u001b[0;31m---------------------------------------------------------------------------\u001b[0m",
            "\u001b[0;31mFileNotFoundError\u001b[0m                         Traceback (most recent call last)",
            "\u001b[0;32m<ipython-input-32-bc9b2a0b04a4>\u001b[0m in \u001b[0;36m<module>\u001b[0;34m\u001b[0m\n\u001b[0;32m----> 1\u001b[0;31m \u001b[0mqst\u001b[0m \u001b[0;34m=\u001b[0m \u001b[0mpd\u001b[0m\u001b[0;34m.\u001b[0m\u001b[0mread_csv\u001b[0m\u001b[0;34m(\u001b[0m\u001b[0;34m\"questions.csv\"\u001b[0m\u001b[0;34m,\u001b[0m\u001b[0mheader\u001b[0m\u001b[0;34m=\u001b[0m\u001b[0;32mNone\u001b[0m\u001b[0;34m)\u001b[0m\u001b[0;34m\u001b[0m\u001b[0;34m\u001b[0m\u001b[0m\n\u001b[0m\u001b[1;32m      2\u001b[0m \u001b[0mqst\u001b[0m\u001b[0;34m\u001b[0m\u001b[0;34m\u001b[0m\u001b[0m\n",
            "\u001b[0;32m/usr/local/lib/python3.8/dist-packages/pandas/util/_decorators.py\u001b[0m in \u001b[0;36mwrapper\u001b[0;34m(*args, **kwargs)\u001b[0m\n\u001b[1;32m    309\u001b[0m                     \u001b[0mstacklevel\u001b[0m\u001b[0;34m=\u001b[0m\u001b[0mstacklevel\u001b[0m\u001b[0;34m,\u001b[0m\u001b[0;34m\u001b[0m\u001b[0;34m\u001b[0m\u001b[0m\n\u001b[1;32m    310\u001b[0m                 )\n\u001b[0;32m--> 311\u001b[0;31m             \u001b[0;32mreturn\u001b[0m \u001b[0mfunc\u001b[0m\u001b[0;34m(\u001b[0m\u001b[0;34m*\u001b[0m\u001b[0margs\u001b[0m\u001b[0;34m,\u001b[0m \u001b[0;34m**\u001b[0m\u001b[0mkwargs\u001b[0m\u001b[0;34m)\u001b[0m\u001b[0;34m\u001b[0m\u001b[0;34m\u001b[0m\u001b[0m\n\u001b[0m\u001b[1;32m    312\u001b[0m \u001b[0;34m\u001b[0m\u001b[0m\n\u001b[1;32m    313\u001b[0m         \u001b[0;32mreturn\u001b[0m \u001b[0mwrapper\u001b[0m\u001b[0;34m\u001b[0m\u001b[0;34m\u001b[0m\u001b[0m\n",
            "\u001b[0;32m/usr/local/lib/python3.8/dist-packages/pandas/io/parsers/readers.py\u001b[0m in \u001b[0;36mread_csv\u001b[0;34m(filepath_or_buffer, sep, delimiter, header, names, index_col, usecols, squeeze, prefix, mangle_dupe_cols, dtype, engine, converters, true_values, false_values, skipinitialspace, skiprows, skipfooter, nrows, na_values, keep_default_na, na_filter, verbose, skip_blank_lines, parse_dates, infer_datetime_format, keep_date_col, date_parser, dayfirst, cache_dates, iterator, chunksize, compression, thousands, decimal, lineterminator, quotechar, quoting, doublequote, escapechar, comment, encoding, encoding_errors, dialect, error_bad_lines, warn_bad_lines, on_bad_lines, delim_whitespace, low_memory, memory_map, float_precision, storage_options)\u001b[0m\n\u001b[1;32m    584\u001b[0m     \u001b[0mkwds\u001b[0m\u001b[0;34m.\u001b[0m\u001b[0mupdate\u001b[0m\u001b[0;34m(\u001b[0m\u001b[0mkwds_defaults\u001b[0m\u001b[0;34m)\u001b[0m\u001b[0;34m\u001b[0m\u001b[0;34m\u001b[0m\u001b[0m\n\u001b[1;32m    585\u001b[0m \u001b[0;34m\u001b[0m\u001b[0m\n\u001b[0;32m--> 586\u001b[0;31m     \u001b[0;32mreturn\u001b[0m \u001b[0m_read\u001b[0m\u001b[0;34m(\u001b[0m\u001b[0mfilepath_or_buffer\u001b[0m\u001b[0;34m,\u001b[0m \u001b[0mkwds\u001b[0m\u001b[0;34m)\u001b[0m\u001b[0;34m\u001b[0m\u001b[0;34m\u001b[0m\u001b[0m\n\u001b[0m\u001b[1;32m    587\u001b[0m \u001b[0;34m\u001b[0m\u001b[0m\n\u001b[1;32m    588\u001b[0m \u001b[0;34m\u001b[0m\u001b[0m\n",
            "\u001b[0;32m/usr/local/lib/python3.8/dist-packages/pandas/io/parsers/readers.py\u001b[0m in \u001b[0;36m_read\u001b[0;34m(filepath_or_buffer, kwds)\u001b[0m\n\u001b[1;32m    480\u001b[0m \u001b[0;34m\u001b[0m\u001b[0m\n\u001b[1;32m    481\u001b[0m     \u001b[0;31m# Create the parser.\u001b[0m\u001b[0;34m\u001b[0m\u001b[0;34m\u001b[0m\u001b[0;34m\u001b[0m\u001b[0m\n\u001b[0;32m--> 482\u001b[0;31m     \u001b[0mparser\u001b[0m \u001b[0;34m=\u001b[0m \u001b[0mTextFileReader\u001b[0m\u001b[0;34m(\u001b[0m\u001b[0mfilepath_or_buffer\u001b[0m\u001b[0;34m,\u001b[0m \u001b[0;34m**\u001b[0m\u001b[0mkwds\u001b[0m\u001b[0;34m)\u001b[0m\u001b[0;34m\u001b[0m\u001b[0;34m\u001b[0m\u001b[0m\n\u001b[0m\u001b[1;32m    483\u001b[0m \u001b[0;34m\u001b[0m\u001b[0m\n\u001b[1;32m    484\u001b[0m     \u001b[0;32mif\u001b[0m \u001b[0mchunksize\u001b[0m \u001b[0;32mor\u001b[0m \u001b[0miterator\u001b[0m\u001b[0;34m:\u001b[0m\u001b[0;34m\u001b[0m\u001b[0;34m\u001b[0m\u001b[0m\n",
            "\u001b[0;32m/usr/local/lib/python3.8/dist-packages/pandas/io/parsers/readers.py\u001b[0m in \u001b[0;36m__init__\u001b[0;34m(self, f, engine, **kwds)\u001b[0m\n\u001b[1;32m    809\u001b[0m             \u001b[0mself\u001b[0m\u001b[0;34m.\u001b[0m\u001b[0moptions\u001b[0m\u001b[0;34m[\u001b[0m\u001b[0;34m\"has_index_names\"\u001b[0m\u001b[0;34m]\u001b[0m \u001b[0;34m=\u001b[0m \u001b[0mkwds\u001b[0m\u001b[0;34m[\u001b[0m\u001b[0;34m\"has_index_names\"\u001b[0m\u001b[0;34m]\u001b[0m\u001b[0;34m\u001b[0m\u001b[0;34m\u001b[0m\u001b[0m\n\u001b[1;32m    810\u001b[0m \u001b[0;34m\u001b[0m\u001b[0m\n\u001b[0;32m--> 811\u001b[0;31m         \u001b[0mself\u001b[0m\u001b[0;34m.\u001b[0m\u001b[0m_engine\u001b[0m \u001b[0;34m=\u001b[0m \u001b[0mself\u001b[0m\u001b[0;34m.\u001b[0m\u001b[0m_make_engine\u001b[0m\u001b[0;34m(\u001b[0m\u001b[0mself\u001b[0m\u001b[0;34m.\u001b[0m\u001b[0mengine\u001b[0m\u001b[0;34m)\u001b[0m\u001b[0;34m\u001b[0m\u001b[0;34m\u001b[0m\u001b[0m\n\u001b[0m\u001b[1;32m    812\u001b[0m \u001b[0;34m\u001b[0m\u001b[0m\n\u001b[1;32m    813\u001b[0m     \u001b[0;32mdef\u001b[0m \u001b[0mclose\u001b[0m\u001b[0;34m(\u001b[0m\u001b[0mself\u001b[0m\u001b[0;34m)\u001b[0m\u001b[0;34m:\u001b[0m\u001b[0;34m\u001b[0m\u001b[0;34m\u001b[0m\u001b[0m\n",
            "\u001b[0;32m/usr/local/lib/python3.8/dist-packages/pandas/io/parsers/readers.py\u001b[0m in \u001b[0;36m_make_engine\u001b[0;34m(self, engine)\u001b[0m\n\u001b[1;32m   1038\u001b[0m             )\n\u001b[1;32m   1039\u001b[0m         \u001b[0;31m# error: Too many arguments for \"ParserBase\"\u001b[0m\u001b[0;34m\u001b[0m\u001b[0;34m\u001b[0m\u001b[0;34m\u001b[0m\u001b[0m\n\u001b[0;32m-> 1040\u001b[0;31m         \u001b[0;32mreturn\u001b[0m \u001b[0mmapping\u001b[0m\u001b[0;34m[\u001b[0m\u001b[0mengine\u001b[0m\u001b[0;34m]\u001b[0m\u001b[0;34m(\u001b[0m\u001b[0mself\u001b[0m\u001b[0;34m.\u001b[0m\u001b[0mf\u001b[0m\u001b[0;34m,\u001b[0m \u001b[0;34m**\u001b[0m\u001b[0mself\u001b[0m\u001b[0;34m.\u001b[0m\u001b[0moptions\u001b[0m\u001b[0;34m)\u001b[0m  \u001b[0;31m# type: ignore[call-arg]\u001b[0m\u001b[0;34m\u001b[0m\u001b[0;34m\u001b[0m\u001b[0m\n\u001b[0m\u001b[1;32m   1041\u001b[0m \u001b[0;34m\u001b[0m\u001b[0m\n\u001b[1;32m   1042\u001b[0m     \u001b[0;32mdef\u001b[0m \u001b[0m_failover_to_python\u001b[0m\u001b[0;34m(\u001b[0m\u001b[0mself\u001b[0m\u001b[0;34m)\u001b[0m\u001b[0;34m:\u001b[0m\u001b[0;34m\u001b[0m\u001b[0;34m\u001b[0m\u001b[0m\n",
            "\u001b[0;32m/usr/local/lib/python3.8/dist-packages/pandas/io/parsers/c_parser_wrapper.py\u001b[0m in \u001b[0;36m__init__\u001b[0;34m(self, src, **kwds)\u001b[0m\n\u001b[1;32m     49\u001b[0m \u001b[0;34m\u001b[0m\u001b[0m\n\u001b[1;32m     50\u001b[0m         \u001b[0;31m# open handles\u001b[0m\u001b[0;34m\u001b[0m\u001b[0;34m\u001b[0m\u001b[0;34m\u001b[0m\u001b[0m\n\u001b[0;32m---> 51\u001b[0;31m         \u001b[0mself\u001b[0m\u001b[0;34m.\u001b[0m\u001b[0m_open_handles\u001b[0m\u001b[0;34m(\u001b[0m\u001b[0msrc\u001b[0m\u001b[0;34m,\u001b[0m \u001b[0mkwds\u001b[0m\u001b[0;34m)\u001b[0m\u001b[0;34m\u001b[0m\u001b[0;34m\u001b[0m\u001b[0m\n\u001b[0m\u001b[1;32m     52\u001b[0m         \u001b[0;32massert\u001b[0m \u001b[0mself\u001b[0m\u001b[0;34m.\u001b[0m\u001b[0mhandles\u001b[0m \u001b[0;32mis\u001b[0m \u001b[0;32mnot\u001b[0m \u001b[0;32mNone\u001b[0m\u001b[0;34m\u001b[0m\u001b[0;34m\u001b[0m\u001b[0m\n\u001b[1;32m     53\u001b[0m \u001b[0;34m\u001b[0m\u001b[0m\n",
            "\u001b[0;32m/usr/local/lib/python3.8/dist-packages/pandas/io/parsers/base_parser.py\u001b[0m in \u001b[0;36m_open_handles\u001b[0;34m(self, src, kwds)\u001b[0m\n\u001b[1;32m    220\u001b[0m         \u001b[0mLet\u001b[0m \u001b[0mthe\u001b[0m \u001b[0mreaders\u001b[0m \u001b[0mopen\u001b[0m \u001b[0mIOHandles\u001b[0m \u001b[0mafter\u001b[0m \u001b[0mthey\u001b[0m \u001b[0mare\u001b[0m \u001b[0mdone\u001b[0m \u001b[0;32mwith\u001b[0m \u001b[0mtheir\u001b[0m \u001b[0mpotential\u001b[0m \u001b[0mraises\u001b[0m\u001b[0;34m.\u001b[0m\u001b[0;34m\u001b[0m\u001b[0;34m\u001b[0m\u001b[0m\n\u001b[1;32m    221\u001b[0m         \"\"\"\n\u001b[0;32m--> 222\u001b[0;31m         self.handles = get_handle(\n\u001b[0m\u001b[1;32m    223\u001b[0m             \u001b[0msrc\u001b[0m\u001b[0;34m,\u001b[0m\u001b[0;34m\u001b[0m\u001b[0;34m\u001b[0m\u001b[0m\n\u001b[1;32m    224\u001b[0m             \u001b[0;34m\"r\"\u001b[0m\u001b[0;34m,\u001b[0m\u001b[0;34m\u001b[0m\u001b[0;34m\u001b[0m\u001b[0m\n",
            "\u001b[0;32m/usr/local/lib/python3.8/dist-packages/pandas/io/common.py\u001b[0m in \u001b[0;36mget_handle\u001b[0;34m(path_or_buf, mode, encoding, compression, memory_map, is_text, errors, storage_options)\u001b[0m\n\u001b[1;32m    700\u001b[0m         \u001b[0;32mif\u001b[0m \u001b[0mioargs\u001b[0m\u001b[0;34m.\u001b[0m\u001b[0mencoding\u001b[0m \u001b[0;32mand\u001b[0m \u001b[0;34m\"b\"\u001b[0m \u001b[0;32mnot\u001b[0m \u001b[0;32min\u001b[0m \u001b[0mioargs\u001b[0m\u001b[0;34m.\u001b[0m\u001b[0mmode\u001b[0m\u001b[0;34m:\u001b[0m\u001b[0;34m\u001b[0m\u001b[0;34m\u001b[0m\u001b[0m\n\u001b[1;32m    701\u001b[0m             \u001b[0;31m# Encoding\u001b[0m\u001b[0;34m\u001b[0m\u001b[0;34m\u001b[0m\u001b[0;34m\u001b[0m\u001b[0m\n\u001b[0;32m--> 702\u001b[0;31m             handle = open(\n\u001b[0m\u001b[1;32m    703\u001b[0m                 \u001b[0mhandle\u001b[0m\u001b[0;34m,\u001b[0m\u001b[0;34m\u001b[0m\u001b[0;34m\u001b[0m\u001b[0m\n\u001b[1;32m    704\u001b[0m                 \u001b[0mioargs\u001b[0m\u001b[0;34m.\u001b[0m\u001b[0mmode\u001b[0m\u001b[0;34m,\u001b[0m\u001b[0;34m\u001b[0m\u001b[0;34m\u001b[0m\u001b[0m\n",
            "\u001b[0;31mFileNotFoundError\u001b[0m: [Errno 2] No such file or directory: 'questions.csv'"
          ]
        }
      ]
    },
    {
      "cell_type": "code",
      "source": [
        "qst = qst.drop(0, axis=1)\n",
        "qst"
      ],
      "metadata": {
        "id": "YFWLzRul5rXI"
      },
      "execution_count": null,
      "outputs": []
    },
    {
      "cell_type": "code",
      "source": [
        "X_train_data = np.array(qst[:160][1])\n",
        "X_validation_data = np.array(qst[161:180][1])\n",
        "X_test_data = np.array(qst[181:][1])\n",
        "\n",
        "y_train_data = np.array(labels[:160])\n",
        "y_validation_data = np.array(labels[161:180])\n",
        "y_test_data = np.array(labels[181:])\n"
      ],
      "metadata": {
        "id": "KVVn6Lal7HJm"
      },
      "execution_count": null,
      "outputs": []
    },
    {
      "cell_type": "code",
      "source": [
        "# embedding = \"https://tfhub.dev/google/nnlm-en-dim50/2\"\n",
        "embedding = \"https://tfhub.dev/google/Wiki-words-250/2\"\n",
        "hub_layer = hub.KerasLayer(embedding, input_shape=[], \n",
        "                           dtype=tf.string, trainable=True)\n"
      ],
      "metadata": {
        "id": "V0sfko9sv128"
      },
      "execution_count": null,
      "outputs": []
    },
    {
      "cell_type": "code",
      "source": [
        "model = tf.keras.Sequential()\n",
        "model.add(hub_layer)\n",
        "model.add(tf.keras.layers.Reshape((250, 1)))\n",
        "model.add(tf.keras.layers.LSTM(units=64, activation='tanh'))\n",
        "model.add(tf.keras.layers.Reshape((64, 1)))\n",
        "model.add(tf.keras.layers.LSTM(units=16, activation='tanh'))\n",
        "\n",
        "# model.add(tf.keras.layers.Dense(1024, activation='relu'))\n",
        "# model.add(tf.keras.layers.Dense(512, activation='relu'))\n",
        "# model.add(tf.keras.layers.Dense(256, activation='relu'))\n",
        "model.add(tf.keras.layers.Dense(1))\n",
        "\n",
        "model.summary()\n"
      ],
      "metadata": {
        "id": "HfuMg-h6v_y8"
      },
      "execution_count": null,
      "outputs": []
    },
    {
      "cell_type": "code",
      "source": [
        "model.compile(optimizer=tf.keras.optimizers.Adam(learning_rate=0.0001),\n",
        "    loss='mse',\n",
        "    metrics=[tf.keras.metrics.RootMeanSquaredError()])\n"
      ],
      "metadata": {
        "id": "KBB50mbzx7vO"
      },
      "execution_count": null,
      "outputs": []
    },
    {
      "cell_type": "code",
      "source": [
        "history = model.fit(X_train_data,y_train_data,\n",
        "                    batch_size=30,\n",
        "                    epochs=10,\n",
        "                    validation_data=(X_validation_data,y_validation_data),\n",
        "                    verbose=1)\n"
      ],
      "metadata": {
        "id": "wHScYLQDx9UF"
      },
      "execution_count": null,
      "outputs": []
    },
    {
      "cell_type": "code",
      "source": [
        "model.evaluate(X_test_data,y_test_data)\n"
      ],
      "metadata": {
        "id": "1H2HqWVnyBNR"
      },
      "execution_count": null,
      "outputs": []
    },
    {
      "cell_type": "code",
      "source": [
        "predictions = model.predict(X_test_data)\n"
      ],
      "metadata": {
        "id": "Ikf6kvQxLYpq"
      },
      "execution_count": null,
      "outputs": []
    },
    {
      "cell_type": "code",
      "source": [
        "comparison = pd.DataFrame(predictions,labels[181:])\n",
        "comparison"
      ],
      "metadata": {
        "id": "Ouj6U9L-LdEk"
      },
      "execution_count": null,
      "outputs": []
    },
    {
      "cell_type": "markdown",
      "source": [
        "# Andrea"
      ],
      "metadata": {
        "id": "Y02vR-XgLWw_"
      }
    },
    {
      "cell_type": "code",
      "source": [
        "#let's give a look to how the features are considered important by people\n",
        "X_honest = X[0:411, : ]\n",
        "X_dishonest = X[412:823, : ]\n",
        "\n",
        "honest_sum = np.sum(X_honest, axis = 0)/412\n",
        "dishonest_sum = np.sum(X_dishonest, axis = 0)/412\n",
        "\n",
        "distances = np.abs(honest_sum - dishonest_sum)\n",
        "\n",
        "honest_dev = np.std(X_honest, axis = 0)\n",
        "dishonest_dev = np.std(X_dishonest, axis = 0)\n",
        "\n",
        "sums = np.concatenate((honest_sum, dishonest_sum, distances), axis = 0)\n",
        "sums = np.asmatrix(sums)\n",
        "sums = np.reshape(sums, (3,220))\n",
        "\n",
        "\n",
        "dataframe = pd.DataFrame(data = sums, columns = honest.columns[0:220], index = ['honest', 'dishonest', 'distances'])\n"
      ],
      "metadata": {
        "id": "kzbRRKn15dLO",
        "colab": {
          "base_uri": "https://localhost:8080/",
          "height": 236
        },
        "outputId": "000df7aa-f53c-43a4-f60a-fb00ad956630"
      },
      "execution_count": 2,
      "outputs": [
        {
          "output_type": "error",
          "ename": "NameError",
          "evalue": "ignored",
          "traceback": [
            "\u001b[0;31m---------------------------------------------------------------------------\u001b[0m",
            "\u001b[0;31mNameError\u001b[0m                                 Traceback (most recent call last)",
            "\u001b[0;32m<ipython-input-2-4ecd32eb186d>\u001b[0m in \u001b[0;36m<module>\u001b[0;34m\u001b[0m\n\u001b[1;32m      1\u001b[0m \u001b[0;31m#let's give a look to how the features are considered important by people\u001b[0m\u001b[0;34m\u001b[0m\u001b[0;34m\u001b[0m\u001b[0;34m\u001b[0m\u001b[0m\n\u001b[0;32m----> 2\u001b[0;31m \u001b[0mX_honest\u001b[0m \u001b[0;34m=\u001b[0m \u001b[0mX\u001b[0m\u001b[0;34m[\u001b[0m\u001b[0;36m0\u001b[0m\u001b[0;34m:\u001b[0m\u001b[0;36m411\u001b[0m\u001b[0;34m,\u001b[0m \u001b[0;34m:\u001b[0m \u001b[0;34m]\u001b[0m\u001b[0;34m\u001b[0m\u001b[0;34m\u001b[0m\u001b[0m\n\u001b[0m\u001b[1;32m      3\u001b[0m \u001b[0mX_dishonest\u001b[0m \u001b[0;34m=\u001b[0m \u001b[0mX\u001b[0m\u001b[0;34m[\u001b[0m\u001b[0;36m412\u001b[0m\u001b[0;34m:\u001b[0m\u001b[0;36m823\u001b[0m\u001b[0;34m,\u001b[0m \u001b[0;34m:\u001b[0m \u001b[0;34m]\u001b[0m\u001b[0;34m\u001b[0m\u001b[0;34m\u001b[0m\u001b[0m\n\u001b[1;32m      4\u001b[0m \u001b[0;34m\u001b[0m\u001b[0m\n\u001b[1;32m      5\u001b[0m \u001b[0mhonest_sum\u001b[0m \u001b[0;34m=\u001b[0m \u001b[0mnp\u001b[0m\u001b[0;34m.\u001b[0m\u001b[0msum\u001b[0m\u001b[0;34m(\u001b[0m\u001b[0mX_honest\u001b[0m\u001b[0;34m,\u001b[0m \u001b[0maxis\u001b[0m \u001b[0;34m=\u001b[0m \u001b[0;36m0\u001b[0m\u001b[0;34m)\u001b[0m\u001b[0;34m/\u001b[0m\u001b[0;36m412\u001b[0m\u001b[0;34m\u001b[0m\u001b[0;34m\u001b[0m\u001b[0m\n",
            "\u001b[0;31mNameError\u001b[0m: name 'X' is not defined"
          ]
        }
      ]
    },
    {
      "cell_type": "code",
      "source": [
        "rslt_df = dataframe.sort_values(by = 'distances', axis = 1, ascending = False)\n",
        "rslt_df"
      ],
      "metadata": {
        "colab": {
          "base_uri": "https://localhost:8080/",
          "height": 237
        },
        "id": "S6gNullxJYI1",
        "outputId": "627848f1-0ec0-4a05-f7a9-ae9420c5d177"
      },
      "execution_count": null,
      "outputs": [
        {
          "output_type": "execute_result",
          "data": {
            "text/plain": [
              "               Q192        Q2      Q217      Q190      Q139      Q154  \\\n",
              "honest     0.140777  0.436893  0.439320  0.519417  0.334951  0.303398   \n",
              "dishonest  2.160194  2.436893  2.366505  2.429612  2.245146  2.208738   \n",
              "distances  2.019417  2.000000  1.927184  1.910194  1.910194  1.905340   \n",
              "\n",
              "               Q153      Q207       Q37      Q166  ...      Q140      Q121  \\\n",
              "honest     0.240291  0.361650  0.235437  0.305825  ...  1.958738  1.575243   \n",
              "dishonest  2.145631  2.225728  2.087379  2.131068  ...  2.162621  1.779126   \n",
              "distances  1.905340  1.864078  1.851942  1.825243  ...  0.203883  0.203883   \n",
              "\n",
              "               Q112      Q111      Q155       Q35       Q95      Q102  \\\n",
              "honest     1.927184  2.009709  1.643204  1.934466  1.376214  1.774272   \n",
              "dishonest  2.128641  1.851942  1.774272  1.808252  1.439320  1.723301   \n",
              "distances  0.201456  0.157767  0.131068  0.126214  0.063107  0.050971   \n",
              "\n",
              "                Q87      Q164  \n",
              "honest     2.106796  2.019417  \n",
              "dishonest  2.109223  2.016990  \n",
              "distances  0.002427  0.002427  \n",
              "\n",
              "[3 rows x 220 columns]"
            ],
            "text/html": [
              "\n",
              "  <div id=\"df-b2713953-0f5a-46a8-a8bb-08fc156b1c9a\">\n",
              "    <div class=\"colab-df-container\">\n",
              "      <div>\n",
              "<style scoped>\n",
              "    .dataframe tbody tr th:only-of-type {\n",
              "        vertical-align: middle;\n",
              "    }\n",
              "\n",
              "    .dataframe tbody tr th {\n",
              "        vertical-align: top;\n",
              "    }\n",
              "\n",
              "    .dataframe thead th {\n",
              "        text-align: right;\n",
              "    }\n",
              "</style>\n",
              "<table border=\"1\" class=\"dataframe\">\n",
              "  <thead>\n",
              "    <tr style=\"text-align: right;\">\n",
              "      <th></th>\n",
              "      <th>Q192</th>\n",
              "      <th>Q2</th>\n",
              "      <th>Q217</th>\n",
              "      <th>Q190</th>\n",
              "      <th>Q139</th>\n",
              "      <th>Q154</th>\n",
              "      <th>Q153</th>\n",
              "      <th>Q207</th>\n",
              "      <th>Q37</th>\n",
              "      <th>Q166</th>\n",
              "      <th>...</th>\n",
              "      <th>Q140</th>\n",
              "      <th>Q121</th>\n",
              "      <th>Q112</th>\n",
              "      <th>Q111</th>\n",
              "      <th>Q155</th>\n",
              "      <th>Q35</th>\n",
              "      <th>Q95</th>\n",
              "      <th>Q102</th>\n",
              "      <th>Q87</th>\n",
              "      <th>Q164</th>\n",
              "    </tr>\n",
              "  </thead>\n",
              "  <tbody>\n",
              "    <tr>\n",
              "      <th>honest</th>\n",
              "      <td>0.140777</td>\n",
              "      <td>0.436893</td>\n",
              "      <td>0.439320</td>\n",
              "      <td>0.519417</td>\n",
              "      <td>0.334951</td>\n",
              "      <td>0.303398</td>\n",
              "      <td>0.240291</td>\n",
              "      <td>0.361650</td>\n",
              "      <td>0.235437</td>\n",
              "      <td>0.305825</td>\n",
              "      <td>...</td>\n",
              "      <td>1.958738</td>\n",
              "      <td>1.575243</td>\n",
              "      <td>1.927184</td>\n",
              "      <td>2.009709</td>\n",
              "      <td>1.643204</td>\n",
              "      <td>1.934466</td>\n",
              "      <td>1.376214</td>\n",
              "      <td>1.774272</td>\n",
              "      <td>2.106796</td>\n",
              "      <td>2.019417</td>\n",
              "    </tr>\n",
              "    <tr>\n",
              "      <th>dishonest</th>\n",
              "      <td>2.160194</td>\n",
              "      <td>2.436893</td>\n",
              "      <td>2.366505</td>\n",
              "      <td>2.429612</td>\n",
              "      <td>2.245146</td>\n",
              "      <td>2.208738</td>\n",
              "      <td>2.145631</td>\n",
              "      <td>2.225728</td>\n",
              "      <td>2.087379</td>\n",
              "      <td>2.131068</td>\n",
              "      <td>...</td>\n",
              "      <td>2.162621</td>\n",
              "      <td>1.779126</td>\n",
              "      <td>2.128641</td>\n",
              "      <td>1.851942</td>\n",
              "      <td>1.774272</td>\n",
              "      <td>1.808252</td>\n",
              "      <td>1.439320</td>\n",
              "      <td>1.723301</td>\n",
              "      <td>2.109223</td>\n",
              "      <td>2.016990</td>\n",
              "    </tr>\n",
              "    <tr>\n",
              "      <th>distances</th>\n",
              "      <td>2.019417</td>\n",
              "      <td>2.000000</td>\n",
              "      <td>1.927184</td>\n",
              "      <td>1.910194</td>\n",
              "      <td>1.910194</td>\n",
              "      <td>1.905340</td>\n",
              "      <td>1.905340</td>\n",
              "      <td>1.864078</td>\n",
              "      <td>1.851942</td>\n",
              "      <td>1.825243</td>\n",
              "      <td>...</td>\n",
              "      <td>0.203883</td>\n",
              "      <td>0.203883</td>\n",
              "      <td>0.201456</td>\n",
              "      <td>0.157767</td>\n",
              "      <td>0.131068</td>\n",
              "      <td>0.126214</td>\n",
              "      <td>0.063107</td>\n",
              "      <td>0.050971</td>\n",
              "      <td>0.002427</td>\n",
              "      <td>0.002427</td>\n",
              "    </tr>\n",
              "  </tbody>\n",
              "</table>\n",
              "<p>3 rows × 220 columns</p>\n",
              "</div>\n",
              "      <button class=\"colab-df-convert\" onclick=\"convertToInteractive('df-b2713953-0f5a-46a8-a8bb-08fc156b1c9a')\"\n",
              "              title=\"Convert this dataframe to an interactive table.\"\n",
              "              style=\"display:none;\">\n",
              "        \n",
              "  <svg xmlns=\"http://www.w3.org/2000/svg\" height=\"24px\"viewBox=\"0 0 24 24\"\n",
              "       width=\"24px\">\n",
              "    <path d=\"M0 0h24v24H0V0z\" fill=\"none\"/>\n",
              "    <path d=\"M18.56 5.44l.94 2.06.94-2.06 2.06-.94-2.06-.94-.94-2.06-.94 2.06-2.06.94zm-11 1L8.5 8.5l.94-2.06 2.06-.94-2.06-.94L8.5 2.5l-.94 2.06-2.06.94zm10 10l.94 2.06.94-2.06 2.06-.94-2.06-.94-.94-2.06-.94 2.06-2.06.94z\"/><path d=\"M17.41 7.96l-1.37-1.37c-.4-.4-.92-.59-1.43-.59-.52 0-1.04.2-1.43.59L10.3 9.45l-7.72 7.72c-.78.78-.78 2.05 0 2.83L4 21.41c.39.39.9.59 1.41.59.51 0 1.02-.2 1.41-.59l7.78-7.78 2.81-2.81c.8-.78.8-2.07 0-2.86zM5.41 20L4 18.59l7.72-7.72 1.47 1.35L5.41 20z\"/>\n",
              "  </svg>\n",
              "      </button>\n",
              "      \n",
              "  <style>\n",
              "    .colab-df-container {\n",
              "      display:flex;\n",
              "      flex-wrap:wrap;\n",
              "      gap: 12px;\n",
              "    }\n",
              "\n",
              "    .colab-df-convert {\n",
              "      background-color: #E8F0FE;\n",
              "      border: none;\n",
              "      border-radius: 50%;\n",
              "      cursor: pointer;\n",
              "      display: none;\n",
              "      fill: #1967D2;\n",
              "      height: 32px;\n",
              "      padding: 0 0 0 0;\n",
              "      width: 32px;\n",
              "    }\n",
              "\n",
              "    .colab-df-convert:hover {\n",
              "      background-color: #E2EBFA;\n",
              "      box-shadow: 0px 1px 2px rgba(60, 64, 67, 0.3), 0px 1px 3px 1px rgba(60, 64, 67, 0.15);\n",
              "      fill: #174EA6;\n",
              "    }\n",
              "\n",
              "    [theme=dark] .colab-df-convert {\n",
              "      background-color: #3B4455;\n",
              "      fill: #D2E3FC;\n",
              "    }\n",
              "\n",
              "    [theme=dark] .colab-df-convert:hover {\n",
              "      background-color: #434B5C;\n",
              "      box-shadow: 0px 1px 3px 1px rgba(0, 0, 0, 0.15);\n",
              "      filter: drop-shadow(0px 1px 2px rgba(0, 0, 0, 0.3));\n",
              "      fill: #FFFFFF;\n",
              "    }\n",
              "  </style>\n",
              "\n",
              "      <script>\n",
              "        const buttonEl =\n",
              "          document.querySelector('#df-b2713953-0f5a-46a8-a8bb-08fc156b1c9a button.colab-df-convert');\n",
              "        buttonEl.style.display =\n",
              "          google.colab.kernel.accessAllowed ? 'block' : 'none';\n",
              "\n",
              "        async function convertToInteractive(key) {\n",
              "          const element = document.querySelector('#df-b2713953-0f5a-46a8-a8bb-08fc156b1c9a');\n",
              "          const dataTable =\n",
              "            await google.colab.kernel.invokeFunction('convertToInteractive',\n",
              "                                                     [key], {});\n",
              "          if (!dataTable) return;\n",
              "\n",
              "          const docLinkHtml = 'Like what you see? Visit the ' +\n",
              "            '<a target=\"_blank\" href=https://colab.research.google.com/notebooks/data_table.ipynb>data table notebook</a>'\n",
              "            + ' to learn more about interactive tables.';\n",
              "          element.innerHTML = '';\n",
              "          dataTable['output_type'] = 'display_data';\n",
              "          await google.colab.output.renderOutput(dataTable, element);\n",
              "          const docLink = document.createElement('div');\n",
              "          docLink.innerHTML = docLinkHtml;\n",
              "          element.appendChild(docLink);\n",
              "        }\n",
              "      </script>\n",
              "    </div>\n",
              "  </div>\n",
              "  "
            ]
          },
          "metadata": {},
          "execution_count": 7
        }
      ]
    },
    {
      "cell_type": "code",
      "source": [
        "#plt.plot(rslt_df.iloc[2,:])\n",
        "\n",
        "plt.figure(figsize=(10,8))\n",
        "plt.hist(x = rslt_df.iloc[2,:], rwidth = 0.85, bins = 10)\n",
        "plt.title(\"Differences in the mean answers\")\n",
        "plt.grid(axis = \"y\")\n",
        "plt.xlabel(\"question\")\n",
        "plt.ylabel(\"distance\")"
      ],
      "metadata": {
        "colab": {
          "base_uri": "https://localhost:8080/",
          "height": 531
        },
        "id": "LoiKzZXhZ0xd",
        "outputId": "4f396a5e-a5e0-4247-bf91-c10166b48a23"
      },
      "execution_count": null,
      "outputs": [
        {
          "output_type": "execute_result",
          "data": {
            "text/plain": [
              "Text(0, 0.5, 'distance')"
            ]
          },
          "metadata": {},
          "execution_count": 8
        },
        {
          "output_type": "display_data",
          "data": {
            "text/plain": [
              "<Figure size 720x576 with 1 Axes>"
            ],
            "image/png": "[encoded data removed]"
          },
          "metadata": {
            "needs_background": "light"
          }
        }
      ]
    },
    {
      "cell_type": "markdown",
      "source": [
        "Features with higher gap between average honest answer and average dishonest answer are the ones which are considered more crucial by the users. Now let's look among the honest reviews the ones which are closer to the average dishonest answers, in order to detect liars."
      ],
      "metadata": {
        "id": "Z2GcH1NBItVm"
      }
    },
    {
      "cell_type": "code",
      "source": [
        "#reduce number of features to the ones with distance >=1.5\n",
        "reduced_rslt_df = rslt_df[rslt_df.columns[rslt_df.iloc[2] >=1.5]]\n",
        "\n",
        "#most important features over honest dataset\n",
        "reduced_honest_df = honest[reduced_rslt_df.columns]\n",
        "\n",
        "#compute differences between honest and average dishonest\n",
        "detect_mad = reduced_honest_df - (reduced_rslt_df.iloc[1].round(0))\n",
        "print(detect_mad)"
      ],
      "metadata": {
        "colab": {
          "base_uri": "https://localhost:8080/"
        },
        "id": "TLHYm83HiwQL",
        "outputId": "5b65a9a4-fdbb-4e7e-9031-64e78a41ccee"
      },
      "execution_count": null,
      "outputs": [
        {
          "output_type": "stream",
          "name": "stdout",
          "text": [
            "     Q192   Q2  Q217  Q190  Q139  Q154  Q153  Q207  Q37  Q166  ...  Q197  \\\n",
            "0    -2.0 -2.0  -2.0  -2.0  -2.0  -2.0  -2.0  -2.0 -2.0  -2.0  ...  -2.0   \n",
            "1    -2.0 -1.0  -2.0  -2.0  -2.0  -2.0  -2.0  -2.0 -2.0  -2.0  ...  -1.0   \n",
            "2    -2.0 -2.0  -1.0  -1.0  -2.0   0.0  -2.0  -1.0 -2.0  -1.0  ...  -1.0   \n",
            "3    -2.0 -2.0  -2.0  -2.0  -2.0   0.0  -2.0  -2.0 -1.0  -2.0  ...  -2.0   \n",
            "4    -2.0 -2.0  -2.0  -2.0  -2.0  -2.0  -2.0  -2.0 -2.0  -2.0  ...  -2.0   \n",
            "..    ...  ...   ...   ...   ...   ...   ...   ...  ...   ...  ...   ...   \n",
            "407  -2.0 -1.0  -2.0  -1.0  -2.0  -2.0  -2.0  -2.0 -2.0  -2.0  ...  -2.0   \n",
            "408  -2.0 -2.0  -2.0  -1.0  -2.0  -2.0  -2.0  -2.0 -2.0  -2.0  ...  -2.0   \n",
            "409  -2.0 -1.0  -2.0  -1.0  -2.0  -2.0  -2.0  -2.0 -2.0  -2.0  ...  -1.0   \n",
            "410  -2.0  0.0   1.0   1.0  -1.0  -2.0  -2.0  -2.0  0.0  -2.0  ...  -2.0   \n",
            "411  -2.0 -2.0  -2.0  -1.0  -2.0  -2.0  -2.0  -1.0 -2.0  -1.0  ...  -2.0   \n",
            "\n",
            "     Q157  Q25  Q116  Q136  Q31  Q156  Q77  Q171  Q163  \n",
            "0    -2.0 -2.0  -2.0  -2.0 -1.0  -1.0 -2.0  -1.0  -2.0  \n",
            "1    -1.0 -2.0  -2.0  -1.0 -2.0  -1.0 -2.0   0.0  -1.0  \n",
            "2    -1.0 -1.0  -1.0  -1.0 -1.0   0.0 -2.0   0.0  -1.0  \n",
            "3    -1.0 -1.0  -1.0  -2.0 -1.0  -2.0 -1.0  -2.0  -2.0  \n",
            "4     0.0 -2.0  -2.0  -1.0 -2.0  -2.0 -2.0  -1.0  -1.0  \n",
            "..    ...  ...   ...   ...  ...   ...  ...   ...   ...  \n",
            "407  -2.0 -2.0  -2.0  -1.0 -2.0  -2.0 -2.0  -2.0  -2.0  \n",
            "408  -2.0  1.0  -1.0  -2.0 -2.0  -1.0 -2.0  -2.0  -2.0  \n",
            "409  -2.0  0.0  -1.0  -2.0 -1.0  -2.0 -2.0  -1.0  -2.0  \n",
            "410   1.0  0.0  -1.0   0.0 -2.0  -2.0  0.0   0.0   1.0  \n",
            "411   0.0 -1.0  -1.0   0.0 -1.0  -1.0 -2.0   1.0   0.0  \n",
            "\n",
            "[412 rows x 53 columns]\n"
          ]
        }
      ]
    },
    {
      "cell_type": "code",
      "source": [
        "#count how many >=0 values each row, which means values >= mean of dishonest (rounded)\n",
        "count_mad_stat = (detect_mad>=0).sum(axis=1)\n",
        "count_mad_stat = count_mad_stat[count_mad_stat>0].sort_values(ascending=False)\n",
        "\n",
        "#hist of how many stats\n",
        "plt.figure(figsize=(10,8))\n",
        "plt.hist(count_mad_stat, bins = count_mad_stat.max(), rwidth=0.85)\n",
        "plt.title(\"distribution of suspicious values\")\n",
        "plt.grid(axis = \"y\")\n",
        "plt.xlabel(\"how many suspicious values\")\n",
        "plt.ylabel(\"number of participants\")\n",
        "#count_mad_stat\n",
        "\n",
        "#mister 390 is the closest to madness"
      ],
      "metadata": {
        "colab": {
          "base_uri": "https://localhost:8080/",
          "height": 531
        },
        "id": "It_r85F0q90n",
        "outputId": "586569e9-c120-4ddb-af8e-032b0406d98e"
      },
      "execution_count": null,
      "outputs": [
        {
          "output_type": "execute_result",
          "data": {
            "text/plain": [
              "Text(0, 0.5, 'number of participants')"
            ]
          },
          "metadata": {},
          "execution_count": 11
        },
        {
          "output_type": "display_data",
          "data": {
            "text/plain": [
              "<Figure size 720x576 with 1 Axes>"
            ],
            "image/png": "[encoded data removed]"
          },
          "metadata": {
            "needs_background": "light"
          }
        }
      ]
    },
    {
      "cell_type": "code",
      "source": [
        "count_mad_stat"
      ],
      "metadata": {
        "id": "LPbkVWmJIpCi",
        "colab": {
          "base_uri": "https://localhost:8080/"
        },
        "outputId": "28e79240-a4fc-465f-bdb1-62555a011206"
      },
      "execution_count": null,
      "outputs": [
        {
          "output_type": "execute_result",
          "data": {
            "text/plain": [
              "390    38\n",
              "355    26\n",
              "84     26\n",
              "276    26\n",
              "151    22\n",
              "       ..\n",
              "112     1\n",
              "376     1\n",
              "103     1\n",
              "378     1\n",
              "326     1\n",
              "Length: 337, dtype: int64"
            ]
          },
          "metadata": {},
          "execution_count": 81
        }
      ]
    },
    {
      "cell_type": "code",
      "source": [
        "X[802]-X[390]"
      ],
      "metadata": {
        "colab": {
          "base_uri": "https://localhost:8080/"
        },
        "id": "EUkp6Ll4B6Tz",
        "outputId": "e58470b6-c857-4400-fce4-274a7bcd2c66"
      },
      "execution_count": null,
      "outputs": [
        {
          "output_type": "execute_result",
          "data": {
            "text/plain": [
              "array([ 0,  1,  0, -1,  0,  1,  0,  1,  1,  0,  1,  0,  1,  0,  0,  1, -1,\n",
              "        0,  0, -2,  1,  1,  1,  0, -1,  1,  1,  0,  0,  0, -1,  0,  1,  0,\n",
              "        1,  0,  2,  0, -1,  0,  1,  1, -2,  0, -2,  1, -1,  1,  1,  1,  1,\n",
              "        0,  0,  0, -1,  1,  0,  0,  1,  0,  0,  2, -1,  0,  0,  0,  1, -1,\n",
              "        0,  0, -1,  1,  0, -1,  0,  1, -1, -2, -2, -1,  0,  0,  0,  1, -1,\n",
              "        1,  2,  1, -2,  1,  0,  1, -2,  1,  0,  0, -1,  0, -2,  1,  0,  1,\n",
              "       -2,  0, -1,  1, -2,  0,  0,  1,  0, -1,  0, -1,  0,  1, -1,  1,  0,\n",
              "        0,  2,  0, -1,  1,  0,  0,  0, -3,  1,  2,  0,  0,  0, -1, -1,  0,\n",
              "       -1,  1,  0,  0, -1,  0,  0,  1,  0, -1, -1,  1,  0,  0, -1,  1,  0,\n",
              "        0, -1,  1, -1,  0,  0,  0, -1,  0,  1,  0,  1,  0, -2,  1, -1,  0,\n",
              "        0,  0,  1,  2, -1,  0,  1,  0,  0,  0,  0,  0,  0,  0,  1,  0,  0,\n",
              "        0,  0,  1,  0,  1, -1,  0,  1,  0,  1, -1,  0,  0,  0, -2,  0, -1,\n",
              "        2, -2,  1,  0,  0,  1, -1,  0,  0,  0,  0,  0, -1, -1,  1,  0])"
            ]
          },
          "metadata": {},
          "execution_count": 17
        }
      ]
    },
    {
      "cell_type": "code",
      "source": [
        "honest.iloc[390]"
      ],
      "metadata": {
        "colab": {
          "base_uri": "https://localhost:8080/"
        },
        "id": "jlVWLZgiCHuX",
        "outputId": "3fc4599d-b3fd-4c68-8b99-8be34faee4f8"
      },
      "execution_count": null,
      "outputs": [
        {
          "output_type": "execute_result",
          "data": {
            "text/plain": [
              "Q1           2\n",
              "Q2           1\n",
              "Q3           2\n",
              "Q4           2\n",
              "Q5           2\n",
              "            ..\n",
              "Q217         3\n",
              "Q218         3\n",
              "Q219         2\n",
              "Q220         2\n",
              "CONDITION    H\n",
              "Name: 390, Length: 221, dtype: object"
            ]
          },
          "metadata": {},
          "execution_count": 10
        }
      ]
    },
    {
      "cell_type": "markdown",
      "source": [
        "Provo su gli altri dataset\n",
        "\n"
      ],
      "metadata": {
        "id": "cMFzKpnZYEUY"
      }
    },
    {
      "cell_type": "code",
      "source": [
        "for i in range(nrows):\n",
        "    for j in range(ncols):\n",
        "      n = i*ncols+j\n",
        "      ax = axes[i][j]\n",
        "      globals()[names[n]+\"_honest\"].iloc[:,0:-1].stack().value_counts().sort_index().plot(ax = ax, kind = 'bar', position = 0, width = 0.3)\n",
        "      globals()[names[n]+\"_dishonest\"].iloc[:,0:-1].stack().value_counts().sort_index().plot(ax = ax, kind = 'bar', color = 'red', position = 1, width = 0.3)\n",
        "\n",
        "      ax.set_title(names[n])"
      ],
      "metadata": {
        "id": "FQel_MutVRxd"
      },
      "execution_count": null,
      "outputs": []
    },
    {
      "cell_type": "markdown",
      "source": [
        "#Matteo"
      ],
      "metadata": {
        "id": "L0NizNRJB3HO"
      }
    },
    {
      "cell_type": "code",
      "source": [
        "import pandas as pd\n",
        "import numpy as np\n",
        "import matplotlib.pyplot as plt\n",
        "import sklearn\n",
        "import math\n",
        "import seaborn as sns\n",
        "from scipy.stats import spearmanr\n",
        "from sklearn.inspection import permutation_importance\n",
        "from sklearn.metrics import accuracy_score\n",
        "from sklearn.metrics import f1_score\n",
        "from numpy.linalg import norm\n",
        "from sklearn.model_selection import train_test_split\n",
        "from sklearn.model_selection import GridSearchCV\n",
        "from sklearn.feature_selection import SelectFromModel\n",
        "from sklearn.ensemble import RandomForestClassifier\n",
        "from sklearn.neighbors import KNeighborsClassifier\n",
        "from sklearn.svm import SVC\n",
        "from sklearn.tree import DecisionTreeClassifier\n",
        "\n",
        "np.random.seed(123)"
      ],
      "metadata": {
        "id": "DPwDA7Jyz5YE"
      },
      "execution_count": 3,
      "outputs": []
    },
    {
      "cell_type": "code",
      "source": [
        "names = [\"DT_CC\",\"DT_JI\",\"PRMQ\",\"PCL5\",\"NAQ_R\",\"PHQ9_GAD7\",\"PID5\",\"sPID-5\",\"PRFQ\",\"IESR\",\"DDDT\",\"IADQ\",\"BF_CTU\",\"BF_OU\",\"BF_V\"]\n",
        "sep = [0,1,0,1,1,1,1,0,0,0,0,0,0,0,0]\n",
        "seps = [\",\",\";\"]\n",
        "for name,sep in zip(names,sep):\n",
        "  url = \"https://raw.githubusercontent.com/Berga53/cognitive/main/{}.csv\".format(name)\n",
        "  globals()[name] = pd.read_csv(url, sep=seps[sep])\n",
        "  globals()[name+\"_honest\"] = globals()[name][globals()[name]['CONDITION'] == 'H']\n",
        "  globals()[name+\"_dishonest\"] = globals()[name][globals()[name]['CONDITION'] == 'D']\n",
        "  globals()[name+\"_dishonest\"].set_index(globals()[name+\"_honest\"].index, inplace = True)\n",
        "\n",
        "NAQ_R = NAQ_R[(NAQ_R['CONDITION'] == 'H') | (NAQ_R['CONDITION'] == 'D')]"
      ],
      "metadata": {
        "id": "CqPpehxxj4FO"
      },
      "execution_count": 4,
      "outputs": []
    },
    {
      "cell_type": "code",
      "source": [
        "# ordino i dataset per numero di domande\n",
        "def f(data):\n",
        "  return globals()[data].shape[-1]\n",
        "names.sort(key = f)\n",
        "items = [globals()[name].shape[-1]-1 for name in names]\n",
        "items_sum = np.array(items).sum()"
      ],
      "metadata": {
        "id": "BjjoCSBHKhCo"
      },
      "execution_count": 5,
      "outputs": []
    },
    {
      "cell_type": "code",
      "source": [
        "# divido labels da dati\n",
        "for name in names:\n",
        "  globals()[name + \"_X\"] = globals()[name].iloc[:,0:globals()[name].shape[1]-1]\n",
        "  globals()[name + \"_X\"]  = globals()[name + \"_X\"] .to_numpy()\n",
        "  globals()[name + \"_y\"] = globals()[name]['CONDITION'].to_numpy()\n",
        "  globals()[name + \"_y\"][globals()[name + \"_y\"] == \"H\"] = 0\n",
        "  globals()[name + \"_y\"][globals()[name + \"_y\"] == \"D\"] = 1\n",
        "  globals()[name + \"_y\"]=globals()[name + \"_y\"].astype('int')\n",
        "\n",
        "# split train val test\n",
        "  globals()[name + \"_X_train_val\"], globals()[name + \"_X_test\"], globals()[name + \"_y_train_val\"], globals()[name + \"_y_test\"] = train_test_split(globals()[name + \"_X\"], globals()[name + \"_y\"], test_size = 0.10, shuffle = True, random_state = 0)"
      ],
      "metadata": {
        "id": "TJD7YA74wu0P"
      },
      "execution_count": 6,
      "outputs": []
    },
    {
      "cell_type": "code",
      "source": [
        "for n,name in enumerate(names):\n",
        "  temp = []\n",
        "  feat_20 =[]\n",
        "  for i in range(items[n]):\n",
        "    temp.append([i, np.corrcoef(globals()[name + \"_X\"][:,i],globals()[name + \"_y\"])[0][1]])\n",
        "    temp.sort(key = lambda x : x[-1], reverse = True)\n",
        "  for j in range(math.ceil(items[n]/5)):\n",
        "    feat_20.append(temp[j][0])\n",
        "    globals()[name + \"_X_train_val_20\"] = globals()[name + \"_X_train_val\"][: , feat_20]\n",
        "    globals()[name + \"_X_test_20\"] = globals()[name + \"_X_test\"][: , feat_20]\n",
        "\n"
      ],
      "metadata": {
        "id": "uj8ZpVrL1Ldn"
      },
      "execution_count": 7,
      "outputs": []
    },
    {
      "cell_type": "code",
      "source": [
        "def select_top_20(features):\n",
        "  temp = []\n",
        "  for i,elem in enumerate(features):\n",
        "    temp.append([elem, i])\n",
        "  temp.sort(key = lambda x : -x[0])\n",
        "  features = [elem[1] for elem in temp]\n",
        "  top20 = math.ceil(len(temp)/5)\n",
        "  temp = temp[0 : top20]\n",
        "  res = [elem[1] for elem in temp]\n",
        "  return features, res"
      ],
      "metadata": {
        "id": "cS0CkJprO7OC"
      },
      "execution_count": null,
      "outputs": []
    },
    {
      "cell_type": "code",
      "source": [
        "def jaccard_similarity(a, b):\n",
        "    a = set(a)\n",
        "    b = set(b)\n",
        "    j = float(len(a.intersection(b))) / len(a.union(b))\n",
        "    return j"
      ],
      "metadata": {
        "id": "V5KJeokJ9iM4"
      },
      "execution_count": null,
      "outputs": []
    },
    {
      "cell_type": "code",
      "source": [
        "def cosine_similarity(a,b):\n",
        "  return np.dot(a,b)/(norm(a)*norm(b))"
      ],
      "metadata": {
        "id": "49vifxkhKch1"
      },
      "execution_count": null,
      "outputs": []
    },
    {
      "cell_type": "markdown",
      "source": [
        "##eda"
      ],
      "metadata": {
        "id": "IM4vXm0lXspY"
      }
    },
    {
      "cell_type": "code",
      "source": [
        "# n domande per dataset\n",
        "print(f\"{'Dataset' : <10}{'Items' : ^10}\")\n",
        "for i,name in enumerate(names):\n",
        "  print(f\"{name : <10}{items[i] : ^10}\")"
      ],
      "metadata": {
        "colab": {
          "base_uri": "https://localhost:8080/"
        },
        "id": "R55FCCXiZV_N",
        "outputId": "2cb79bbe-a9ef-465b-c09a-daeacfa3f796"
      },
      "execution_count": null,
      "outputs": [
        {
          "output_type": "stream",
          "name": "stdout",
          "text": [
            "Dataset     Items   \n",
            "IADQ          9     \n",
            "BF_CTU        10    \n",
            "BF_OU         10    \n",
            "BF_V          10    \n",
            "DDDT          12    \n",
            "PRMQ          16    \n",
            "PHQ9_GAD7     16    \n",
            "PRFQ          18    \n",
            "PCL5          20    \n",
            "NAQ_R         22    \n",
            "IESR          22    \n",
            "sPID-5        25    \n",
            "DT_CC         27    \n",
            "DT_JI         27    \n",
            "PID5         220    \n"
          ]
        }
      ]
    },
    {
      "cell_type": "code",
      "source": [
        "# n di entries per dataset\n",
        "print(\"Entries per dataset\")\n",
        "print(f\"{'Dataset' : <10}{'Honest' : ^10}{'Dishonest' : ^10}{'Total' : ^10}\")\n",
        "for i,name in enumerate(names):\n",
        "  a = globals()[name+\"_honest\"].shape[0]\n",
        "  b = globals()[name+\"_dishonest\"].shape[0]\n",
        "  print(f\"{name : <10}{a : ^10}{b : ^10}{a+b : ^10}\")"
      ],
      "metadata": {
        "colab": {
          "base_uri": "https://localhost:8080/"
        },
        "id": "dTU91Gi8xJ5e",
        "outputId": "a3f32cad-3485-492b-8784-0b1c5f2f0557"
      },
      "execution_count": null,
      "outputs": [
        {
          "output_type": "stream",
          "name": "stdout",
          "text": [
            "Entries per dataset\n",
            "Dataset     Honest  Dishonest   Total   \n",
            "IADQ         225       225       450    \n",
            "BF_CTU       221       221       442    \n",
            "BF_OU        230       230       460    \n",
            "BF_V         243       243       486    \n",
            "DDDT         493       493       986    \n",
            "PRMQ         702       702       1404   \n",
            "PHQ9_GAD7    559       559       1118   \n",
            "PRFQ         339       339       678    \n",
            "PCL5         201       201       402    \n",
            "NAQ_R        356       356       712    \n",
            "IESR         179       179       358    \n",
            "sPID-5       519       519       1038   \n",
            "DT_CC        241       241       482    \n",
            "DT_JI        432       432       864    \n",
            "PID5         412       412       824    \n"
          ]
        }
      ]
    },
    {
      "cell_type": "code",
      "source": [
        "q_means = []\n",
        "for name in names:\n",
        "  q_means.append([globals()[name+\"_honest\"].iloc[:,0:-1].stack().mean(),globals()[name+\"_dishonest\"].iloc[:,0:-1].stack().mean()])\n",
        "\n",
        "q_std = []\n",
        "\n",
        "for name in names:\n",
        "  q_std.append([globals()[name+\"_honest\"].iloc[:,0:-1].stack().std(),globals()[name+\"_dishonest\"].iloc[:,0:-1].stack().std()])\n",
        "\n",
        "q_mode = []\n",
        "\n",
        "for name in names:\n",
        "  q_mode.append([int(globals()[name+\"_honest\"].iloc[:,0:-1].stack().mode()),int(globals()[name+\"_dishonest\"].iloc[:,0:-1].stack().mode())])"
      ],
      "metadata": {
        "id": "Pf62guEfXuHA"
      },
      "execution_count": null,
      "outputs": []
    },
    {
      "cell_type": "code",
      "source": [
        "print(\"Mean, std and mode accross dataset responses\")\n",
        "print(f\"{'Dataset' : <15}{'H mean' : ^10}{'D mean' : ^10}{'H std' : ^10}{'D std' : ^10}{'H mode' : ^10}{'D mode' : ^10}\")\n",
        "for name, mean, std, mode in zip(names, q_means, q_std, q_mode):\n",
        "  print(f\"{name : <15}{round(mean[0],3) : ^10}{round(mean[1],3) : ^10}{round(std[0],3) : ^10}{round(std[1],3) : ^10}{mode[0] : ^10}{mode[1] : ^10}\")"
      ],
      "metadata": {
        "colab": {
          "base_uri": "https://localhost:8080/"
        },
        "id": "7koima44Johd",
        "outputId": "06ce49c5-3fbb-4883-d547-2caa5deb5918"
      },
      "execution_count": null,
      "outputs": [
        {
          "output_type": "stream",
          "name": "stdout",
          "text": [
            "Mean, std and mode accross dataset responses\n",
            "Dataset          H mean    D mean    H std     D std     H mode    D mode  \n",
            "IADQ             2.453     3.694     1.113     0.607       3         4     \n",
            "BF_CTU           3.314     3.922     1.182      1.14       4         5     \n",
            "BF_OU             3.32     4.106     1.215     1.103       4         5     \n",
            "BF_V             3.289     3.999     1.212      1.16       4         5     \n",
            "DDDT             2.401     1.845      1.2       1.14       2         1     \n",
            "PRMQ             2.428     4.036     1.151     1.308       2         5     \n",
            "PHQ9_GAD7         2.27     4.407     1.184     0.931       1         5     \n",
            "PRFQ             2.863     3.542     1.493     1.794       1         5     \n",
            "PCL5             0.839      2.21      0.96     1.394       0         3     \n",
            "NAQ_R             1.49     4.077     0.766     1.254       1         5     \n",
            "IESR             1.837      3.87     1.043     1.237       1         5     \n",
            "sPID-5           1.676     3.167     0.844      1.06       1         4     \n",
            "DT_CC            2.728     2.361     1.153     1.208       2         1     \n",
            "DT_JI            2.545     2.638     1.169      1.18       2         2     \n",
            "PID5             0.885      2.01     0.948     1.167       0         3     \n"
          ]
        }
      ]
    },
    {
      "cell_type": "code",
      "source": [
        "nrows = 5\n",
        "ncols = 3\n",
        "\n",
        "fig = plt.figure(figsize=(20, 20))\n",
        "axes = fig.subplots(nrows=nrows, ncols=ncols)\n",
        "\n",
        "for i in range(nrows):\n",
        "    for j in range(ncols):\n",
        "      n = i*ncols+j\n",
        "      ax = axes[i][j]\n",
        "      globals()[names[n]+\"_honest\"].iloc[:,0:-1].stack().value_counts().sort_index().plot(ax = ax, kind = 'bar', position = 0, width = 0.3)\n",
        "      globals()[names[n]+\"_dishonest\"].iloc[:,0:-1].stack().value_counts().sort_index().plot(ax = ax, kind = 'bar', color = 'red', position = 1, width = 0.3)\n",
        "\n",
        "      ax.set_title(names[n])\n",
        "\n",
        "fig.suptitle(\"Response distribution accross datasets\", fontsize=20)\n",
        "fig.legend([\"Honest\",\"Dishonest\"], loc = 10, bbox_to_anchor= (0.42, 0.82), ncol = 2)\n",
        "plt.show()"
      ],
      "metadata": {
        "colab": {
          "base_uri": "https://localhost:8080/",
          "height": 1000
        },
        "id": "GNB4t3hQAsaA",
        "outputId": "6fda27c2-4762-45b2-ac0f-f42086c4268c"
      },
      "execution_count": null,
      "outputs": [
        {
          "output_type": "display_data",
          "data": {
            "text/plain": [
              "<Figure size 1440x1440 with 15 Axes>"
            ],
            "image/png": "[encoded data removed]"
          },
          "metadata": {
            "needs_background": "light"
          }
        }
      ]
    },
    {
      "cell_type": "code",
      "source": [
        "# media delle differenze per ogni domanda tra onesti e disonesti\n",
        "diff = []\n",
        "for name in names:\n",
        "  temp = globals()[name+\"_dishonest\"].iloc[:,0:-1].subtract(globals()[name+\"_honest\"].iloc[:,0:-1]).values\n",
        "  diff.append(np.mean(temp, axis = 0))"
      ],
      "metadata": {
        "id": "5DrQiH4VpBPk"
      },
      "execution_count": null,
      "outputs": []
    },
    {
      "cell_type": "code",
      "source": [
        "nrows = 5\n",
        "ncols = 3\n",
        "\n",
        "fig = plt.figure(figsize=(20, 20))\n",
        "axes = fig.subplots(nrows=nrows, ncols=ncols)\n",
        "\n",
        "for i in range(nrows):\n",
        "    for j in range(ncols):\n",
        "      n = i*ncols+j\n",
        "      ax = axes[i][j]\n",
        "      ax.bar(np.arange(items[n]),diff[n])\n",
        "\n",
        "      ax.set_title(names[n])\n",
        "\n",
        "fig.suptitle(\"taitol\", fontsize=20)\n",
        "plt.show()"
      ],
      "metadata": {
        "colab": {
          "base_uri": "https://localhost:8080/",
          "height": 1000
        },
        "id": "B6ovJ-C5pfDC",
        "outputId": "d1f37b23-7e21-4f93-df07-58f097ac314d"
      },
      "execution_count": null,
      "outputs": [
        {
          "output_type": "display_data",
          "data": {
            "text/plain": [
              "<Figure size 1440x1440 with 15 Axes>"
            ],
            "image/png": "[encoded data removed]"
          },
          "metadata": {
            "needs_background": "light"
          }
        }
      ]
    },
    {
      "cell_type": "markdown",
      "source": [
        "## models"
      ],
      "metadata": {
        "id": "ffUo7GIVXqQB"
      }
    },
    {
      "cell_type": "code",
      "source": [
        "forest_results_temp =[]\n",
        "forest_top_20 = []\n",
        "forest_top_features = []\n",
        "\n",
        "for index,name in enumerate(names):\n",
        "\n",
        "  t = [n for n in range(1,items[index]+1)]\n",
        "  t.append(None)\n",
        "\n",
        "  grid_params = {\n",
        "    'n_estimators': (10, 20, 30, 40, 50),\n",
        "    'criterion': ['entropy'],\n",
        "    'max_depth': tuple(t),}\n",
        "\n",
        "  model = GridSearchCV(RandomForestClassifier(random_state = 0), grid_params, n_jobs= -1, cv = 5, return_train_score = True)\n",
        "  model.fit(globals()[name + \"_X_train_val\"], globals()[name + \"_y_train_val\"])\n",
        "\n",
        "  y_pred_forest = model.best_estimator_.predict(globals()[name + \"_X_test\"])\n",
        "  acc = accuracy_score(globals()[name + \"_y_test\"], y_pred_forest)\n",
        "  f1 = f1_score(globals()[name + \"_y_test\"], y_pred_forest, average = 'macro')\n",
        "\n",
        "  features, features20 = select_top_20(model.best_estimator_.feature_importances_)\n",
        "  forest_top_20.append(features20)\n",
        "  forest_top_features.append(features)\n",
        "\n",
        "  #select_20 = SelectFromModel(estimator = model.best_estimator_, threshold=-np.inf, prefit = True, max_features = (math.ceil(items[index]/5)))\n",
        "  #temp_X_train_val = select_20.transform(globals()[name + \"_X_train_val\"])\n",
        "  #temp_X_test = select_20.transform(globals()[name + \"_X_test\"])\n",
        "\n",
        "  temp_X_train_val = globals()[name + \"_X_train_val\"] [:,features20]\n",
        "  temp_X_test = globals()[name + \"_X_test\"][:,features20]\n",
        "\n",
        "  model.best_estimator_.fit(temp_X_train_val, globals()[name + \"_y_train_val\"])\n",
        "  y_pred_forest_20 = model.best_estimator_.predict(temp_X_test)\n",
        "  acc_20 = accuracy_score(globals()[name + \"_y_test\"], y_pred_forest_20)\n",
        "  f1_20 = f1_score(globals()[name + \"_y_test\"], y_pred_forest_20, average = 'macro')\n",
        "\n",
        "\n",
        "  print(name, model.best_score_, acc, acc_20, model.best_params_ )\n",
        "\n",
        "  forest_results_temp.append([name, model.best_score_, acc, acc_20, f1, f1_20, model.best_params_ ])\n",
        "  forest_results = pd.DataFrame(forest_results_temp, columns = [\"Dataset\", \"Validation accuracy\", \"Test accuracy\", \"Top 20% Test accuracy\", \"f1 score\",\"Top 20% f1 score\", \"Best Parameters\"])"
      ],
      "metadata": {
        "colab": {
          "base_uri": "https://localhost:8080/"
        },
        "id": "7lzObfQPYwIG",
        "outputId": "539b45cc-37b5-47ed-db63-1afbfcf9a3e0"
      },
      "execution_count": null,
      "outputs": [
        {
          "output_type": "stream",
          "name": "stdout",
          "text": [
            "IADQ 0.8518518518518519 0.8666666666666667 0.8666666666666667 {'criterion': 'entropy', 'max_depth': 2, 'n_estimators': 20}\n",
            "BF_CTU 0.836360759493671 0.8666666666666667 0.8888888888888888 {'criterion': 'entropy', 'max_depth': 4, 'n_estimators': 10}\n",
            "BF_OU 0.8599471054951513 0.8043478260869565 0.8478260869565217 {'criterion': 'entropy', 'max_depth': 6, 'n_estimators': 40}\n",
            "BF_V 0.8443312434691747 0.8163265306122449 0.8163265306122449 {'criterion': 'entropy', 'max_depth': 10, 'n_estimators': 30}\n",
            "DDDT 0.8094521678410462 0.8383838383838383 0.8484848484848485 {'criterion': 'entropy', 'max_depth': 6, 'n_estimators': 50}\n",
            "PRMQ 0.9390331890331891 0.9078014184397163 0.8652482269503546 {'criterion': 'entropy', 'max_depth': 14, 'n_estimators': 30}\n",
            "PHQ9_GAD7 0.9910546278508449 1.0 0.9910714285714286 {'criterion': 'entropy', 'max_depth': 6, 'n_estimators': 50}\n",
            "PRFQ 0.9098360655737705 0.9264705882352942 0.8676470588235294 {'criterion': 'entropy', 'max_depth': 6, 'n_estimators': 40}\n",
            "PCL5 0.8448249619482496 0.8048780487804879 0.8780487804878049 {'criterion': 'entropy', 'max_depth': 17, 'n_estimators': 10}\n",
            "NAQ_R 0.95625 0.9444444444444444 0.9444444444444444 {'criterion': 'entropy', 'max_depth': 7, 'n_estimators': 40}\n",
            "IESR 0.9441346153846155 0.9722222222222222 0.9722222222222222 {'criterion': 'entropy', 'max_depth': 4, 'n_estimators': 30}\n",
            "sPID-5 0.9689552067161176 0.9615384615384616 0.9230769230769231 {'criterion': 'entropy', 'max_depth': 13, 'n_estimators': 50}\n",
            "DT_CC 0.785084202085004 0.7551020408163265 0.7142857142857143 {'criterion': 'entropy', 'max_depth': 4, 'n_estimators': 40}\n",
            "DT_JI 0.6448387096774193 0.5747126436781609 0.6091954022988506 {'criterion': 'entropy', 'max_depth': 2, 'n_estimators': 50}\n",
            "PID5 0.9568202430618538 0.9518072289156626 0.9518072289156626 {'criterion': 'entropy', 'max_depth': 9, 'n_estimators': 20}\n"
          ]
        }
      ]
    },
    {
      "cell_type": "code",
      "source": [
        "forest_results"
      ],
      "metadata": {
        "colab": {
          "base_uri": "https://localhost:8080/",
          "height": 520
        },
        "id": "YiSHa601ISGN",
        "outputId": "c3295b68-a39d-4009-9ad0-47b8aa2a2220"
      },
      "execution_count": null,
      "outputs": [
        {
          "output_type": "execute_result",
          "data": {
            "text/plain": [
              "      Dataset  Validation accuracy  Test accuracy  Top 20% Test accuracy  \\\n",
              "0        IADQ             0.851852       0.866667               0.866667   \n",
              "1      BF_CTU             0.836361       0.866667               0.888889   \n",
              "2       BF_OU             0.859947       0.804348               0.847826   \n",
              "3        BF_V             0.844331       0.816327               0.816327   \n",
              "4        DDDT             0.809452       0.838384               0.848485   \n",
              "5        PRMQ             0.939033       0.907801               0.865248   \n",
              "6   PHQ9_GAD7             0.991055       1.000000               0.991071   \n",
              "7        PRFQ             0.909836       0.926471               0.867647   \n",
              "8        PCL5             0.844825       0.804878               0.878049   \n",
              "9       NAQ_R             0.956250       0.944444               0.944444   \n",
              "10       IESR             0.944135       0.972222               0.972222   \n",
              "11     sPID-5             0.968955       0.961538               0.923077   \n",
              "12      DT_CC             0.785084       0.755102               0.714286   \n",
              "13      DT_JI             0.644839       0.574713               0.609195   \n",
              "14       PID5             0.956820       0.951807               0.951807   \n",
              "\n",
              "    f1 score  Top 20% f1 score  \\\n",
              "0   0.866601          0.866601   \n",
              "1   0.858193          0.880383   \n",
              "2   0.804255          0.846007   \n",
              "3   0.816020          0.816020   \n",
              "4   0.838235          0.848423   \n",
              "5   0.907335          0.863907   \n",
              "6   1.000000          0.991065   \n",
              "7   0.923681          0.864091   \n",
              "8   0.801932          0.875380   \n",
              "9   0.943750          0.943750   \n",
              "10  0.969362          0.969362   \n",
              "11  0.961310          0.922359   \n",
              "12  0.755000          0.714167   \n",
              "13  0.574713          0.608730   \n",
              "14  0.951632          0.951632   \n",
              "\n",
              "                                      Best Parameters  \n",
              "0   {'criterion': 'entropy', 'max_depth': 2, 'n_es...  \n",
              "1   {'criterion': 'entropy', 'max_depth': 4, 'n_es...  \n",
              "2   {'criterion': 'entropy', 'max_depth': 6, 'n_es...  \n",
              "3   {'criterion': 'entropy', 'max_depth': 10, 'n_e...  \n",
              "4   {'criterion': 'entropy', 'max_depth': 6, 'n_es...  \n",
              "5   {'criterion': 'entropy', 'max_depth': 14, 'n_e...  \n",
              "6   {'criterion': 'entropy', 'max_depth': 6, 'n_es...  \n",
              "7   {'criterion': 'entropy', 'max_depth': 6, 'n_es...  \n",
              "8   {'criterion': 'entropy', 'max_depth': 17, 'n_e...  \n",
              "9   {'criterion': 'entropy', 'max_depth': 7, 'n_es...  \n",
              "10  {'criterion': 'entropy', 'max_depth': 4, 'n_es...  \n",
              "11  {'criterion': 'entropy', 'max_depth': 13, 'n_e...  \n",
              "12  {'criterion': 'entropy', 'max_depth': 4, 'n_es...  \n",
              "13  {'criterion': 'entropy', 'max_depth': 2, 'n_es...  \n",
              "14  {'criterion': 'entropy', 'max_depth': 9, 'n_es...  "
            ],
            "text/html": [
              "\n",
              "  <div id=\"df-0524cc1c-ca8d-4e9a-a2b7-b7423297a471\">\n",
              "    <div class=\"colab-df-container\">\n",
              "      <div>\n",
              "<style scoped>\n",
              "    .dataframe tbody tr th:only-of-type {\n",
              "        vertical-align: middle;\n",
              "    }\n",
              "\n",
              "    .dataframe tbody tr th {\n",
              "        vertical-align: top;\n",
              "    }\n",
              "\n",
              "    .dataframe thead th {\n",
              "        text-align: right;\n",
              "    }\n",
              "</style>\n",
              "<table border=\"1\" class=\"dataframe\">\n",
              "  <thead>\n",
              "    <tr style=\"text-align: right;\">\n",
              "      <th></th>\n",
              "      <th>Dataset</th>\n",
              "      <th>Validation accuracy</th>\n",
              "      <th>Test accuracy</th>\n",
              "      <th>Top 20% Test accuracy</th>\n",
              "      <th>f1 score</th>\n",
              "      <th>Top 20% f1 score</th>\n",
              "      <th>Best Parameters</th>\n",
              "    </tr>\n",
              "  </thead>\n",
              "  <tbody>\n",
              "    <tr>\n",
              "      <th>0</th>\n",
              "      <td>IADQ</td>\n",
              "      <td>0.851852</td>\n",
              "      <td>0.866667</td>\n",
              "      <td>0.866667</td>\n",
              "      <td>0.866601</td>\n",
              "      <td>0.866601</td>\n",
              "      <td>{'criterion': 'entropy', 'max_depth': 2, 'n_es...</td>\n",
              "    </tr>\n",
              "    <tr>\n",
              "      <th>1</th>\n",
              "      <td>BF_CTU</td>\n",
              "      <td>0.836361</td>\n",
              "      <td>0.866667</td>\n",
              "      <td>0.888889</td>\n",
              "      <td>0.858193</td>\n",
              "      <td>0.880383</td>\n",
              "      <td>{'criterion': 'entropy', 'max_depth': 4, 'n_es...</td>\n",
              "    </tr>\n",
              "    <tr>\n",
              "      <th>2</th>\n",
              "      <td>BF_OU</td>\n",
              "      <td>0.859947</td>\n",
              "      <td>0.804348</td>\n",
              "      <td>0.847826</td>\n",
              "      <td>0.804255</td>\n",
              "      <td>0.846007</td>\n",
              "      <td>{'criterion': 'entropy', 'max_depth': 6, 'n_es...</td>\n",
              "    </tr>\n",
              "    <tr>\n",
              "      <th>3</th>\n",
              "      <td>BF_V</td>\n",
              "      <td>0.844331</td>\n",
              "      <td>0.816327</td>\n",
              "      <td>0.816327</td>\n",
              "      <td>0.816020</td>\n",
              "      <td>0.816020</td>\n",
              "      <td>{'criterion': 'entropy', 'max_depth': 10, 'n_e...</td>\n",
              "    </tr>\n",
              "    <tr>\n",
              "      <th>4</th>\n",
              "      <td>DDDT</td>\n",
              "      <td>0.809452</td>\n",
              "      <td>0.838384</td>\n",
              "      <td>0.848485</td>\n",
              "      <td>0.838235</td>\n",
              "      <td>0.848423</td>\n",
              "      <td>{'criterion': 'entropy', 'max_depth': 6, 'n_es...</td>\n",
              "    </tr>\n",
              "    <tr>\n",
              "      <th>5</th>\n",
              "      <td>PRMQ</td>\n",
              "      <td>0.939033</td>\n",
              "      <td>0.907801</td>\n",
              "      <td>0.865248</td>\n",
              "      <td>0.907335</td>\n",
              "      <td>0.863907</td>\n",
              "      <td>{'criterion': 'entropy', 'max_depth': 14, 'n_e...</td>\n",
              "    </tr>\n",
              "    <tr>\n",
              "      <th>6</th>\n",
              "      <td>PHQ9_GAD7</td>\n",
              "      <td>0.991055</td>\n",
              "      <td>1.000000</td>\n",
              "      <td>0.991071</td>\n",
              "      <td>1.000000</td>\n",
              "      <td>0.991065</td>\n",
              "      <td>{'criterion': 'entropy', 'max_depth': 6, 'n_es...</td>\n",
              "    </tr>\n",
              "    <tr>\n",
              "      <th>7</th>\n",
              "      <td>PRFQ</td>\n",
              "      <td>0.909836</td>\n",
              "      <td>0.926471</td>\n",
              "      <td>0.867647</td>\n",
              "      <td>0.923681</td>\n",
              "      <td>0.864091</td>\n",
              "      <td>{'criterion': 'entropy', 'max_depth': 6, 'n_es...</td>\n",
              "    </tr>\n",
              "    <tr>\n",
              "      <th>8</th>\n",
              "      <td>PCL5</td>\n",
              "      <td>0.844825</td>\n",
              "      <td>0.804878</td>\n",
              "      <td>0.878049</td>\n",
              "      <td>0.801932</td>\n",
              "      <td>0.875380</td>\n",
              "      <td>{'criterion': 'entropy', 'max_depth': 17, 'n_e...</td>\n",
              "    </tr>\n",
              "    <tr>\n",
              "      <th>9</th>\n",
              "      <td>NAQ_R</td>\n",
              "      <td>0.956250</td>\n",
              "      <td>0.944444</td>\n",
              "      <td>0.944444</td>\n",
              "      <td>0.943750</td>\n",
              "      <td>0.943750</td>\n",
              "      <td>{'criterion': 'entropy', 'max_depth': 7, 'n_es...</td>\n",
              "    </tr>\n",
              "    <tr>\n",
              "      <th>10</th>\n",
              "      <td>IESR</td>\n",
              "      <td>0.944135</td>\n",
              "      <td>0.972222</td>\n",
              "      <td>0.972222</td>\n",
              "      <td>0.969362</td>\n",
              "      <td>0.969362</td>\n",
              "      <td>{'criterion': 'entropy', 'max_depth': 4, 'n_es...</td>\n",
              "    </tr>\n",
              "    <tr>\n",
              "      <th>11</th>\n",
              "      <td>sPID-5</td>\n",
              "      <td>0.968955</td>\n",
              "      <td>0.961538</td>\n",
              "      <td>0.923077</td>\n",
              "      <td>0.961310</td>\n",
              "      <td>0.922359</td>\n",
              "      <td>{'criterion': 'entropy', 'max_depth': 13, 'n_e...</td>\n",
              "    </tr>\n",
              "    <tr>\n",
              "      <th>12</th>\n",
              "      <td>DT_CC</td>\n",
              "      <td>0.785084</td>\n",
              "      <td>0.755102</td>\n",
              "      <td>0.714286</td>\n",
              "      <td>0.755000</td>\n",
              "      <td>0.714167</td>\n",
              "      <td>{'criterion': 'entropy', 'max_depth': 4, 'n_es...</td>\n",
              "    </tr>\n",
              "    <tr>\n",
              "      <th>13</th>\n",
              "      <td>DT_JI</td>\n",
              "      <td>0.644839</td>\n",
              "      <td>0.574713</td>\n",
              "      <td>0.609195</td>\n",
              "      <td>0.574713</td>\n",
              "      <td>0.608730</td>\n",
              "      <td>{'criterion': 'entropy', 'max_depth': 2, 'n_es...</td>\n",
              "    </tr>\n",
              "    <tr>\n",
              "      <th>14</th>\n",
              "      <td>PID5</td>\n",
              "      <td>0.956820</td>\n",
              "      <td>0.951807</td>\n",
              "      <td>0.951807</td>\n",
              "      <td>0.951632</td>\n",
              "      <td>0.951632</td>\n",
              "      <td>{'criterion': 'entropy', 'max_depth': 9, 'n_es...</td>\n",
              "    </tr>\n",
              "  </tbody>\n",
              "</table>\n",
              "</div>\n",
              "      <button class=\"colab-df-convert\" onclick=\"convertToInteractive('df-0524cc1c-ca8d-4e9a-a2b7-b7423297a471')\"\n",
              "              title=\"Convert this dataframe to an interactive table.\"\n",
              "              style=\"display:none;\">\n",
              "        \n",
              "  <svg xmlns=\"http://www.w3.org/2000/svg\" height=\"24px\"viewBox=\"0 0 24 24\"\n",
              "       width=\"24px\">\n",
              "    <path d=\"M0 0h24v24H0V0z\" fill=\"none\"/>\n",
              "    <path d=\"M18.56 5.44l.94 2.06.94-2.06 2.06-.94-2.06-.94-.94-2.06-.94 2.06-2.06.94zm-11 1L8.5 8.5l.94-2.06 2.06-.94-2.06-.94L8.5 2.5l-.94 2.06-2.06.94zm10 10l.94 2.06.94-2.06 2.06-.94-2.06-.94-.94-2.06-.94 2.06-2.06.94z\"/><path d=\"M17.41 7.96l-1.37-1.37c-.4-.4-.92-.59-1.43-.59-.52 0-1.04.2-1.43.59L10.3 9.45l-7.72 7.72c-.78.78-.78 2.05 0 2.83L4 21.41c.39.39.9.59 1.41.59.51 0 1.02-.2 1.41-.59l7.78-7.78 2.81-2.81c.8-.78.8-2.07 0-2.86zM5.41 20L4 18.59l7.72-7.72 1.47 1.35L5.41 20z\"/>\n",
              "  </svg>\n",
              "      </button>\n",
              "      \n",
              "  <style>\n",
              "    .colab-df-container {\n",
              "      display:flex;\n",
              "      flex-wrap:wrap;\n",
              "      gap: 12px;\n",
              "    }\n",
              "\n",
              "    .colab-df-convert {\n",
              "      background-color: #E8F0FE;\n",
              "      border: none;\n",
              "      border-radius: 50%;\n",
              "      cursor: pointer;\n",
              "      display: none;\n",
              "      fill: #1967D2;\n",
              "      height: 32px;\n",
              "      padding: 0 0 0 0;\n",
              "      width: 32px;\n",
              "    }\n",
              "\n",
              "    .colab-df-convert:hover {\n",
              "      background-color: #E2EBFA;\n",
              "      box-shadow: 0px 1px 2px rgba(60, 64, 67, 0.3), 0px 1px 3px 1px rgba(60, 64, 67, 0.15);\n",
              "      fill: #174EA6;\n",
              "    }\n",
              "\n",
              "    [theme=dark] .colab-df-convert {\n",
              "      background-color: #3B4455;\n",
              "      fill: #D2E3FC;\n",
              "    }\n",
              "\n",
              "    [theme=dark] .colab-df-convert:hover {\n",
              "      background-color: #434B5C;\n",
              "      box-shadow: 0px 1px 3px 1px rgba(0, 0, 0, 0.15);\n",
              "      filter: drop-shadow(0px 1px 2px rgba(0, 0, 0, 0.3));\n",
              "      fill: #FFFFFF;\n",
              "    }\n",
              "  </style>\n",
              "\n",
              "      <script>\n",
              "        const buttonEl =\n",
              "          document.querySelector('#df-0524cc1c-ca8d-4e9a-a2b7-b7423297a471 button.colab-df-convert');\n",
              "        buttonEl.style.display =\n",
              "          google.colab.kernel.accessAllowed ? 'block' : 'none';\n",
              "\n",
              "        async function convertToInteractive(key) {\n",
              "          const element = document.querySelector('#df-0524cc1c-ca8d-4e9a-a2b7-b7423297a471');\n",
              "          const dataTable =\n",
              "            await google.colab.kernel.invokeFunction('convertToInteractive',\n",
              "                                                     [key], {});\n",
              "          if (!dataTable) return;\n",
              "\n",
              "          const docLinkHtml = 'Like what you see? Visit the ' +\n",
              "            '<a target=\"_blank\" href=https://colab.research.google.com/notebooks/data_table.ipynb>data table notebook</a>'\n",
              "            + ' to learn more about interactive tables.';\n",
              "          element.innerHTML = '';\n",
              "          dataTable['output_type'] = 'display_data';\n",
              "          await google.colab.output.renderOutput(dataTable, element);\n",
              "          const docLink = document.createElement('div');\n",
              "          docLink.innerHTML = docLinkHtml;\n",
              "          element.appendChild(docLink);\n",
              "        }\n",
              "      </script>\n",
              "    </div>\n",
              "  </div>\n",
              "  "
            ]
          },
          "metadata": {},
          "execution_count": 19
        }
      ]
    },
    {
      "cell_type": "code",
      "source": [
        "svc_results_temp = []\n",
        "svc_top_20 = []\n",
        "svc_top_features = []\n",
        "\n",
        "for index,name in enumerate(names):\n",
        "\n",
        "  grid_params = {\n",
        "    'C': [1,0.1,0.01,0.001],\n",
        "    'kernel': ['linear'],}\n",
        "\n",
        "  model = GridSearchCV(SVC(random_state = 0), grid_params, n_jobs= -1, cv = 5, return_train_score = True)\n",
        "  model.fit(globals()[name + \"_X_train_val\"], globals()[name + \"_y_train_val\"])\n",
        "\n",
        "  y_pred_svc = model.best_estimator_.predict(globals()[name + \"_X_test\"])\n",
        "  acc = accuracy_score(globals()[name + \"_y_test\"], y_pred_svc)\n",
        "  f1 = f1_score(globals()[name + \"_y_test\"], y_pred_svc, average = 'macro')\n",
        "\n",
        "  features, features20 = select_top_20(model.best_estimator_.coef_[0])\n",
        "  svc_top_20.append(features20)\n",
        "  svc_top_features.append(features)\n",
        "\n",
        "  #select_20 = SelectFromModel(estimator = model.best_estimator_, threshold=-np.inf, prefit = True, max_features = (math.ceil(items[index]/5)))\n",
        "  #temp_X_train_val = select_20.transform(globals()[name + \"_X_train_val\"])\n",
        "  #temp_X_test = select_20.transform(globals()[name + \"_X_test\"])\n",
        "\n",
        "  temp_X_train_val = globals()[name + \"_X_train_val\"] [:,features20]\n",
        "  temp_X_test = globals()[name + \"_X_test\"][:,features20]\n",
        "\n",
        "  model.best_estimator_.fit(temp_X_train_val, globals()[name + \"_y_train_val\"])\n",
        "  y_pred_svc_20 = model.best_estimator_.predict(temp_X_test)\n",
        "  acc_20 = accuracy_score(globals()[name + \"_y_test\"], y_pred_svc_20)\n",
        "  f1_20 = f1_score(globals()[name + \"_y_test\"], y_pred_svc_20, average = 'macro')\n",
        "\n",
        "  print(name, model.best_score_, acc, acc_20, model.best_params_ )\n",
        "\n",
        "  svc_results_temp.append([name, model.best_score_, acc, acc_20, f1, f1_20, model.best_params_ ])\n",
        "  svc_results = pd.DataFrame(svc_results_temp, columns = [\"Dataset\", \"Validation accuracy\", \"Test accuracy\", \"Top 20% Test accuracy\", \"f1 score\",\"Top 20% f1 score\", \"Best Parameters\"])"
      ],
      "metadata": {
        "colab": {
          "base_uri": "https://localhost:8080/"
        },
        "id": "6XtXlqlwBTRg",
        "outputId": "6bb9679d-42da-4470-bc75-2d4d20323dcd"
      },
      "execution_count": null,
      "outputs": [
        {
          "output_type": "stream",
          "name": "stdout",
          "text": [
            "IADQ 0.8444444444444444 0.8888888888888888 0.8666666666666667 {'C': 1, 'kernel': 'linear'}\n",
            "BF_CTU 0.8388607594936708 0.8666666666666667 0.7555555555555555 {'C': 0.01, 'kernel': 'linear'}\n",
            "BF_OU 0.828563032618278 0.8043478260869565 0.8043478260869565 {'C': 1, 'kernel': 'linear'}\n",
            "BF_V 0.8168495297805644 0.7551020408163265 0.7959183673469388 {'C': 0.01, 'kernel': 'linear'}\n",
            "DDDT 0.7677712181806641 0.797979797979798 0.6262626262626263 {'C': 0.01, 'kernel': 'linear'}\n",
            "PRMQ 0.9034192860279816 0.8865248226950354 0.8723404255319149 {'C': 0.001, 'kernel': 'linear'}\n",
            "PHQ9_GAD7 0.9890547263681592 1.0 0.9910714285714286 {'C': 1, 'kernel': 'linear'}\n",
            "PRFQ 0.9098360655737705 0.9117647058823529 0.8676470588235294 {'C': 0.01, 'kernel': 'linear'}\n",
            "PCL5 0.8364535768645357 0.9024390243902439 0.8780487804878049 {'C': 0.001, 'kernel': 'linear'}\n",
            "NAQ_R 0.9546875 0.9444444444444444 0.9444444444444444 {'C': 0.01, 'kernel': 'linear'}\n",
            "IESR 0.9441346153846155 0.9722222222222222 0.9722222222222222 {'C': 0.01, 'kernel': 'linear'}\n",
            "sPID-5 0.9678914381001669 0.9519230769230769 0.9326923076923077 {'C': 0.001, 'kernel': 'linear'}\n",
            "DT_CC 0.7689387864207431 0.7551020408163265 0.4897959183673469 {'C': 0.1, 'kernel': 'linear'}\n",
            "DT_JI 0.6667493796526054 0.6091954022988506 0.5402298850574713 {'C': 1, 'kernel': 'linear'}\n",
            "PID5 0.9581534554688919 0.9518072289156626 0.9397590361445783 {'C': 0.001, 'kernel': 'linear'}\n"
          ]
        }
      ]
    },
    {
      "cell_type": "code",
      "source": [
        "svc_results"
      ],
      "metadata": {
        "colab": {
          "base_uri": "https://localhost:8080/",
          "height": 520
        },
        "id": "KhT_E_mKIL5J",
        "outputId": "9edd3b57-97cf-4e36-c829-08c7d6e3da88"
      },
      "execution_count": null,
      "outputs": [
        {
          "output_type": "execute_result",
          "data": {
            "text/plain": [
              "      Dataset  Validation accuracy  Test accuracy  Top 20% Test accuracy  \\\n",
              "0        IADQ             0.844444       0.888889               0.866667   \n",
              "1      BF_CTU             0.838861       0.866667               0.755556   \n",
              "2       BF_OU             0.828563       0.804348               0.804348   \n",
              "3        BF_V             0.816850       0.755102               0.795918   \n",
              "4        DDDT             0.767771       0.797980               0.626263   \n",
              "5        PRMQ             0.903419       0.886525               0.872340   \n",
              "6   PHQ9_GAD7             0.989055       1.000000               0.991071   \n",
              "7        PRFQ             0.909836       0.911765               0.867647   \n",
              "8        PCL5             0.836454       0.902439               0.878049   \n",
              "9       NAQ_R             0.954688       0.944444               0.944444   \n",
              "10       IESR             0.944135       0.972222               0.972222   \n",
              "11     sPID-5             0.967891       0.951923               0.932692   \n",
              "12      DT_CC             0.768939       0.755102               0.489796   \n",
              "13      DT_JI             0.666749       0.609195               0.540230   \n",
              "14       PID5             0.958153       0.951807               0.939759   \n",
              "\n",
              "    f1 score  Top 20% f1 score                   Best Parameters  \n",
              "0   0.888669          0.866601      {'C': 1, 'kernel': 'linear'}  \n",
              "1   0.861111          0.736842   {'C': 0.01, 'kernel': 'linear'}  \n",
              "2   0.803512          0.803512      {'C': 1, 'kernel': 'linear'}  \n",
              "3   0.755000          0.795833   {'C': 0.01, 'kernel': 'linear'}  \n",
              "4   0.797794          0.623806   {'C': 0.01, 'kernel': 'linear'}  \n",
              "5   0.885226          0.870879  {'C': 0.001, 'kernel': 'linear'}  \n",
              "6   1.000000          0.991065      {'C': 1, 'kernel': 'linear'}  \n",
              "7   0.907859          0.864091   {'C': 0.01, 'kernel': 'linear'}  \n",
              "8   0.894872          0.866623  {'C': 0.001, 'kernel': 'linear'}  \n",
              "9   0.943750          0.943750   {'C': 0.01, 'kernel': 'linear'}  \n",
              "10  0.969362          0.969362   {'C': 0.01, 'kernel': 'linear'}  \n",
              "11  0.951560          0.932184  {'C': 0.001, 'kernel': 'linear'}  \n",
              "12  0.754181          0.488945    {'C': 0.1, 'kernel': 'linear'}  \n",
              "13  0.608730          0.537234      {'C': 1, 'kernel': 'linear'}  \n",
              "14  0.951632          0.939619  {'C': 0.001, 'kernel': 'linear'}  "
            ],
            "text/html": [
              "\n",
              "  <div id=\"df-8e1bfa19-a80e-4e66-9c30-25a68019327a\">\n",
              "    <div class=\"colab-df-container\">\n",
              "      <div>\n",
              "<style scoped>\n",
              "    .dataframe tbody tr th:only-of-type {\n",
              "        vertical-align: middle;\n",
              "    }\n",
              "\n",
              "    .dataframe tbody tr th {\n",
              "        vertical-align: top;\n",
              "    }\n",
              "\n",
              "    .dataframe thead th {\n",
              "        text-align: right;\n",
              "    }\n",
              "</style>\n",
              "<table border=\"1\" class=\"dataframe\">\n",
              "  <thead>\n",
              "    <tr style=\"text-align: right;\">\n",
              "      <th></th>\n",
              "      <th>Dataset</th>\n",
              "      <th>Validation accuracy</th>\n",
              "      <th>Test accuracy</th>\n",
              "      <th>Top 20% Test accuracy</th>\n",
              "      <th>f1 score</th>\n",
              "      <th>Top 20% f1 score</th>\n",
              "      <th>Best Parameters</th>\n",
              "    </tr>\n",
              "  </thead>\n",
              "  <tbody>\n",
              "    <tr>\n",
              "      <th>0</th>\n",
              "      <td>IADQ</td>\n",
              "      <td>0.844444</td>\n",
              "      <td>0.888889</td>\n",
              "      <td>0.866667</td>\n",
              "      <td>0.888669</td>\n",
              "      <td>0.866601</td>\n",
              "      <td>{'C': 1, 'kernel': 'linear'}</td>\n",
              "    </tr>\n",
              "    <tr>\n",
              "      <th>1</th>\n",
              "      <td>BF_CTU</td>\n",
              "      <td>0.838861</td>\n",
              "      <td>0.866667</td>\n",
              "      <td>0.755556</td>\n",
              "      <td>0.861111</td>\n",
              "      <td>0.736842</td>\n",
              "      <td>{'C': 0.01, 'kernel': 'linear'}</td>\n",
              "    </tr>\n",
              "    <tr>\n",
              "      <th>2</th>\n",
              "      <td>BF_OU</td>\n",
              "      <td>0.828563</td>\n",
              "      <td>0.804348</td>\n",
              "      <td>0.804348</td>\n",
              "      <td>0.803512</td>\n",
              "      <td>0.803512</td>\n",
              "      <td>{'C': 1, 'kernel': 'linear'}</td>\n",
              "    </tr>\n",
              "    <tr>\n",
              "      <th>3</th>\n",
              "      <td>BF_V</td>\n",
              "      <td>0.816850</td>\n",
              "      <td>0.755102</td>\n",
              "      <td>0.795918</td>\n",
              "      <td>0.755000</td>\n",
              "      <td>0.795833</td>\n",
              "      <td>{'C': 0.01, 'kernel': 'linear'}</td>\n",
              "    </tr>\n",
              "    <tr>\n",
              "      <th>4</th>\n",
              "      <td>DDDT</td>\n",
              "      <td>0.767771</td>\n",
              "      <td>0.797980</td>\n",
              "      <td>0.626263</td>\n",
              "      <td>0.797794</td>\n",
              "      <td>0.623806</td>\n",
              "      <td>{'C': 0.01, 'kernel': 'linear'}</td>\n",
              "    </tr>\n",
              "    <tr>\n",
              "      <th>5</th>\n",
              "      <td>PRMQ</td>\n",
              "      <td>0.903419</td>\n",
              "      <td>0.886525</td>\n",
              "      <td>0.872340</td>\n",
              "      <td>0.885226</td>\n",
              "      <td>0.870879</td>\n",
              "      <td>{'C': 0.001, 'kernel': 'linear'}</td>\n",
              "    </tr>\n",
              "    <tr>\n",
              "      <th>6</th>\n",
              "      <td>PHQ9_GAD7</td>\n",
              "      <td>0.989055</td>\n",
              "      <td>1.000000</td>\n",
              "      <td>0.991071</td>\n",
              "      <td>1.000000</td>\n",
              "      <td>0.991065</td>\n",
              "      <td>{'C': 1, 'kernel': 'linear'}</td>\n",
              "    </tr>\n",
              "    <tr>\n",
              "      <th>7</th>\n",
              "      <td>PRFQ</td>\n",
              "      <td>0.909836</td>\n",
              "      <td>0.911765</td>\n",
              "      <td>0.867647</td>\n",
              "      <td>0.907859</td>\n",
              "      <td>0.864091</td>\n",
              "      <td>{'C': 0.01, 'kernel': 'linear'}</td>\n",
              "    </tr>\n",
              "    <tr>\n",
              "      <th>8</th>\n",
              "      <td>PCL5</td>\n",
              "      <td>0.836454</td>\n",
              "      <td>0.902439</td>\n",
              "      <td>0.878049</td>\n",
              "      <td>0.894872</td>\n",
              "      <td>0.866623</td>\n",
              "      <td>{'C': 0.001, 'kernel': 'linear'}</td>\n",
              "    </tr>\n",
              "    <tr>\n",
              "      <th>9</th>\n",
              "      <td>NAQ_R</td>\n",
              "      <td>0.954688</td>\n",
              "      <td>0.944444</td>\n",
              "      <td>0.944444</td>\n",
              "      <td>0.943750</td>\n",
              "      <td>0.943750</td>\n",
              "      <td>{'C': 0.01, 'kernel': 'linear'}</td>\n",
              "    </tr>\n",
              "    <tr>\n",
              "      <th>10</th>\n",
              "      <td>IESR</td>\n",
              "      <td>0.944135</td>\n",
              "      <td>0.972222</td>\n",
              "      <td>0.972222</td>\n",
              "      <td>0.969362</td>\n",
              "      <td>0.969362</td>\n",
              "      <td>{'C': 0.01, 'kernel': 'linear'}</td>\n",
              "    </tr>\n",
              "    <tr>\n",
              "      <th>11</th>\n",
              "      <td>sPID-5</td>\n",
              "      <td>0.967891</td>\n",
              "      <td>0.951923</td>\n",
              "      <td>0.932692</td>\n",
              "      <td>0.951560</td>\n",
              "      <td>0.932184</td>\n",
              "      <td>{'C': 0.001, 'kernel': 'linear'}</td>\n",
              "    </tr>\n",
              "    <tr>\n",
              "      <th>12</th>\n",
              "      <td>DT_CC</td>\n",
              "      <td>0.768939</td>\n",
              "      <td>0.755102</td>\n",
              "      <td>0.489796</td>\n",
              "      <td>0.754181</td>\n",
              "      <td>0.488945</td>\n",
              "      <td>{'C': 0.1, 'kernel': 'linear'}</td>\n",
              "    </tr>\n",
              "    <tr>\n",
              "      <th>13</th>\n",
              "      <td>DT_JI</td>\n",
              "      <td>0.666749</td>\n",
              "      <td>0.609195</td>\n",
              "      <td>0.540230</td>\n",
              "      <td>0.608730</td>\n",
              "      <td>0.537234</td>\n",
              "      <td>{'C': 1, 'kernel': 'linear'}</td>\n",
              "    </tr>\n",
              "    <tr>\n",
              "      <th>14</th>\n",
              "      <td>PID5</td>\n",
              "      <td>0.958153</td>\n",
              "      <td>0.951807</td>\n",
              "      <td>0.939759</td>\n",
              "      <td>0.951632</td>\n",
              "      <td>0.939619</td>\n",
              "      <td>{'C': 0.001, 'kernel': 'linear'}</td>\n",
              "    </tr>\n",
              "  </tbody>\n",
              "</table>\n",
              "</div>\n",
              "      <button class=\"colab-df-convert\" onclick=\"convertToInteractive('df-8e1bfa19-a80e-4e66-9c30-25a68019327a')\"\n",
              "              title=\"Convert this dataframe to an interactive table.\"\n",
              "              style=\"display:none;\">\n",
              "        \n",
              "  <svg xmlns=\"http://www.w3.org/2000/svg\" height=\"24px\"viewBox=\"0 0 24 24\"\n",
              "       width=\"24px\">\n",
              "    <path d=\"M0 0h24v24H0V0z\" fill=\"none\"/>\n",
              "    <path d=\"M18.56 5.44l.94 2.06.94-2.06 2.06-.94-2.06-.94-.94-2.06-.94 2.06-2.06.94zm-11 1L8.5 8.5l.94-2.06 2.06-.94-2.06-.94L8.5 2.5l-.94 2.06-2.06.94zm10 10l.94 2.06.94-2.06 2.06-.94-2.06-.94-.94-2.06-.94 2.06-2.06.94z\"/><path d=\"M17.41 7.96l-1.37-1.37c-.4-.4-.92-.59-1.43-.59-.52 0-1.04.2-1.43.59L10.3 9.45l-7.72 7.72c-.78.78-.78 2.05 0 2.83L4 21.41c.39.39.9.59 1.41.59.51 0 1.02-.2 1.41-.59l7.78-7.78 2.81-2.81c.8-.78.8-2.07 0-2.86zM5.41 20L4 18.59l7.72-7.72 1.47 1.35L5.41 20z\"/>\n",
              "  </svg>\n",
              "      </button>\n",
              "      \n",
              "  <style>\n",
              "    .colab-df-container {\n",
              "      display:flex;\n",
              "      flex-wrap:wrap;\n",
              "      gap: 12px;\n",
              "    }\n",
              "\n",
              "    .colab-df-convert {\n",
              "      background-color: #E8F0FE;\n",
              "      border: none;\n",
              "      border-radius: 50%;\n",
              "      cursor: pointer;\n",
              "      display: none;\n",
              "      fill: #1967D2;\n",
              "      height: 32px;\n",
              "      padding: 0 0 0 0;\n",
              "      width: 32px;\n",
              "    }\n",
              "\n",
              "    .colab-df-convert:hover {\n",
              "      background-color: #E2EBFA;\n",
              "      box-shadow: 0px 1px 2px rgba(60, 64, 67, 0.3), 0px 1px 3px 1px rgba(60, 64, 67, 0.15);\n",
              "      fill: #174EA6;\n",
              "    }\n",
              "\n",
              "    [theme=dark] .colab-df-convert {\n",
              "      background-color: #3B4455;\n",
              "      fill: #D2E3FC;\n",
              "    }\n",
              "\n",
              "    [theme=dark] .colab-df-convert:hover {\n",
              "      background-color: #434B5C;\n",
              "      box-shadow: 0px 1px 3px 1px rgba(0, 0, 0, 0.15);\n",
              "      filter: drop-shadow(0px 1px 2px rgba(0, 0, 0, 0.3));\n",
              "      fill: #FFFFFF;\n",
              "    }\n",
              "  </style>\n",
              "\n",
              "      <script>\n",
              "        const buttonEl =\n",
              "          document.querySelector('#df-8e1bfa19-a80e-4e66-9c30-25a68019327a button.colab-df-convert');\n",
              "        buttonEl.style.display =\n",
              "          google.colab.kernel.accessAllowed ? 'block' : 'none';\n",
              "\n",
              "        async function convertToInteractive(key) {\n",
              "          const element = document.querySelector('#df-8e1bfa19-a80e-4e66-9c30-25a68019327a');\n",
              "          const dataTable =\n",
              "            await google.colab.kernel.invokeFunction('convertToInteractive',\n",
              "                                                     [key], {});\n",
              "          if (!dataTable) return;\n",
              "\n",
              "          const docLinkHtml = 'Like what you see? Visit the ' +\n",
              "            '<a target=\"_blank\" href=https://colab.research.google.com/notebooks/data_table.ipynb>data table notebook</a>'\n",
              "            + ' to learn more about interactive tables.';\n",
              "          element.innerHTML = '';\n",
              "          dataTable['output_type'] = 'display_data';\n",
              "          await google.colab.output.renderOutput(dataTable, element);\n",
              "          const docLink = document.createElement('div');\n",
              "          docLink.innerHTML = docLinkHtml;\n",
              "          element.appendChild(docLink);\n",
              "        }\n",
              "      </script>\n",
              "    </div>\n",
              "  </div>\n",
              "  "
            ]
          },
          "metadata": {},
          "execution_count": 21
        }
      ]
    },
    {
      "cell_type": "code",
      "source": [
        "tree_results_temp =[]\n",
        "tree_top_20 = []\n",
        "tree_top_features = []\n",
        "\n",
        "for index,name in enumerate(names):\n",
        "\n",
        "  t = [n for n in range(1,items[index]+1)]\n",
        "  t.append(None)\n",
        "\n",
        "  grid_params = {\n",
        "    'criterion': ['entropy'],\n",
        "    'max_depth': tuple(t),}\n",
        "\n",
        "  model = GridSearchCV(DecisionTreeClassifier(random_state = 0), grid_params, n_jobs= -1, cv = 5, return_train_score = True)\n",
        "  model.fit(globals()[name + \"_X_train_val\"], globals()[name + \"_y_train_val\"])\n",
        "\n",
        "  y_pred_tree = model.best_estimator_.predict(globals()[name + \"_X_test\"])\n",
        "  acc = accuracy_score(globals()[name + \"_y_test\"], y_pred_tree)\n",
        "  f1 = f1_score(globals()[name + \"_y_test\"], y_pred_tree, average = 'macro')\n",
        "\n",
        "  features, features20 = select_top_20(model.best_estimator_.feature_importances_)\n",
        "  tree_top_20.append(features20)\n",
        "  tree_top_features.append(features)\n",
        "\n",
        "  #select_20 = SelectFromModel(estimator = model.best_estimator_, threshold=-np.inf, prefit = True, max_features = (math.ceil(items[index]/5)))\n",
        "  #temp_X_train_val = select_20.transform(globals()[name + \"_X_train_val\"])\n",
        "  #temp_X_test = select_20.transform(globals()[name + \"_X_test\"])\n",
        "\n",
        "  temp_X_train_val = globals()[name + \"_X_train_val\"] [:,features20]\n",
        "  temp_X_test = globals()[name + \"_X_test\"][:,features20]\n",
        "\n",
        "  model.best_estimator_.fit(temp_X_train_val, globals()[name + \"_y_train_val\"])\n",
        "  y_pred_tree_20 = model.best_estimator_.predict(temp_X_test)\n",
        "  acc_20 = accuracy_score(globals()[name + \"_y_test\"], y_pred_tree_20)\n",
        "  f1_20 = f1_score(globals()[name + \"_y_test\"], y_pred_tree_20, average = 'macro')\n",
        "\n",
        "  print(name, model.best_score_, acc, acc_20, model.best_params_ )\n",
        "\n",
        "  tree_results_temp.append([name, model.best_score_, acc, acc_20, f1, f1_20, model.best_params_ ])\n",
        "  tree_results = pd.DataFrame(tree_results_temp, columns = [\"Dataset\", \"Validation accuracy\", \"Test accuracy\", \"Top 20% Test accuracy\" ,\"f1 score\",\"Top 20% f1 score\", \"Best Parameters\"])"
      ],
      "metadata": {
        "colab": {
          "base_uri": "https://localhost:8080/"
        },
        "id": "TlFalQInoejs",
        "outputId": "93f8c8bd-4561-4984-f399-eb5d1c6c04e6"
      },
      "execution_count": null,
      "outputs": [
        {
          "output_type": "stream",
          "name": "stdout",
          "text": [
            "IADQ 0.819753086419753 0.8444444444444444 0.8666666666666667 {'criterion': 'entropy', 'max_depth': 5}\n",
            "BF_CTU 0.8263607594936708 0.8666666666666667 0.8666666666666667 {'criterion': 'entropy', 'max_depth': 2}\n",
            "BF_OU 0.8310020570085219 0.782608695652174 0.717391304347826 {'criterion': 'entropy', 'max_depth': 5}\n",
            "BF_V 0.7939655172413793 0.6938775510204082 0.673469387755102 {'criterion': 'entropy', 'max_depth': 5}\n",
            "DDDT 0.7542245921411794 0.7575757575757576 0.8383838383838383 {'criterion': 'entropy', 'max_depth': 5}\n",
            "PRMQ 0.9002478198130373 0.8723404255319149 0.900709219858156 {'criterion': 'entropy', 'max_depth': 7}\n",
            "PHQ9_GAD7 0.9681936850401458 1.0 0.9821428571428571 {'criterion': 'entropy', 'max_depth': 6}\n",
            "PRFQ 0.8770491803278688 0.8823529411764706 0.8970588235294118 {'criterion': 'entropy', 'max_depth': 4}\n",
            "PCL5 0.8031963470319635 0.8780487804878049 0.8780487804878049 {'criterion': 'entropy', 'max_depth': 3}\n",
            "NAQ_R 0.9375 0.9166666666666666 0.9166666666666666 {'criterion': 'entropy', 'max_depth': 3}\n",
            "IESR 0.9130288461538463 0.9166666666666666 0.9444444444444444 {'criterion': 'entropy', 'max_depth': 4}\n",
            "sPID-5 0.9411304697832212 0.8942307692307693 0.9038461538461539 {'criterion': 'entropy', 'max_depth': 6}\n",
            "DT_CC 0.7435979684576316 0.6530612244897959 0.6530612244897959 {'criterion': 'entropy', 'max_depth': 4}\n",
            "DT_JI 0.6448304383788255 0.5747126436781609 0.5862068965517241 {'criterion': 'entropy', 'max_depth': 5}\n",
            "PID5 0.9203609649918374 0.9397590361445783 0.9397590361445783 {'criterion': 'entropy', 'max_depth': 6}\n"
          ]
        }
      ]
    },
    {
      "cell_type": "code",
      "source": [
        "tree_results"
      ],
      "metadata": {
        "colab": {
          "base_uri": "https://localhost:8080/",
          "height": 520
        },
        "id": "tNfjNGss0KCD",
        "outputId": "4cdb0760-00c0-4f15-8a8a-157b6806708b"
      },
      "execution_count": null,
      "outputs": [
        {
          "output_type": "execute_result",
          "data": {
            "text/plain": [
              "      Dataset  Validation accuracy  Test accuracy  Top 20% Test accuracy  \\\n",
              "0        IADQ             0.819753       0.844444               0.866667   \n",
              "1      BF_CTU             0.826361       0.866667               0.866667   \n",
              "2       BF_OU             0.831002       0.782609               0.717391   \n",
              "3        BF_V             0.793966       0.693878               0.673469   \n",
              "4        DDDT             0.754225       0.757576               0.838384   \n",
              "5        PRMQ             0.900248       0.872340               0.900709   \n",
              "6   PHQ9_GAD7             0.968194       1.000000               0.982143   \n",
              "7        PRFQ             0.877049       0.882353               0.897059   \n",
              "8        PCL5             0.803196       0.878049               0.878049   \n",
              "9       NAQ_R             0.937500       0.916667               0.916667   \n",
              "10       IESR             0.913029       0.916667               0.944444   \n",
              "11     sPID-5             0.941130       0.894231               0.903846   \n",
              "12      DT_CC             0.743598       0.653061               0.653061   \n",
              "13      DT_JI             0.644830       0.574713               0.586207   \n",
              "14       PID5             0.920361       0.939759               0.939759   \n",
              "\n",
              "    f1 score  Top 20% f1 score                           Best Parameters  \n",
              "0   0.844444          0.866601  {'criterion': 'entropy', 'max_depth': 5}  \n",
              "1   0.858193          0.858193  {'criterion': 'entropy', 'max_depth': 2}  \n",
              "2   0.782609          0.714012  {'criterion': 'entropy', 'max_depth': 5}  \n",
              "3   0.689218          0.666667  {'criterion': 'entropy', 'max_depth': 5}  \n",
              "4   0.757353          0.838235  {'criterion': 'entropy', 'max_depth': 5}  \n",
              "5   0.871818          0.899858  {'criterion': 'entropy', 'max_depth': 7}  \n",
              "6   1.000000          0.982137  {'criterion': 'entropy', 'max_depth': 6}  \n",
              "7   0.879752          0.893154  {'criterion': 'entropy', 'max_depth': 4}  \n",
              "8   0.870335          0.870335  {'criterion': 'entropy', 'max_depth': 3}  \n",
              "9   0.915625          0.915625  {'criterion': 'entropy', 'max_depth': 3}  \n",
              "10  0.911111          0.941558  {'criterion': 'entropy', 'max_depth': 4}  \n",
              "11  0.891984          0.902549  {'criterion': 'entropy', 'max_depth': 6}  \n",
              "12  0.650734          0.647780  {'criterion': 'entropy', 'max_depth': 4}  \n",
              "13  0.573812          0.586152  {'criterion': 'entropy', 'max_depth': 5}  \n",
              "14  0.939443          0.939443  {'criterion': 'entropy', 'max_depth': 6}  "
            ],
            "text/html": [
              "\n",
              "  <div id=\"df-a9d5385d-94a7-4583-bfed-7f29856021c9\">\n",
              "    <div class=\"colab-df-container\">\n",
              "      <div>\n",
              "<style scoped>\n",
              "    .dataframe tbody tr th:only-of-type {\n",
              "        vertical-align: middle;\n",
              "    }\n",
              "\n",
              "    .dataframe tbody tr th {\n",
              "        vertical-align: top;\n",
              "    }\n",
              "\n",
              "    .dataframe thead th {\n",
              "        text-align: right;\n",
              "    }\n",
              "</style>\n",
              "<table border=\"1\" class=\"dataframe\">\n",
              "  <thead>\n",
              "    <tr style=\"text-align: right;\">\n",
              "      <th></th>\n",
              "      <th>Dataset</th>\n",
              "      <th>Validation accuracy</th>\n",
              "      <th>Test accuracy</th>\n",
              "      <th>Top 20% Test accuracy</th>\n",
              "      <th>f1 score</th>\n",
              "      <th>Top 20% f1 score</th>\n",
              "      <th>Best Parameters</th>\n",
              "    </tr>\n",
              "  </thead>\n",
              "  <tbody>\n",
              "    <tr>\n",
              "      <th>0</th>\n",
              "      <td>IADQ</td>\n",
              "      <td>0.819753</td>\n",
              "      <td>0.844444</td>\n",
              "      <td>0.866667</td>\n",
              "      <td>0.844444</td>\n",
              "      <td>0.866601</td>\n",
              "      <td>{'criterion': 'entropy', 'max_depth': 5}</td>\n",
              "    </tr>\n",
              "    <tr>\n",
              "      <th>1</th>\n",
              "      <td>BF_CTU</td>\n",
              "      <td>0.826361</td>\n",
              "      <td>0.866667</td>\n",
              "      <td>0.866667</td>\n",
              "      <td>0.858193</td>\n",
              "      <td>0.858193</td>\n",
              "      <td>{'criterion': 'entropy', 'max_depth': 2}</td>\n",
              "    </tr>\n",
              "    <tr>\n",
              "      <th>2</th>\n",
              "      <td>BF_OU</td>\n",
              "      <td>0.831002</td>\n",
              "      <td>0.782609</td>\n",
              "      <td>0.717391</td>\n",
              "      <td>0.782609</td>\n",
              "      <td>0.714012</td>\n",
              "      <td>{'criterion': 'entropy', 'max_depth': 5}</td>\n",
              "    </tr>\n",
              "    <tr>\n",
              "      <th>3</th>\n",
              "      <td>BF_V</td>\n",
              "      <td>0.793966</td>\n",
              "      <td>0.693878</td>\n",
              "      <td>0.673469</td>\n",
              "      <td>0.689218</td>\n",
              "      <td>0.666667</td>\n",
              "      <td>{'criterion': 'entropy', 'max_depth': 5}</td>\n",
              "    </tr>\n",
              "    <tr>\n",
              "      <th>4</th>\n",
              "      <td>DDDT</td>\n",
              "      <td>0.754225</td>\n",
              "      <td>0.757576</td>\n",
              "      <td>0.838384</td>\n",
              "      <td>0.757353</td>\n",
              "      <td>0.838235</td>\n",
              "      <td>{'criterion': 'entropy', 'max_depth': 5}</td>\n",
              "    </tr>\n",
              "    <tr>\n",
              "      <th>5</th>\n",
              "      <td>PRMQ</td>\n",
              "      <td>0.900248</td>\n",
              "      <td>0.872340</td>\n",
              "      <td>0.900709</td>\n",
              "      <td>0.871818</td>\n",
              "      <td>0.899858</td>\n",
              "      <td>{'criterion': 'entropy', 'max_depth': 7}</td>\n",
              "    </tr>\n",
              "    <tr>\n",
              "      <th>6</th>\n",
              "      <td>PHQ9_GAD7</td>\n",
              "      <td>0.968194</td>\n",
              "      <td>1.000000</td>\n",
              "      <td>0.982143</td>\n",
              "      <td>1.000000</td>\n",
              "      <td>0.982137</td>\n",
              "      <td>{'criterion': 'entropy', 'max_depth': 6}</td>\n",
              "    </tr>\n",
              "    <tr>\n",
              "      <th>7</th>\n",
              "      <td>PRFQ</td>\n",
              "      <td>0.877049</td>\n",
              "      <td>0.882353</td>\n",
              "      <td>0.897059</td>\n",
              "      <td>0.879752</td>\n",
              "      <td>0.893154</td>\n",
              "      <td>{'criterion': 'entropy', 'max_depth': 4}</td>\n",
              "    </tr>\n",
              "    <tr>\n",
              "      <th>8</th>\n",
              "      <td>PCL5</td>\n",
              "      <td>0.803196</td>\n",
              "      <td>0.878049</td>\n",
              "      <td>0.878049</td>\n",
              "      <td>0.870335</td>\n",
              "      <td>0.870335</td>\n",
              "      <td>{'criterion': 'entropy', 'max_depth': 3}</td>\n",
              "    </tr>\n",
              "    <tr>\n",
              "      <th>9</th>\n",
              "      <td>NAQ_R</td>\n",
              "      <td>0.937500</td>\n",
              "      <td>0.916667</td>\n",
              "      <td>0.916667</td>\n",
              "      <td>0.915625</td>\n",
              "      <td>0.915625</td>\n",
              "      <td>{'criterion': 'entropy', 'max_depth': 3}</td>\n",
              "    </tr>\n",
              "    <tr>\n",
              "      <th>10</th>\n",
              "      <td>IESR</td>\n",
              "      <td>0.913029</td>\n",
              "      <td>0.916667</td>\n",
              "      <td>0.944444</td>\n",
              "      <td>0.911111</td>\n",
              "      <td>0.941558</td>\n",
              "      <td>{'criterion': 'entropy', 'max_depth': 4}</td>\n",
              "    </tr>\n",
              "    <tr>\n",
              "      <th>11</th>\n",
              "      <td>sPID-5</td>\n",
              "      <td>0.941130</td>\n",
              "      <td>0.894231</td>\n",
              "      <td>0.903846</td>\n",
              "      <td>0.891984</td>\n",
              "      <td>0.902549</td>\n",
              "      <td>{'criterion': 'entropy', 'max_depth': 6}</td>\n",
              "    </tr>\n",
              "    <tr>\n",
              "      <th>12</th>\n",
              "      <td>DT_CC</td>\n",
              "      <td>0.743598</td>\n",
              "      <td>0.653061</td>\n",
              "      <td>0.653061</td>\n",
              "      <td>0.650734</td>\n",
              "      <td>0.647780</td>\n",
              "      <td>{'criterion': 'entropy', 'max_depth': 4}</td>\n",
              "    </tr>\n",
              "    <tr>\n",
              "      <th>13</th>\n",
              "      <td>DT_JI</td>\n",
              "      <td>0.644830</td>\n",
              "      <td>0.574713</td>\n",
              "      <td>0.586207</td>\n",
              "      <td>0.573812</td>\n",
              "      <td>0.586152</td>\n",
              "      <td>{'criterion': 'entropy', 'max_depth': 5}</td>\n",
              "    </tr>\n",
              "    <tr>\n",
              "      <th>14</th>\n",
              "      <td>PID5</td>\n",
              "      <td>0.920361</td>\n",
              "      <td>0.939759</td>\n",
              "      <td>0.939759</td>\n",
              "      <td>0.939443</td>\n",
              "      <td>0.939443</td>\n",
              "      <td>{'criterion': 'entropy', 'max_depth': 6}</td>\n",
              "    </tr>\n",
              "  </tbody>\n",
              "</table>\n",
              "</div>\n",
              "      <button class=\"colab-df-convert\" onclick=\"convertToInteractive('df-a9d5385d-94a7-4583-bfed-7f29856021c9')\"\n",
              "              title=\"Convert this dataframe to an interactive table.\"\n",
              "              style=\"display:none;\">\n",
              "        \n",
              "  <svg xmlns=\"http://www.w3.org/2000/svg\" height=\"24px\"viewBox=\"0 0 24 24\"\n",
              "       width=\"24px\">\n",
              "    <path d=\"M0 0h24v24H0V0z\" fill=\"none\"/>\n",
              "    <path d=\"M18.56 5.44l.94 2.06.94-2.06 2.06-.94-2.06-.94-.94-2.06-.94 2.06-2.06.94zm-11 1L8.5 8.5l.94-2.06 2.06-.94-2.06-.94L8.5 2.5l-.94 2.06-2.06.94zm10 10l.94 2.06.94-2.06 2.06-.94-2.06-.94-.94-2.06-.94 2.06-2.06.94z\"/><path d=\"M17.41 7.96l-1.37-1.37c-.4-.4-.92-.59-1.43-.59-.52 0-1.04.2-1.43.59L10.3 9.45l-7.72 7.72c-.78.78-.78 2.05 0 2.83L4 21.41c.39.39.9.59 1.41.59.51 0 1.02-.2 1.41-.59l7.78-7.78 2.81-2.81c.8-.78.8-2.07 0-2.86zM5.41 20L4 18.59l7.72-7.72 1.47 1.35L5.41 20z\"/>\n",
              "  </svg>\n",
              "      </button>\n",
              "      \n",
              "  <style>\n",
              "    .colab-df-container {\n",
              "      display:flex;\n",
              "      flex-wrap:wrap;\n",
              "      gap: 12px;\n",
              "    }\n",
              "\n",
              "    .colab-df-convert {\n",
              "      background-color: #E8F0FE;\n",
              "      border: none;\n",
              "      border-radius: 50%;\n",
              "      cursor: pointer;\n",
              "      display: none;\n",
              "      fill: #1967D2;\n",
              "      height: 32px;\n",
              "      padding: 0 0 0 0;\n",
              "      width: 32px;\n",
              "    }\n",
              "\n",
              "    .colab-df-convert:hover {\n",
              "      background-color: #E2EBFA;\n",
              "      box-shadow: 0px 1px 2px rgba(60, 64, 67, 0.3), 0px 1px 3px 1px rgba(60, 64, 67, 0.15);\n",
              "      fill: #174EA6;\n",
              "    }\n",
              "\n",
              "    [theme=dark] .colab-df-convert {\n",
              "      background-color: #3B4455;\n",
              "      fill: #D2E3FC;\n",
              "    }\n",
              "\n",
              "    [theme=dark] .colab-df-convert:hover {\n",
              "      background-color: #434B5C;\n",
              "      box-shadow: 0px 1px 3px 1px rgba(0, 0, 0, 0.15);\n",
              "      filter: drop-shadow(0px 1px 2px rgba(0, 0, 0, 0.3));\n",
              "      fill: #FFFFFF;\n",
              "    }\n",
              "  </style>\n",
              "\n",
              "      <script>\n",
              "        const buttonEl =\n",
              "          document.querySelector('#df-a9d5385d-94a7-4583-bfed-7f29856021c9 button.colab-df-convert');\n",
              "        buttonEl.style.display =\n",
              "          google.colab.kernel.accessAllowed ? 'block' : 'none';\n",
              "\n",
              "        async function convertToInteractive(key) {\n",
              "          const element = document.querySelector('#df-a9d5385d-94a7-4583-bfed-7f29856021c9');\n",
              "          const dataTable =\n",
              "            await google.colab.kernel.invokeFunction('convertToInteractive',\n",
              "                                                     [key], {});\n",
              "          if (!dataTable) return;\n",
              "\n",
              "          const docLinkHtml = 'Like what you see? Visit the ' +\n",
              "            '<a target=\"_blank\" href=https://colab.research.google.com/notebooks/data_table.ipynb>data table notebook</a>'\n",
              "            + ' to learn more about interactive tables.';\n",
              "          element.innerHTML = '';\n",
              "          dataTable['output_type'] = 'display_data';\n",
              "          await google.colab.output.renderOutput(dataTable, element);\n",
              "          const docLink = document.createElement('div');\n",
              "          docLink.innerHTML = docLinkHtml;\n",
              "          element.appendChild(docLink);\n",
              "        }\n",
              "      </script>\n",
              "    </div>\n",
              "  </div>\n",
              "  "
            ]
          },
          "metadata": {},
          "execution_count": 36
        }
      ]
    },
    {
      "cell_type": "code",
      "source": [
        "knn_results_temp =[]\n",
        "knn_top_20 = []\n",
        "knn_top_features = []\n",
        "\n",
        "for index,name in enumerate(names):\n",
        "\n",
        "  grid_params = {\n",
        "    'n_neighbors': (2,3,4,5,6,7,8,9,10),}\n",
        "\n",
        "  model = GridSearchCV(KNeighborsClassifier(), grid_params, n_jobs= -1, cv = 5, return_train_score = True)\n",
        "  model.fit(globals()[name + \"_X_train_val\"], globals()[name + \"_y_train_val\"])\n",
        "\n",
        "  y_pred_knn = model.best_estimator_.predict(globals()[name + \"_X_test\"])\n",
        "  acc = accuracy_score(globals()[name + \"_y_test\"], y_pred_knn)\n",
        "  f1 = f1_score(globals()[name + \"_y_test\"], y_pred_knn, average = 'macro')\n",
        "\n",
        "  permutations = permutation_importance(model.best_estimator_, globals()[name + \"_X_train_val\"], globals()[name + \"_y_train_val\"], scoring='accuracy', n_repeats = 20)\n",
        "  features, features20 = select_top_20(permutations.importances_mean)\n",
        "  knn_top_20.append(features20)\n",
        "  knn_top_features.append(features)\n",
        "\n",
        "  temp_X_train_val = globals()[name + \"_X_train_val\"] [:,features20]\n",
        "  temp_X_test = globals()[name + \"_X_test\"][:,features20]\n",
        "\n",
        "  model.best_estimator_.fit(temp_X_train_val, globals()[name + \"_y_train_val\"])\n",
        "  y_pred_knn_20 = model.best_estimator_.predict(temp_X_test)\n",
        "  \n",
        "  acc_20 = accuracy_score(globals()[name + \"_y_test\"], y_pred_knn_20)\n",
        "  f1_20 = f1_score(globals()[name + \"_y_test\"], y_pred_knn_20, average = 'macro')\n",
        "\n",
        "  print(name, model.best_score_, acc, acc_20, model.best_params_ )\n",
        "\n",
        "  knn_results_temp.append([name, model.best_score_, acc, acc_20, f1, f1_20, model.best_params_ ])\n",
        "  knn_results = pd.DataFrame(knn_results_temp, columns = [\"Dataset\", \"Validation accuracy\", \"Test accuracy\", \"Top 20% Test accuracy\" ,\"f1 score\",\"Top 20% f1 score\", \"Best Parameters\"])\n"
      ],
      "metadata": {
        "colab": {
          "base_uri": "https://localhost:8080/"
        },
        "id": "LtRaZ_PplE28",
        "outputId": "d55f3247-64b5-463c-c9cd-c7df35acde7a"
      },
      "execution_count": null,
      "outputs": [
        {
          "output_type": "stream",
          "name": "stdout",
          "text": [
            "IADQ 0.8345679012345679 0.8444444444444444 0.8666666666666667 {'n_neighbors': 7}\n",
            "BF_CTU 0.8311708860759494 0.8888888888888888 0.8666666666666667 {'n_neighbors': 6}\n",
            "BF_OU 0.8163385248310314 0.7608695652173914 0.717391304347826 {'n_neighbors': 10}\n",
            "BF_V 0.8259665621734588 0.6938775510204082 0.8163265306122449 {'n_neighbors': 3}\n",
            "DDDT 0.7621215006665397 0.797979797979798 0.7474747474747475 {'n_neighbors': 9}\n",
            "PRMQ 0.905759457933371 0.8439716312056738 0.8723404255319149 {'n_neighbors': 5}\n",
            "PHQ9_GAD7 0.9860844293384563 1.0 1.0 {'n_neighbors': 7}\n",
            "PRFQ 0.9114754098360656 0.9264705882352942 0.8676470588235294 {'n_neighbors': 9}\n",
            "PCL5 0.8308980213089804 0.7804878048780488 0.9024390243902439 {'n_neighbors': 10}\n",
            "NAQ_R 0.95625 0.9444444444444444 0.9305555555555556 {'n_neighbors': 2}\n",
            "IESR 0.9441346153846155 0.9722222222222222 0.9722222222222222 {'n_neighbors': 4}\n",
            "sPID-5 0.9657466505663848 0.9230769230769231 0.9230769230769231 {'n_neighbors': 7}\n",
            "DT_CC 0.7136059877038224 0.6938775510204082 0.7346938775510204 {'n_neighbors': 10}\n",
            "DT_JI 0.5894789081885856 0.5287356321839081 0.6436781609195402 {'n_neighbors': 10}\n",
            "PID5 0.9230455287502266 0.927710843373494 0.9156626506024096 {'n_neighbors': 5}\n"
          ]
        }
      ]
    },
    {
      "cell_type": "code",
      "source": [
        "knn_results"
      ],
      "metadata": {
        "colab": {
          "base_uri": "https://localhost:8080/",
          "height": 520
        },
        "id": "OJzYOiRdHBt4",
        "outputId": "1592ccfa-fdb8-43d1-adca-0c8c207d38de"
      },
      "execution_count": null,
      "outputs": [
        {
          "output_type": "execute_result",
          "data": {
            "text/plain": [
              "      Dataset  Validation accuracy  Test accuracy  Top 20% Test accuracy  \\\n",
              "0        IADQ             0.834568       0.844444               0.866667   \n",
              "1      BF_CTU             0.831171       0.888889               0.866667   \n",
              "2       BF_OU             0.816339       0.760870               0.717391   \n",
              "3        BF_V             0.825967       0.693878               0.816327   \n",
              "4        DDDT             0.762122       0.797980               0.747475   \n",
              "5        PRMQ             0.905759       0.843972               0.872340   \n",
              "6   PHQ9_GAD7             0.986084       1.000000               1.000000   \n",
              "7        PRFQ             0.911475       0.926471               0.867647   \n",
              "8        PCL5             0.830898       0.780488               0.902439   \n",
              "9       NAQ_R             0.956250       0.944444               0.930556   \n",
              "10       IESR             0.944135       0.972222               0.972222   \n",
              "11     sPID-5             0.965747       0.923077               0.923077   \n",
              "12      DT_CC             0.713606       0.693878               0.734694   \n",
              "13      DT_JI             0.589479       0.528736               0.643678   \n",
              "14       PID5             0.923046       0.927711               0.915663   \n",
              "\n",
              "    f1 score  Top 20% f1 score      Best Parameters  \n",
              "0   0.844444          0.866601   {'n_neighbors': 7}  \n",
              "1   0.885263          0.858193   {'n_neighbors': 6}  \n",
              "2   0.760757          0.714012  {'n_neighbors': 10}  \n",
              "3   0.693878          0.816020   {'n_neighbors': 3}  \n",
              "4   0.797463          0.746544   {'n_neighbors': 9}  \n",
              "5   0.843586          0.871818   {'n_neighbors': 5}  \n",
              "6   1.000000          1.000000   {'n_neighbors': 7}  \n",
              "7   0.923681          0.865287   {'n_neighbors': 9}  \n",
              "8   0.775684          0.899510  {'n_neighbors': 10}  \n",
              "9   0.943750          0.929893   {'n_neighbors': 2}  \n",
              "10  0.970370          0.969362   {'n_neighbors': 4}  \n",
              "11  0.922039          0.922359   {'n_neighbors': 7}  \n",
              "12  0.693367          0.734251  {'n_neighbors': 10}  \n",
              "13  0.522426          0.641975  {'n_neighbors': 10}  \n",
              "14  0.927616          0.915614   {'n_neighbors': 5}  "
            ],
            "text/html": [
              "\n",
              "  <div id=\"df-d10ff3c8-1b68-43d1-89c3-176baf3f0fab\">\n",
              "    <div class=\"colab-df-container\">\n",
              "      <div>\n",
              "<style scoped>\n",
              "    .dataframe tbody tr th:only-of-type {\n",
              "        vertical-align: middle;\n",
              "    }\n",
              "\n",
              "    .dataframe tbody tr th {\n",
              "        vertical-align: top;\n",
              "    }\n",
              "\n",
              "    .dataframe thead th {\n",
              "        text-align: right;\n",
              "    }\n",
              "</style>\n",
              "<table border=\"1\" class=\"dataframe\">\n",
              "  <thead>\n",
              "    <tr style=\"text-align: right;\">\n",
              "      <th></th>\n",
              "      <th>Dataset</th>\n",
              "      <th>Validation accuracy</th>\n",
              "      <th>Test accuracy</th>\n",
              "      <th>Top 20% Test accuracy</th>\n",
              "      <th>f1 score</th>\n",
              "      <th>Top 20% f1 score</th>\n",
              "      <th>Best Parameters</th>\n",
              "    </tr>\n",
              "  </thead>\n",
              "  <tbody>\n",
              "    <tr>\n",
              "      <th>0</th>\n",
              "      <td>IADQ</td>\n",
              "      <td>0.834568</td>\n",
              "      <td>0.844444</td>\n",
              "      <td>0.866667</td>\n",
              "      <td>0.844444</td>\n",
              "      <td>0.866601</td>\n",
              "      <td>{'n_neighbors': 7}</td>\n",
              "    </tr>\n",
              "    <tr>\n",
              "      <th>1</th>\n",
              "      <td>BF_CTU</td>\n",
              "      <td>0.831171</td>\n",
              "      <td>0.888889</td>\n",
              "      <td>0.866667</td>\n",
              "      <td>0.885263</td>\n",
              "      <td>0.858193</td>\n",
              "      <td>{'n_neighbors': 6}</td>\n",
              "    </tr>\n",
              "    <tr>\n",
              "      <th>2</th>\n",
              "      <td>BF_OU</td>\n",
              "      <td>0.816339</td>\n",
              "      <td>0.760870</td>\n",
              "      <td>0.717391</td>\n",
              "      <td>0.760757</td>\n",
              "      <td>0.714012</td>\n",
              "      <td>{'n_neighbors': 10}</td>\n",
              "    </tr>\n",
              "    <tr>\n",
              "      <th>3</th>\n",
              "      <td>BF_V</td>\n",
              "      <td>0.825967</td>\n",
              "      <td>0.693878</td>\n",
              "      <td>0.816327</td>\n",
              "      <td>0.693878</td>\n",
              "      <td>0.816020</td>\n",
              "      <td>{'n_neighbors': 3}</td>\n",
              "    </tr>\n",
              "    <tr>\n",
              "      <th>4</th>\n",
              "      <td>DDDT</td>\n",
              "      <td>0.762122</td>\n",
              "      <td>0.797980</td>\n",
              "      <td>0.747475</td>\n",
              "      <td>0.797463</td>\n",
              "      <td>0.746544</td>\n",
              "      <td>{'n_neighbors': 9}</td>\n",
              "    </tr>\n",
              "    <tr>\n",
              "      <th>5</th>\n",
              "      <td>PRMQ</td>\n",
              "      <td>0.905759</td>\n",
              "      <td>0.843972</td>\n",
              "      <td>0.872340</td>\n",
              "      <td>0.843586</td>\n",
              "      <td>0.871818</td>\n",
              "      <td>{'n_neighbors': 5}</td>\n",
              "    </tr>\n",
              "    <tr>\n",
              "      <th>6</th>\n",
              "      <td>PHQ9_GAD7</td>\n",
              "      <td>0.986084</td>\n",
              "      <td>1.000000</td>\n",
              "      <td>1.000000</td>\n",
              "      <td>1.000000</td>\n",
              "      <td>1.000000</td>\n",
              "      <td>{'n_neighbors': 7}</td>\n",
              "    </tr>\n",
              "    <tr>\n",
              "      <th>7</th>\n",
              "      <td>PRFQ</td>\n",
              "      <td>0.911475</td>\n",
              "      <td>0.926471</td>\n",
              "      <td>0.867647</td>\n",
              "      <td>0.923681</td>\n",
              "      <td>0.865287</td>\n",
              "      <td>{'n_neighbors': 9}</td>\n",
              "    </tr>\n",
              "    <tr>\n",
              "      <th>8</th>\n",
              "      <td>PCL5</td>\n",
              "      <td>0.830898</td>\n",
              "      <td>0.780488</td>\n",
              "      <td>0.902439</td>\n",
              "      <td>0.775684</td>\n",
              "      <td>0.899510</td>\n",
              "      <td>{'n_neighbors': 10}</td>\n",
              "    </tr>\n",
              "    <tr>\n",
              "      <th>9</th>\n",
              "      <td>NAQ_R</td>\n",
              "      <td>0.956250</td>\n",
              "      <td>0.944444</td>\n",
              "      <td>0.930556</td>\n",
              "      <td>0.943750</td>\n",
              "      <td>0.929893</td>\n",
              "      <td>{'n_neighbors': 2}</td>\n",
              "    </tr>\n",
              "    <tr>\n",
              "      <th>10</th>\n",
              "      <td>IESR</td>\n",
              "      <td>0.944135</td>\n",
              "      <td>0.972222</td>\n",
              "      <td>0.972222</td>\n",
              "      <td>0.970370</td>\n",
              "      <td>0.969362</td>\n",
              "      <td>{'n_neighbors': 4}</td>\n",
              "    </tr>\n",
              "    <tr>\n",
              "      <th>11</th>\n",
              "      <td>sPID-5</td>\n",
              "      <td>0.965747</td>\n",
              "      <td>0.923077</td>\n",
              "      <td>0.923077</td>\n",
              "      <td>0.922039</td>\n",
              "      <td>0.922359</td>\n",
              "      <td>{'n_neighbors': 7}</td>\n",
              "    </tr>\n",
              "    <tr>\n",
              "      <th>12</th>\n",
              "      <td>DT_CC</td>\n",
              "      <td>0.713606</td>\n",
              "      <td>0.693878</td>\n",
              "      <td>0.734694</td>\n",
              "      <td>0.693367</td>\n",
              "      <td>0.734251</td>\n",
              "      <td>{'n_neighbors': 10}</td>\n",
              "    </tr>\n",
              "    <tr>\n",
              "      <th>13</th>\n",
              "      <td>DT_JI</td>\n",
              "      <td>0.589479</td>\n",
              "      <td>0.528736</td>\n",
              "      <td>0.643678</td>\n",
              "      <td>0.522426</td>\n",
              "      <td>0.641975</td>\n",
              "      <td>{'n_neighbors': 10}</td>\n",
              "    </tr>\n",
              "    <tr>\n",
              "      <th>14</th>\n",
              "      <td>PID5</td>\n",
              "      <td>0.923046</td>\n",
              "      <td>0.927711</td>\n",
              "      <td>0.915663</td>\n",
              "      <td>0.927616</td>\n",
              "      <td>0.915614</td>\n",
              "      <td>{'n_neighbors': 5}</td>\n",
              "    </tr>\n",
              "  </tbody>\n",
              "</table>\n",
              "</div>\n",
              "      <button class=\"colab-df-convert\" onclick=\"convertToInteractive('df-d10ff3c8-1b68-43d1-89c3-176baf3f0fab')\"\n",
              "              title=\"Convert this dataframe to an interactive table.\"\n",
              "              style=\"display:none;\">\n",
              "        \n",
              "  <svg xmlns=\"http://www.w3.org/2000/svg\" height=\"24px\"viewBox=\"0 0 24 24\"\n",
              "       width=\"24px\">\n",
              "    <path d=\"M0 0h24v24H0V0z\" fill=\"none\"/>\n",
              "    <path d=\"M18.56 5.44l.94 2.06.94-2.06 2.06-.94-2.06-.94-.94-2.06-.94 2.06-2.06.94zm-11 1L8.5 8.5l.94-2.06 2.06-.94-2.06-.94L8.5 2.5l-.94 2.06-2.06.94zm10 10l.94 2.06.94-2.06 2.06-.94-2.06-.94-.94-2.06-.94 2.06-2.06.94z\"/><path d=\"M17.41 7.96l-1.37-1.37c-.4-.4-.92-.59-1.43-.59-.52 0-1.04.2-1.43.59L10.3 9.45l-7.72 7.72c-.78.78-.78 2.05 0 2.83L4 21.41c.39.39.9.59 1.41.59.51 0 1.02-.2 1.41-.59l7.78-7.78 2.81-2.81c.8-.78.8-2.07 0-2.86zM5.41 20L4 18.59l7.72-7.72 1.47 1.35L5.41 20z\"/>\n",
              "  </svg>\n",
              "      </button>\n",
              "      \n",
              "  <style>\n",
              "    .colab-df-container {\n",
              "      display:flex;\n",
              "      flex-wrap:wrap;\n",
              "      gap: 12px;\n",
              "    }\n",
              "\n",
              "    .colab-df-convert {\n",
              "      background-color: #E8F0FE;\n",
              "      border: none;\n",
              "      border-radius: 50%;\n",
              "      cursor: pointer;\n",
              "      display: none;\n",
              "      fill: #1967D2;\n",
              "      height: 32px;\n",
              "      padding: 0 0 0 0;\n",
              "      width: 32px;\n",
              "    }\n",
              "\n",
              "    .colab-df-convert:hover {\n",
              "      background-color: #E2EBFA;\n",
              "      box-shadow: 0px 1px 2px rgba(60, 64, 67, 0.3), 0px 1px 3px 1px rgba(60, 64, 67, 0.15);\n",
              "      fill: #174EA6;\n",
              "    }\n",
              "\n",
              "    [theme=dark] .colab-df-convert {\n",
              "      background-color: #3B4455;\n",
              "      fill: #D2E3FC;\n",
              "    }\n",
              "\n",
              "    [theme=dark] .colab-df-convert:hover {\n",
              "      background-color: #434B5C;\n",
              "      box-shadow: 0px 1px 3px 1px rgba(0, 0, 0, 0.15);\n",
              "      filter: drop-shadow(0px 1px 2px rgba(0, 0, 0, 0.3));\n",
              "      fill: #FFFFFF;\n",
              "    }\n",
              "  </style>\n",
              "\n",
              "      <script>\n",
              "        const buttonEl =\n",
              "          document.querySelector('#df-d10ff3c8-1b68-43d1-89c3-176baf3f0fab button.colab-df-convert');\n",
              "        buttonEl.style.display =\n",
              "          google.colab.kernel.accessAllowed ? 'block' : 'none';\n",
              "\n",
              "        async function convertToInteractive(key) {\n",
              "          const element = document.querySelector('#df-d10ff3c8-1b68-43d1-89c3-176baf3f0fab');\n",
              "          const dataTable =\n",
              "            await google.colab.kernel.invokeFunction('convertToInteractive',\n",
              "                                                     [key], {});\n",
              "          if (!dataTable) return;\n",
              "\n",
              "          const docLinkHtml = 'Like what you see? Visit the ' +\n",
              "            '<a target=\"_blank\" href=https://colab.research.google.com/notebooks/data_table.ipynb>data table notebook</a>'\n",
              "            + ' to learn more about interactive tables.';\n",
              "          element.innerHTML = '';\n",
              "          dataTable['output_type'] = 'display_data';\n",
              "          await google.colab.output.renderOutput(dataTable, element);\n",
              "          const docLink = document.createElement('div');\n",
              "          docLink.innerHTML = docLinkHtml;\n",
              "          element.appendChild(docLink);\n",
              "        }\n",
              "      </script>\n",
              "    </div>\n",
              "  </div>\n",
              "  "
            ]
          },
          "metadata": {},
          "execution_count": 25
        }
      ]
    },
    {
      "cell_type": "markdown",
      "source": [
        "##top 20 features"
      ],
      "metadata": {
        "id": "XWr-LjbJec58"
      }
    },
    {
      "cell_type": "code",
      "source": [
        "print(\"Average accuracy on datasets\")\n",
        "print(f\"{'Model' : <20}{'All features' : ^15}{ 'Top 20% features' : ^15}\")\n",
        "print(f\"{'Random Forest' : <20}{round(forest_results.iloc[:,2].mean(), 3) : ^15}{round(forest_results.iloc[:,3].mean(), 3) : ^15}\")\n",
        "print(f\"{'Decision Tree' : <20}{round(tree_results.iloc[:,2].mean(), 3) : ^15}{round(tree_results.iloc[:,3].mean(), 3) : ^15}\")\n",
        "print(f\"{'SVC' : <20}{round(svc_results.iloc[:,2].mean(), 3) : ^15}{round(svc_results.iloc[:,3].mean(), 3) : ^15}\")\n",
        "print(f\"{'KNN' : <20}{round(knn_results.iloc[:,2].mean(), 3) : ^15}{round(knn_results.iloc[:,3].mean(), 3) : ^15}\")"
      ],
      "metadata": {
        "colab": {
          "base_uri": "https://localhost:8080/"
        },
        "id": "d5PR7igCLviL",
        "outputId": "9e08ee6f-fdd1-4988-b615-6e2293a6d653"
      },
      "execution_count": null,
      "outputs": [
        {
          "output_type": "stream",
          "name": "stdout",
          "text": [
            "Average accuracy on datasets\n",
            "Model                All features  Top 20% features\n",
            "Random Forest            0.866          0.866     \n",
            "Decision Tree            0.832          0.838     \n",
            "SVC                      0.867          0.818     \n",
            "KNN                      0.835          0.852     \n"
          ]
        }
      ]
    },
    {
      "cell_type": "code",
      "source": [
        "print(\"Average f1 score on datasets\")\n",
        "print(f\"{'Model' : <20}{'All features' : ^15}{ 'Top 20% features' : ^15}\")\n",
        "print(f\"{'Random Forest' : <20}{round(forest_results.iloc[:,4].mean(), 3) : ^15}{round(forest_results.iloc[:,5].mean(), 3) : ^15}\")\n",
        "print(f\"{'Decision Tree' : <20}{round(tree_results.iloc[:,4].mean(), 3) : ^15}{round(tree_results.iloc[:,5].mean(), 3) : ^15}\")\n",
        "print(f\"{'SVC' : <20}{round(svc_results.iloc[:,4].mean(), 3) : ^15}{round(svc_results.iloc[:,5].mean(), 3) : ^15}\")\n",
        "print(f\"{'KNN' : <20}{round(knn_results.iloc[:,4].mean(), 3) : ^15}{round(knn_results.iloc[:,5].mean(), 3) : ^15}\")"
      ],
      "metadata": {
        "colab": {
          "base_uri": "https://localhost:8080/"
        },
        "id": "jzDru5iTs1Fy",
        "outputId": "233306dc-7b32-4ad0-b54f-4d619216905c"
      },
      "execution_count": null,
      "outputs": [
        {
          "output_type": "stream",
          "name": "stdout",
          "text": [
            "Average f1 score on datasets\n",
            "Model                All features  Top 20% features\n",
            "Random Forest            0.865          0.864     \n",
            "Decision Tree            0.829          0.835     \n",
            "SVC                      0.865          0.815     \n",
            "KNN                      0.834          0.85      \n"
          ]
        }
      ]
    },
    {
      "cell_type": "code",
      "source": [
        "for i, name in enumerate(names):\n",
        "  print(name + \": \",forest_top_20[i],tree_top_20[i],svc_top_20[i],knn_top_20[i])"
      ],
      "metadata": {
        "colab": {
          "base_uri": "https://localhost:8080/"
        },
        "id": "oWHyJYxdKbGG",
        "outputId": "a5254055-a910-4c90-ba2f-e83271c95c96"
      },
      "execution_count": null,
      "outputs": [
        {
          "output_type": "stream",
          "name": "stdout",
          "text": [
            "IADQ:  [4, 1] [1, 4] [1, 4] [1, 4]\n",
            "BF_CTU:  [6, 4] [6, 4] [4, 2] [4, 6]\n",
            "BF_OU:  [6, 7] [6, 0] [6, 0] [6, 2]\n",
            "BF_V:  [7, 4] [7, 0] [4, 7] [7, 4]\n",
            "DDDT:  [0, 10, 1] [10, 0, 1] [0, 4, 11] [0, 7, 10]\n",
            "PRMQ:  [7, 1, 12, 14] [1, 7, 12, 4] [1, 12, 5, 7] [1, 12, 5, 4]\n",
            "PHQ9_GAD7:  [7, 1, 6, 0] [1, 7, 6, 12] [7, 0, 1, 6] [7, 13, 5, 6]\n",
            "PRFQ:  [8, 7, 11, 6] [8, 6, 15, 2] [8, 11, 6, 15] [8, 2, 11, 7]\n",
            "PCL5:  [0, 4, 2, 11] [4, 13, 18, 10] [4, 11, 1, 2] [11, 19, 18, 13]\n",
            "NAQ_R:  [12, 16, 9, 1, 8] [12, 16, 6, 21, 13] [9, 12, 21, 1, 5] [17, 0, 15, 6, 3]\n",
            "IESR:  [8, 18, 15, 14, 13] [8, 14, 15, 11, 6] [18, 8, 1, 16, 19] [18, 14, 16, 1, 11]\n",
            "sPID-5:  [20, 23, 11, 4, 2] [23, 20, 16, 14, 11] [23, 11, 20, 16, 2] [23, 20, 24, 14, 2]\n",
            "DT_CC:  [10, 13, 9, 6, 8, 4] [9, 10, 13, 8, 25, 16] [2, 17, 5, 18, 24, 23] [9, 10, 5, 13, 8, 2]\n",
            "DT_JI:  [24, 2, 18, 19, 22, 15] [2, 18, 6, 11, 9, 17] [2, 18, 17, 14, 3, 10] [2, 18, 15, 19, 6, 10]\n",
            "PID5:  [1, 71, 152, 35, 153, 189, 206, 51, 54, 197, 135, 191, 200, 10, 18, 69, 160, 132, 63, 56, 15, 186, 207, 53, 40, 130, 21, 216, 102, 142, 25, 204, 182, 41, 149, 159, 60, 151, 194, 0, 145, 91, 163, 203] [1, 132, 197, 68, 218, 168, 8, 202, 63, 148, 30, 163, 171, 17, 32, 58, 187, 127, 115, 103, 0, 2, 3, 4, 5, 6, 7, 9, 10, 11, 12, 13, 14, 15, 16, 18, 19, 20, 21, 22, 23, 24, 25, 26] [1, 56, 159, 132, 186, 189, 63, 174, 148, 153, 191, 202, 25, 142, 177, 10, 206, 152, 35, 175, 16, 33, 171, 168, 18, 80, 71, 53, 47, 126, 197, 36, 194, 6, 216, 135, 118, 138, 77, 122, 43, 200, 130, 41] [177, 1, 47, 132, 118, 80, 153, 188, 9, 172, 186, 191, 194, 168, 199, 210, 62, 180, 63, 167, 190, 149, 60, 196, 147, 101, 162, 154, 201, 14, 79, 184, 133, 176, 25, 111, 200, 70, 26, 158, 3, 64, 208, 13]\n"
          ]
        }
      ]
    },
    {
      "cell_type": "code",
      "source": [
        "print(\"Common top 20% items beetwen the models\")\n",
        "print(f\"{'Dataset': <10}{'Percentage' : ^10}\")\n",
        "for i, name in enumerate(names):\n",
        "  a = set(forest_top_20[i])\n",
        "  b = set(tree_top_20[i])\n",
        "  c = set(svc_top_20[i])\n",
        "  d = set(knn_top_20[i])\n",
        "  r = len(a & b & c & d)/len(a)\n",
        "  print(f\"{name : <10}{str(round((r*100),2)) + '%' : ^10}\")"
      ],
      "metadata": {
        "colab": {
          "base_uri": "https://localhost:8080/"
        },
        "id": "pfB2FanKPuLq",
        "outputId": "f47a7f7b-4dbe-4451-9f6c-78fd09752485"
      },
      "execution_count": null,
      "outputs": [
        {
          "output_type": "stream",
          "name": "stdout",
          "text": [
            "Common top 20% items beetwen the models\n",
            "Dataset   Percentage\n",
            "IADQ        100.0%  \n",
            "BF_CTU      50.0%   \n",
            "BF_OU       50.0%   \n",
            "BF_V        50.0%   \n",
            "DDDT        33.33%  \n",
            "PRMQ        50.0%   \n",
            "PHQ9_GAD7   50.0%   \n",
            "PRFQ        25.0%   \n",
            "PCL5         0.0%   \n",
            "NAQ_R        0.0%   \n",
            "IESR         0.0%   \n",
            "sPID-5      40.0%   \n",
            "DT_CC        0.0%   \n",
            "DT_JI       33.33%  \n",
            "PID5        9.09%   \n"
          ]
        }
      ]
    },
    {
      "cell_type": "code",
      "source": [
        "models = [\"forest\", \"tree\", \"svc\", \"knn\"]\n",
        "temp = np.zeros((len(models),len(models)))\n",
        "for i,elem1 in enumerate(models):\n",
        "  for j,elem2 in enumerate(models):\n",
        "    sum = 0\n",
        "    for n,name in enumerate(names):\n",
        "      a = set(globals()[elem1 + \"_top_20\"][n])\n",
        "      b = set(globals()[elem2 + \"_top_20\"][n])\n",
        "      sum += (len(a & b)/len(a))*items[n] \n",
        "    temp[i][j] = sum/items_sum\n",
        "\n",
        "common_matrix = pd.DataFrame(temp, columns = models, index = models)\n",
        "mask = np.tril(np.ones_like(common_matrix))\n",
        "\n",
        "plt.figure(figsize=(10,10))\n",
        "heat_map = sns.heatmap(common_matrix, linewidth = 1 , annot = True, mask = mask)\n",
        "plt.title( \"Mean ratio of common top 20% items\" )\n",
        "plt.show()"
      ],
      "metadata": {
        "colab": {
          "base_uri": "https://localhost:8080/",
          "height": 607
        },
        "id": "CCqqahsi8_oe",
        "outputId": "e1541a24-a2ae-4f8d-9e5e-93804b5c7bfa"
      },
      "execution_count": null,
      "outputs": [
        {
          "output_type": "display_data",
          "data": {
            "text/plain": [
              "<Figure size 720x720 with 2 Axes>"
            ],
            "image/png": "[encoded data removed]"
          },
          "metadata": {
            "needs_background": "light"
          }
        }
      ]
    },
    {
      "cell_type": "code",
      "source": [
        "temp = np.zeros((len(models),len(models)))\n",
        "for i,elem1 in enumerate(models):\n",
        "  for j,elem2 in enumerate(models):\n",
        "    sum = 0\n",
        "    for n,name in enumerate(names):\n",
        "      a = set(globals()[elem1 + \"_top_20\"][n])\n",
        "      b = set(globals()[elem2 + \"_top_20\"][n])\n",
        "      sum += jaccard_similarity(a,b)\n",
        "    temp[i][j] = sum/len(names)\n",
        "\n",
        "jaccard_matrix = pd.DataFrame(temp, columns = models, index = models)\n",
        "mask = np.tril(np.ones_like(jaccard_matrix))\n",
        "\n",
        "plt.figure(figsize=(10,10))\n",
        "heat_map = sns.heatmap(jaccard_matrix, linewidth = 1 , annot = True, mask = mask)\n",
        "plt.title( \"Mean jaccard similarity between top 20% items\" )\n",
        "plt.show()"
      ],
      "metadata": {
        "colab": {
          "base_uri": "https://localhost:8080/",
          "height": 607
        },
        "id": "CDJr58PZGNWy",
        "outputId": "246e6842-dd7f-4337-e36e-c331584b4e98"
      },
      "execution_count": null,
      "outputs": [
        {
          "output_type": "display_data",
          "data": {
            "text/plain": [
              "<Figure size 720x720 with 2 Axes>"
            ],
            "image/png": "[encoded data removed]"
          },
          "metadata": {
            "needs_background": "light"
          }
        }
      ]
    },
    {
      "cell_type": "code",
      "source": [
        "temp = np.zeros((len(models),len(models)))\n",
        "for i,elem1 in enumerate(models):\n",
        "  for j,elem2 in enumerate(models):\n",
        "    sum = 0\n",
        "    for n,name in enumerate(names):\n",
        "      a = [int(elem in globals()[elem1 + \"_top_20\"][n]) for elem in np.arange(items[n])]\n",
        "      b = [int(elem in globals()[elem2 + \"_top_20\"][n]) for elem in np.arange(items[n])]\n",
        "      sum += cosine_similarity(a,b)\n",
        "    temp[i][j] = sum/len(names)\n",
        "\n",
        "cosine_matrix = pd.DataFrame(temp, columns = models, index = models)\n",
        "mask = np.tril(np.ones_like(cosine_matrix))\n",
        "\n",
        "plt.figure(figsize=(10,10))\n",
        "heat_map = sns.heatmap(cosine_matrix, linewidth = 1 , annot = True, mask = mask)\n",
        "plt.title( \"Mean cosine similarity between top 20% items\" )\n",
        "plt.show()"
      ],
      "metadata": {
        "colab": {
          "base_uri": "https://localhost:8080/",
          "height": 607
        },
        "id": "UCJ0PSbUKK_5",
        "outputId": "3eaf2259-4b5a-415f-d939-55dd13977dd9"
      },
      "execution_count": null,
      "outputs": [
        {
          "output_type": "display_data",
          "data": {
            "text/plain": [
              "<Figure size 720x720 with 2 Axes>"
            ],
            "image/png": "[encoded data removed]"
          },
          "metadata": {
            "needs_background": "light"
          }
        }
      ]
    },
    {
      "cell_type": "code",
      "source": [
        "X = [\"Forest\",\"Tree\",\"SVC\",\"KNN\"]\n",
        "X_axis = np.arange(len(X))\n",
        "\n",
        "nrows = 5\n",
        "ncols = 3\n",
        "\n",
        "fig = plt.figure(figsize=(20, 20))\n",
        "axes = fig.subplots(nrows=nrows, ncols=ncols)\n",
        "\n",
        "for i in range(nrows):\n",
        "    for j in range(ncols):\n",
        "      n = i*ncols+j\n",
        "      ax = axes[i][j]\n",
        "      ax.bar(X_axis - 0.2, [forest_results_temp[n][2],tree_results_temp[n][2],svc_results_temp[n][2],knn_results_temp[n][2]], 0.4)\n",
        "      ax.bar(X_axis + 0.2, [forest_results_temp[n][3],tree_results_temp[n][3],svc_results_temp[n][3],knn_results_temp[n][3]], 0.4)\n",
        "      ax.set_xticks(X_axis)\n",
        "      ax.set_xticklabels(X)\n",
        "      ax.set_title(names[n])\n",
        "\n",
        "fig.suptitle(\"Accuracy accross datasets\", fontsize=20)\n",
        "fig.legend([\"Every features\",\"Top 20% features\"], loc = 10, bbox_to_anchor= (0.42, 0.82), ncol = 2)\n",
        "plt.show()"
      ],
      "metadata": {
        "colab": {
          "base_uri": "https://localhost:8080/",
          "height": 1000
        },
        "id": "U8fel4Cp257w",
        "outputId": "3c5564a4-7547-4eb0-f7a5-d987e0981f83"
      },
      "execution_count": null,
      "outputs": [
        {
          "output_type": "display_data",
          "data": {
            "text/plain": [
              "<Figure size 1440x1440 with 15 Axes>"
            ],
            "image/png": "[encoded data removed]"
          },
          "metadata": {
            "needs_background": "light"
          }
        }
      ]
    },
    {
      "cell_type": "code",
      "source": [
        "X = [\"Forest\",\"Tree\",\"SVC\",\"KNN\"]\n",
        "X_axis = np.arange(len(X))\n",
        "\n",
        "nrows = 5\n",
        "ncols = 3\n",
        "\n",
        "fig = plt.figure(figsize=(20, 20))\n",
        "axes = fig.subplots(nrows=nrows, ncols=ncols)\n",
        "\n",
        "for i in range(nrows):\n",
        "    for j in range(ncols):\n",
        "      n = i*ncols+j\n",
        "      ax = axes[i][j]\n",
        "      ax.bar(X_axis - 0.2, [forest_results_temp[n][2],tree_results_temp[n][2],svc_results_temp[n][4],knn_results_temp[n][4]], 0.4)\n",
        "      ax.bar(X_axis + 0.2, [forest_results_temp[n][3],tree_results_temp[n][3],svc_results_temp[n][5],knn_results_temp[n][5]], 0.4)\n",
        "      ax.set_xticks(X_axis)\n",
        "      ax.set_xticklabels(X)\n",
        "      ax.set_title(names[n])\n",
        "\n",
        "fig.suptitle(\"f1 score accross datasets\", fontsize=20)\n",
        "fig.legend([\"Every features\",\"Top 20% features\"], loc = 10, bbox_to_anchor= (0.42, 0.82), ncol = 2)\n",
        "plt.show()"
      ],
      "metadata": {
        "colab": {
          "base_uri": "https://localhost:8080/",
          "height": 1000
        },
        "id": "dT0u1DVEJuJr",
        "outputId": "4c1bc202-4a93-4bc7-fb04-fc3b83b355d3"
      },
      "execution_count": null,
      "outputs": [
        {
          "output_type": "display_data",
          "data": {
            "text/plain": [
              "<Figure size 1440x1440 with 15 Axes>"
            ],
            "image/png": "[encoded data removed]"
          },
          "metadata": {
            "needs_background": "light"
          }
        }
      ]
    }
  ]
}